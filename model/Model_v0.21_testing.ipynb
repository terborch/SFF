{
 "cells": [
  {
   "cell_type": "markdown",
   "metadata": {},
   "source": [
    "#  Data Handling for Time Dependent Parameters\n",
    "* recieve data on external parameters and consumption profiles\n",
    "* index them with the datetime format\n",
    "* plot the given data for validation\n",
    "\n",
    "Author: nils ter-borch \\\n",
    "Context: EPFL master project on Farm energy systems - spring 2020"
   ]
  },
  {
   "cell_type": "code",
   "execution_count": 1,
   "metadata": {},
   "outputs": [],
   "source": [
    "# Modules for Data Reception\n",
    "import pandas as pd\n",
    "import matplotlib.pyplot as plt\n",
    "from datetime import datetime, timedelta\n",
    "import numpy as np\n",
    "\n",
    "# displax options for pandas\n",
    "pd.set_option(\"display.precision\", 3)\n",
    "\n",
    "# uncomment to choose a signle day for simplification\n",
    "# day = '2020-01-01'\n",
    "day = '2019-07-05'"
   ]
  },
  {
   "cell_type": "markdown",
   "metadata": {},
   "source": [
    "## External temporal parameters\n",
    "* Irradiance in $W/m^2$\n",
    "* Temperature in $C^\\circ$\n",
    "* Sample frequency 10min\n",
    "* Sample period first jan 2019 to first an 2020\n",
    "* Sample location Liebensberg Switzerland\n",
    "* Source http://www.agrometeo.ch/fr/meteorology/datas"
   ]
  },
  {
   "cell_type": "code",
   "execution_count": 2,
   "metadata": {},
   "outputs": [],
   "source": [
    "# open a file in the data folder\n",
    "def Open_data_csv(file,separator):\n",
    "     return pd.read_csv(r'C:\\Users\\poopy\\Desktop\\PdM\\GurobiPy\\data\\{}'.format(file) , sep = separator, engine='python')\n",
    "\n",
    "# convert a dataframe column to datetime and reset its index to the date\n",
    "def To_DateTime(df, column):\n",
    "    # check if the conversion was already made\n",
    "    if type(df.index) is not pd.core.indexes.datetimes.DatetimeIndex:\n",
    "    \n",
    "        df[[column]] = pd.DataFrame(pd.to_datetime(df[column], format='%d.%m.%Y %H:%M'))\n",
    "        df.set_index(column, inplace = True)\n",
    "\n",
    "# Get a timedelta object from a given string\n",
    "# fromat hrs_min_sec as \"00:00:00\" hours minutes seconds\n",
    "def timeD(delta):\n",
    "    t = datetime.strptime(delta,\"%H:%M:%S\")\n",
    "    return timedelta(hours=t.hour, minutes=t.minute, seconds=t.second)"
   ]
  },
  {
   "cell_type": "code",
   "execution_count": 3,
   "metadata": {},
   "outputs": [
    {
     "data": {
      "text/html": [
       "<div>\n",
       "<style scoped>\n",
       "    .dataframe tbody tr th:only-of-type {\n",
       "        vertical-align: middle;\n",
       "    }\n",
       "\n",
       "    .dataframe tbody tr th {\n",
       "        vertical-align: top;\n",
       "    }\n",
       "\n",
       "    .dataframe thead th {\n",
       "        text-align: right;\n",
       "    }\n",
       "</style>\n",
       "<table border=\"1\" class=\"dataframe\">\n",
       "  <thead>\n",
       "    <tr style=\"text-align: right;\">\n",
       "      <th></th>\n",
       "      <th>Irradiance</th>\n",
       "      <th>Temperature</th>\n",
       "    </tr>\n",
       "    <tr>\n",
       "      <th>Date</th>\n",
       "      <th></th>\n",
       "      <th></th>\n",
       "    </tr>\n",
       "  </thead>\n",
       "  <tbody>\n",
       "    <tr>\n",
       "      <td>2019-07-05 14:00:00</td>\n",
       "      <td>113</td>\n",
       "      <td>28.5</td>\n",
       "    </tr>\n",
       "    <tr>\n",
       "      <td>2019-07-05 14:10:00</td>\n",
       "      <td>110</td>\n",
       "      <td>28.6</td>\n",
       "    </tr>\n",
       "    <tr>\n",
       "      <td>2019-07-05 14:20:00</td>\n",
       "      <td>108</td>\n",
       "      <td>28.7</td>\n",
       "    </tr>\n",
       "    <tr>\n",
       "      <td>2019-07-05 14:30:00</td>\n",
       "      <td>105</td>\n",
       "      <td>28.5</td>\n",
       "    </tr>\n",
       "    <tr>\n",
       "      <td>2019-07-05 14:40:00</td>\n",
       "      <td>102</td>\n",
       "      <td>28.7</td>\n",
       "    </tr>\n",
       "    <tr>\n",
       "      <td>2019-07-05 14:50:00</td>\n",
       "      <td>99</td>\n",
       "      <td>28.7</td>\n",
       "    </tr>\n",
       "    <tr>\n",
       "      <td>2019-07-05 15:00:00</td>\n",
       "      <td>95</td>\n",
       "      <td>28.6</td>\n",
       "    </tr>\n",
       "  </tbody>\n",
       "</table>\n",
       "</div>"
      ],
      "text/plain": [
       "                     Irradiance  Temperature\n",
       "Date                                        \n",
       "2019-07-05 14:00:00         113         28.5\n",
       "2019-07-05 14:10:00         110         28.6\n",
       "2019-07-05 14:20:00         108         28.7\n",
       "2019-07-05 14:30:00         105         28.5\n",
       "2019-07-05 14:40:00         102         28.7\n",
       "2019-07-05 14:50:00          99         28.7\n",
       "2019-07-05 15:00:00          95         28.6"
      ]
     },
     "execution_count": 3,
     "metadata": {},
     "output_type": "execute_result"
    }
   ],
   "source": [
    "# cretae a dataframe from a csv file\n",
    "file = 'meteo_Liebensberg_10min.csv'\n",
    "df_meteo = Open_data_csv(file,';')\n",
    "\n",
    "# set the index to a datetime value\n",
    "To_DateTime(df_meteo, 'Date')\n",
    "\n",
    "# select a signle day and display it\n",
    "df_day = df_meteo.truncate(before = day, after = day + ' 23:50:00')\n",
    "\n",
    "# Display the dataframe\n",
    "df_day[day + ' 14:00:00': day + ' 15:00:00']"
   ]
  },
  {
   "cell_type": "code",
   "execution_count": 4,
   "metadata": {},
   "outputs": [
    {
     "data": {
      "text/html": [
       "<div>\n",
       "<style scoped>\n",
       "    .dataframe tbody tr th:only-of-type {\n",
       "        vertical-align: middle;\n",
       "    }\n",
       "\n",
       "    .dataframe tbody tr th {\n",
       "        vertical-align: top;\n",
       "    }\n",
       "\n",
       "    .dataframe thead th {\n",
       "        text-align: right;\n",
       "    }\n",
       "</style>\n",
       "<table border=\"1\" class=\"dataframe\">\n",
       "  <thead>\n",
       "    <tr style=\"text-align: right;\">\n",
       "      <th></th>\n",
       "      <th>Irradiance</th>\n",
       "      <th>Temperature</th>\n",
       "    </tr>\n",
       "    <tr>\n",
       "      <th>Date</th>\n",
       "      <th></th>\n",
       "      <th></th>\n",
       "    </tr>\n",
       "  </thead>\n",
       "  <tbody>\n",
       "    <tr>\n",
       "      <td>2019-07-05 10:00:00</td>\n",
       "      <td>742</td>\n",
       "      <td>25.750</td>\n",
       "    </tr>\n",
       "    <tr>\n",
       "      <td>2019-07-05 11:00:00</td>\n",
       "      <td>767</td>\n",
       "      <td>26.550</td>\n",
       "    </tr>\n",
       "    <tr>\n",
       "      <td>2019-07-05 12:00:00</td>\n",
       "      <td>764</td>\n",
       "      <td>27.300</td>\n",
       "    </tr>\n",
       "    <tr>\n",
       "      <td>2019-07-05 13:00:00</td>\n",
       "      <td>719</td>\n",
       "      <td>28.150</td>\n",
       "    </tr>\n",
       "    <tr>\n",
       "      <td>2019-07-05 14:00:00</td>\n",
       "      <td>637</td>\n",
       "      <td>28.617</td>\n",
       "    </tr>\n",
       "    <tr>\n",
       "      <td>2019-07-05 15:00:00</td>\n",
       "      <td>509</td>\n",
       "      <td>28.550</td>\n",
       "    </tr>\n",
       "  </tbody>\n",
       "</table>\n",
       "</div>"
      ],
      "text/plain": [
       "                     Irradiance  Temperature\n",
       "Date                                        \n",
       "2019-07-05 10:00:00         742       25.750\n",
       "2019-07-05 11:00:00         767       26.550\n",
       "2019-07-05 12:00:00         764       27.300\n",
       "2019-07-05 13:00:00         719       28.150\n",
       "2019-07-05 14:00:00         637       28.617\n",
       "2019-07-05 15:00:00         509       28.550"
      ]
     },
     "execution_count": 4,
     "metadata": {},
     "output_type": "execute_result"
    }
   ],
   "source": [
    "# Downsampling, taking the average Temperature and the sum of Irradiance \n",
    "# !!! The units of Irradiance are now Wh/m^2/h = W/m^2\n",
    "df_day = df_day.resample(timeD(\"01:00:00\")).agg({'Irradiance': np.sum, 'Temperature': np.mean})\n",
    "\n",
    "# Display the dataframe\n",
    "df_day[day + ' 10:00:00': day + ' 15:00:00']"
   ]
  },
  {
   "cell_type": "code",
   "execution_count": 5,
   "metadata": {},
   "outputs": [
    {
     "data": {
      "image/png": "[encoded data removed]",
      "text/plain": [
       "<Figure size 432x288 with 1 Axes>"
      ]
     },
     "metadata": {
      "needs_background": "light"
     },
     "output_type": "display_data"
    }
   ],
   "source": [
    "# Plot Irradiance as a function of time\n",
    "df_day['Irradiance'].plot(color = 'r')\n",
    "plt.show()"
   ]
  },
  {
   "cell_type": "code",
   "execution_count": 6,
   "metadata": {},
   "outputs": [
    {
     "data": {
      "image/png": "[encoded data removed]",
      "text/plain": [
       "<Figure size 432x288 with 1 Axes>"
      ]
     },
     "metadata": {
      "needs_background": "light"
     },
     "output_type": "display_data"
    }
   ],
   "source": [
    "# Plot Temperature as a function of time\n",
    "df_day['Temperature'].plot()\n",
    "plt.show()"
   ]
  },
  {
   "cell_type": "markdown",
   "metadata": {},
   "source": [
    "## Internal temporal parameters\n",
    "* Electricity consumption profile\n",
    "* Hot Water consumption profile\n",
    "* Heating gains profile\n",
    "* Hourly basis, dummy values based off commerial buildings (ref. Paul Stadler EPFL Thesis 2018)\n",
    "* Profiles are relative to the peak load (no units)"
   ]
  },
  {
   "cell_type": "code",
   "execution_count": 7,
   "metadata": {},
   "outputs": [],
   "source": [
    "# handling of a csv file created by user\n",
    "def handle_csv(file, first_column_index):\n",
    "    # open the 'unit_costs.csv' file in the data folder\n",
    "    df = Open_data_csv(file,',')\n",
    "\n",
    "    # remove the wonky characters from the first column's name\n",
    "    name = df.columns[0].split('¿')[1]\n",
    "    df.rename(columns={df.columns[0] : name}, inplace = True)\n",
    "    \n",
    "    if first_column_index:\n",
    "        # set the first column as the dataframe index\n",
    "        df.set_index(df.columns[0], inplace = True)\n",
    "    \n",
    "    return df"
   ]
  },
  {
   "cell_type": "code",
   "execution_count": 8,
   "metadata": {},
   "outputs": [
    {
     "data": {
      "text/html": [
       "<div>\n",
       "<style scoped>\n",
       "    .dataframe tbody tr th:only-of-type {\n",
       "        vertical-align: middle;\n",
       "    }\n",
       "\n",
       "    .dataframe tbody tr th {\n",
       "        vertical-align: top;\n",
       "    }\n",
       "\n",
       "    .dataframe thead th {\n",
       "        text-align: right;\n",
       "    }\n",
       "</style>\n",
       "<table border=\"1\" class=\"dataframe\">\n",
       "  <thead>\n",
       "    <tr style=\"text-align: right;\">\n",
       "      <th></th>\n",
       "      <th>Electricity</th>\n",
       "      <th>Hot_Water</th>\n",
       "      <th>Gains</th>\n",
       "    </tr>\n",
       "    <tr>\n",
       "      <th>Date</th>\n",
       "      <th></th>\n",
       "      <th></th>\n",
       "      <th></th>\n",
       "    </tr>\n",
       "  </thead>\n",
       "  <tbody>\n",
       "    <tr>\n",
       "      <td>2019-07-05 10:00:00</td>\n",
       "      <td>0.20</td>\n",
       "      <td>0.0</td>\n",
       "      <td>0.7</td>\n",
       "    </tr>\n",
       "    <tr>\n",
       "      <td>2019-07-05 11:00:00</td>\n",
       "      <td>0.05</td>\n",
       "      <td>0.0</td>\n",
       "      <td>0.5</td>\n",
       "    </tr>\n",
       "    <tr>\n",
       "      <td>2019-07-05 12:00:00</td>\n",
       "      <td>0.50</td>\n",
       "      <td>0.0</td>\n",
       "      <td>0.5</td>\n",
       "    </tr>\n",
       "    <tr>\n",
       "      <td>2019-07-05 13:00:00</td>\n",
       "      <td>0.70</td>\n",
       "      <td>0.0</td>\n",
       "      <td>0.7</td>\n",
       "    </tr>\n",
       "    <tr>\n",
       "      <td>2019-07-05 14:00:00</td>\n",
       "      <td>0.90</td>\n",
       "      <td>0.8</td>\n",
       "      <td>0.9</td>\n",
       "    </tr>\n",
       "    <tr>\n",
       "      <td>2019-07-05 15:00:00</td>\n",
       "      <td>1.00</td>\n",
       "      <td>1.0</td>\n",
       "      <td>1.0</td>\n",
       "    </tr>\n",
       "  </tbody>\n",
       "</table>\n",
       "</div>"
      ],
      "text/plain": [
       "                     Electricity  Hot_Water  Gains\n",
       "Date                                              \n",
       "2019-07-05 10:00:00         0.20        0.0    0.7\n",
       "2019-07-05 11:00:00         0.05        0.0    0.5\n",
       "2019-07-05 12:00:00         0.50        0.0    0.5\n",
       "2019-07-05 13:00:00         0.70        0.0    0.7\n",
       "2019-07-05 14:00:00         0.90        0.8    0.9\n",
       "2019-07-05 15:00:00         1.00        1.0    1.0"
      ]
     },
     "execution_count": 8,
     "metadata": {},
     "output_type": "execute_result"
    }
   ],
   "source": [
    "# get a user made csv file into a dataframe\n",
    "file = 'Consumption_profile_dummy.csv'\n",
    "df_cons = handle_csv(file, False)\n",
    "\n",
    "# Set the index to match df_day\n",
    "df_cons.set_index(df_day.index, inplace = True)\n",
    "\n",
    "# Display the dataframe\n",
    "df_cons[day + ' 10:00:00': day + ' 15:00:00']"
   ]
  },
  {
   "cell_type": "code",
   "execution_count": 9,
   "metadata": {},
   "outputs": [
    {
     "data": {
      "image/png": "[encoded data removed]",
      "text/plain": [
       "<Figure size 432x288 with 1 Axes>"
      ]
     },
     "metadata": {
      "needs_background": "light"
     },
     "output_type": "display_data"
    }
   ],
   "source": [
    "# Plot Temperature as a function of time\n",
    "df_cons['Electricity'].plot()\n",
    "plt.show()"
   ]
  },
  {
   "cell_type": "code",
   "execution_count": 10,
   "metadata": {},
   "outputs": [
    {
     "data": {
      "image/png": "[encoded data removed]",
      "text/plain": [
       "<Figure size 432x288 with 1 Axes>"
      ]
     },
     "metadata": {
      "needs_background": "light"
     },
     "output_type": "display_data"
    }
   ],
   "source": [
    "# Plot Temperature as a function of time\n",
    "df_cons['Hot_Water'].plot()\n",
    "plt.show()"
   ]
  },
  {
   "cell_type": "code",
   "execution_count": 11,
   "metadata": {},
   "outputs": [
    {
     "data": {
      "image/png": "[encoded data removed]",
      "text/plain": [
       "<Figure size 432x288 with 1 Axes>"
      ]
     },
     "metadata": {
      "needs_background": "light"
     },
     "output_type": "display_data"
    }
   ],
   "source": [
    "# Plot Temperature as a function of time\n",
    "df_cons['Gains'].plot()\n",
    "plt.show()"
   ]
  },
  {
   "cell_type": "markdown",
   "metadata": {},
   "source": [
    "## Values given by SFF\n",
    "* electric consumption"
   ]
  },
  {
   "cell_type": "code",
   "execution_count": 12,
   "metadata": {},
   "outputs": [],
   "source": [
    "# annual electric consumption for the entire site\n",
    "Annual_Elec_cons = 787000 # kWh"
   ]
  },
  {
   "cell_type": "markdown",
   "metadata": {},
   "source": [
    "#  Mixed Integer Linnear Model\n",
    "* Setup the model, select scenario\n",
    "* Declare sets of units and resources\n",
    "* Declare model parameters\n",
    "* Declare model variables\n",
    "* Model each units\n",
    "* Connect units and resource with mass and energy balance equations\n",
    "* Declare model Objective function"
   ]
  },
  {
   "cell_type": "markdown",
   "metadata": {},
   "source": [
    "## Variables and Parameter Metdada\n",
    "* Variables metada consist of units and is stored in a dictionnary\n",
    "* Standalone parameters are created and called using function P()\n",
    "* Standalone parameter metadata consists of 'Units', 'Description', 'Source', 'Category'\n",
    "* To easily detect non linearities in constraint equations variables start with minuscule letters and parameters with capital letters"
   ]
  },
  {
   "cell_type": "code",
   "execution_count": 13,
   "metadata": {},
   "outputs": [],
   "source": [
    "# dictionnary of variable units, to be filled as they are declared\n",
    "# example: dic_vars_unit['grid_elec_import'] = 'kWh'\n",
    "dic_vars_unit = {}\n",
    "\n",
    "# Dictionnary of all standalone model input parameters that are declared individually\n",
    "# following this format 'Name': ['Value', 'Units', 'Description', 'Source', 'Category']\n",
    "Param_dict = {}\n",
    "\n",
    "# Function to get parameter values (if only Name is passed) or declare parameter\n",
    "# Either no args* or all parmater *args have to be given in order. Only 'Category' can be omitted, and if so will be 'General'.\n",
    "# Read:  P('Param_name')\n",
    "# Write: P('Param_name', value', 'Units', 'Description', 'Source', 'Category')\n",
    "def P(Name, *args):\n",
    "    # if no args where passed (l is empty) return the value for the querried parameter Name\n",
    "    if not args:\n",
    "        return Param_dict[Name][0]\n",
    "    \n",
    "    # if args where given, get the value and metadata\n",
    "    else:\n",
    "        value = args[0]\n",
    "        metadata = []\n",
    "        if type(args[1]) is list:\n",
    "            for a in args[1]:\n",
    "                metadata.append(a)\n",
    "        else:\n",
    "            for a in args[1:]:\n",
    "                metadata.append(a)\n",
    "        \n",
    "    \n",
    "        # store the value and metadata in the standalone Parameter dictionary\n",
    "        if isinstance(value, numbers.Number):\n",
    "            if len(metadata) == 3:\n",
    "                Param_dict[Name] = [value] + metadata + ['General']\n",
    "            elif len(metadata) == 4:\n",
    "                Param_dict[Name] = [value] + metadata\n",
    "\n",
    "        # Case of error\n",
    "        else:\n",
    "            print('Wrong number of arguments given and or value if not a number')"
   ]
  },
  {
   "cell_type": "markdown",
   "metadata": {},
   "source": [
    "## Model Settings\n",
    "* Set the default bound for all variables\n",
    "* Set solver time limit\n",
    "* Set specific upper and lower bound for each unit"
   ]
  },
  {
   "cell_type": "code",
   "execution_count": 14,
   "metadata": {},
   "outputs": [
    {
     "name": "stdout",
     "output_type": "stream",
     "text": [
      "Using license file c:\\gurobi901\\gurobi.lic\n",
      "Academic license - for non-commercial use only\n",
      "Reset all parameters\n",
      "Discarded solution information\n",
      "Changed value of parameter TimeLimit to 100.0\n",
      "   Prev: inf  Min: 0.0  Max: inf  Default: inf\n"
     ]
    }
   ],
   "source": [
    "# Modules for Model description\n",
    "import gurobipy as gp\n",
    "from gurobipy import GRB\n",
    "import numbers\n",
    "\n",
    "# Create a new model\n",
    "m = gp.Model(\"MIP_SFF_v1.6\")\n",
    "\n",
    "# Remove previous model parameters and data\n",
    "m.resetParams()\n",
    "m.reset()\n",
    "\n",
    "# Set solver time limit\n",
    "m.setParam(\"TimeLimit\", 100.0)\n",
    "\n",
    "# Default bound for most (all) variables\n",
    "P('Bound', 10**4, '-', 'Default Variable Upper Bound', 'Gurobi doc')\n",
    "\n",
    "# Exceptionnaly this parameter is assigned to the python variable Bound\n",
    "Bound = P('Bound')\n",
    "\n",
    "# Unit minimum and maximum size\n",
    "Unit_size_limit = {\n",
    "    'Unit': ['Lower Bound', 'Upper Bound'],\n",
    "    'PV':   [0, 100],\n",
    "    'BAT':  [0, 100],\n",
    "    'AD':   [0, 100],\n",
    "    'SOFC': [0, 100],\n",
    "}"
   ]
  },
  {
   "cell_type": "markdown",
   "metadata": {},
   "source": [
    "## Sets of units and resources"
   ]
  },
  {
   "cell_type": "code",
   "execution_count": 15,
   "metadata": {},
   "outputs": [],
   "source": [
    "# Units and resources\n",
    "Units_full_name = ['Photovoltaic Panels', 'Battery', 'Solid Oxide Fuel cell', 'Anaerobic Digester']\n",
    "Units = ['PV', 'BAT', 'SOFC', 'AD']\n",
    "Resources = ['Elec', 'Biogas', 'Biomass']\n",
    "\n",
    "# the resources each unit produce\n",
    "Units_prod = {\n",
    "    'PV':   ['Elec'],\n",
    "    'BAT':  ['Elec'], \n",
    "    'SOFC': ['Elec'], \n",
    "    'AD':   ['Biogas']}\n",
    "\n",
    "# the resources each unit consumes\n",
    "Units_cons = {\n",
    "    'BAT':  ['Elec'], \n",
    "    'SOFC': ['Biogas'], \n",
    "    'AD':   ['Biomass', 'Elec']}\n",
    "\n",
    "# the units producing and consuming a given resource\n",
    "Units_resource = {\n",
    "    'prod_Elec':['PV', 'BAT', 'SOFC'],\n",
    "    'cons_Elec':['BAT', 'AD']}"
   ]
  },
  {
   "cell_type": "markdown",
   "metadata": {},
   "source": [
    "## Parameter declaration\n",
    "* external and internal temporal parameters\n",
    "* cost of units\n",
    "* cost of resources"
   ]
  },
  {
   "cell_type": "markdown",
   "metadata": {},
   "source": [
    "### Time periods"
   ]
  },
  {
   "cell_type": "code",
   "execution_count": 16,
   "metadata": {},
   "outputs": [],
   "source": [
    "# index h\n",
    "Hours = range(0,24)\n",
    "\n",
    "# index p\n",
    "Periods = list(Hours)\n",
    "\n",
    "# hours in a year\n",
    "Hours_per_year = 365*24"
   ]
  },
  {
   "cell_type": "markdown",
   "metadata": {},
   "source": [
    "### External Parameters"
   ]
  },
  {
   "cell_type": "code",
   "execution_count": 17,
   "metadata": {},
   "outputs": [],
   "source": [
    "# Irradiance\n",
    "Irradiance = list(df_day['Irradiance']) # in [W/m^2]\n",
    "\n",
    "# Unit change\n",
    "Irradiance = [Irradiance[p] / 1000 for p in Periods] # in [kW/m^2]"
   ]
  },
  {
   "cell_type": "markdown",
   "metadata": {},
   "source": [
    "### Farm consumptions"
   ]
  },
  {
   "cell_type": "code",
   "execution_count": 18,
   "metadata": {
    "scrolled": true
   },
   "outputs": [
    {
     "data": {
      "image/png": "[encoded data removed]",
      "text/plain": [
       "<Figure size 432x288 with 1 Axes>"
      ]
     },
     "metadata": {
      "needs_background": "light"
     },
     "output_type": "display_data"
    },
    {
     "name": "stdout",
     "output_type": "stream",
     "text": [
      "Peak electric consumption: 227 [kW]\n",
      "Average electric load: 90 [kW]\n"
     ]
    }
   ],
   "source": [
    "# Average electric load in kW \n",
    "Avrg_cons = Annual_Elec_cons/Hours_per_year\n",
    "\n",
    "# Average load of the consumption profile in -\n",
    "Avrg_profile = np.mean(df_cons['Electricity'].values)\n",
    "\n",
    "# Peak load for to fit the annual electric consumption\n",
    "Peak_load = Avrg_cons/Avrg_profile\n",
    "\n",
    "# Load profile in kWh/h\n",
    "Farm_cons_t = list(df_cons['Electricity'].values*Peak_load) # in [kWh/h]\n",
    "plt.bar(Periods, Farm_cons_t)\n",
    "plt.show()\n",
    "print('Peak electric consumption: {:.0f} [kW]'.format(Peak_load))\n",
    "print('Average electric load: {:.0f} [kW]'.format(Avrg_cons))"
   ]
  },
  {
   "cell_type": "markdown",
   "metadata": {},
   "source": [
    "### Farm production"
   ]
  },
  {
   "cell_type": "code",
   "execution_count": 19,
   "metadata": {},
   "outputs": [
    {
     "name": "stdout",
     "output_type": "stream",
     "text": [
      "Production of biomass, HHV, constant rate: 117 [kW] \n",
      "For 92.5 Live Stock Units\n"
     ]
    }
   ],
   "source": [
    "# From SFF - number of animals\n",
    "category = 'Biomass'\n",
    "metadata = ['-', 'Number of Pigs', 'swissfuturefarm.ch', category]\n",
    "P('Pigs', 55, metadata)\n",
    "P('Cows', 65, metadata)\n",
    "metadata = ['-', 'LSU per Pigs', 'ec.europa.eu', category]\n",
    "P('LSU_pigs', 0.5, metadata) # source : https://ec.europa.eu/eurostat/statistics-explained/index.php/Glossary:Livestock_unit_(LSU)\n",
    "\n",
    "# Live Stock Units\n",
    "metadata = ['LSU', 'Number of LSU', 'calc', category]\n",
    "P('LSU', P('Pigs')*P('LSU_pigs') + P('Cows'), metadata)\n",
    "\n",
    "# From the litterature\n",
    "# source: C. Font-Palma, “Methods for the Treatment of Cattle Manure—A Review,” C, vol. 5, no. 2, p. 27, May 2019, doi: 10.3390/c5020027.\n",
    "P('Manure_per_cattle', 7.3, 'kg-dry/day/LSU', 'Cattle manure production', 'doi: 10.3390/c5020027', category)\n",
    "P('Manure_HHV_dry', 15/3.6, 'kWh/kg-dry', 'Manure energy content', 'doi: 10.3390/c5020027', category)\n",
    "\n",
    "metadata = ['kWh/h', 'Biomass Production', 'calc', category]\n",
    "P('Biomass_prod', P('LSU')*P('Manure_per_cattle')*P('Manure_HHV_dry')/24, metadata)\n",
    "Biomass_prod = [P('Biomass_prod') for p in Periods]\n",
    "print('Production of biomass, HHV, constant rate: {:.0f} [kW] \\nFor {} Live Stock Units'.format(P('Biomass_prod'),P('LSU')))"
   ]
  },
  {
   "cell_type": "markdown",
   "metadata": {},
   "source": [
    "### Unit Costs"
   ]
  },
  {
   "cell_type": "code",
   "execution_count": 20,
   "metadata": {},
   "outputs": [
    {
     "data": {
      "text/html": [
       "<div>\n",
       "<style scoped>\n",
       "    .dataframe tbody tr th:only-of-type {\n",
       "        vertical-align: middle;\n",
       "    }\n",
       "\n",
       "    .dataframe tbody tr th {\n",
       "        vertical-align: top;\n",
       "    }\n",
       "\n",
       "    .dataframe thead th {\n",
       "        text-align: right;\n",
       "    }\n",
       "</style>\n",
       "<table border=\"1\" class=\"dataframe\">\n",
       "  <thead>\n",
       "    <tr style=\"text-align: right;\">\n",
       "      <th></th>\n",
       "      <th>Cost_per_size</th>\n",
       "      <th>Cost_per_unit</th>\n",
       "      <th>Cost_multiplier</th>\n",
       "      <th>Life</th>\n",
       "      <th>Size_units</th>\n",
       "      <th>Full_name</th>\n",
       "      <th>Source</th>\n",
       "    </tr>\n",
       "    <tr>\n",
       "      <th>Technology</th>\n",
       "      <th></th>\n",
       "      <th></th>\n",
       "      <th></th>\n",
       "      <th></th>\n",
       "      <th></th>\n",
       "      <th></th>\n",
       "      <th></th>\n",
       "    </tr>\n",
       "  </thead>\n",
       "  <tbody>\n",
       "    <tr>\n",
       "      <td>BAT</td>\n",
       "      <td>0.970</td>\n",
       "      <td>0.620</td>\n",
       "      <td>1.33</td>\n",
       "      <td>10</td>\n",
       "      <td>kWh</td>\n",
       "      <td>Battery</td>\n",
       "      <td>Paul regression</td>\n",
       "    </tr>\n",
       "    <tr>\n",
       "      <td>BOI</td>\n",
       "      <td>0.105</td>\n",
       "      <td>3.800</td>\n",
       "      <td>1.80</td>\n",
       "      <td>20</td>\n",
       "      <td>kW</td>\n",
       "      <td>Nat Gas boiler</td>\n",
       "      <td>Paul</td>\n",
       "    </tr>\n",
       "    <tr>\n",
       "      <td>AHP</td>\n",
       "      <td>1.240</td>\n",
       "      <td>5.680</td>\n",
       "      <td>1.80</td>\n",
       "      <td>20</td>\n",
       "      <td>kW</td>\n",
       "      <td>Air HP</td>\n",
       "      <td>Paul</td>\n",
       "    </tr>\n",
       "    <tr>\n",
       "      <td>SOFC</td>\n",
       "      <td>2.100</td>\n",
       "      <td>15.542</td>\n",
       "      <td>1.80</td>\n",
       "      <td>10</td>\n",
       "      <td>kW</td>\n",
       "      <td>SOFC</td>\n",
       "      <td>Paul regression</td>\n",
       "    </tr>\n",
       "    <tr>\n",
       "      <td>PV</td>\n",
       "      <td>2.656</td>\n",
       "      <td>2.495</td>\n",
       "      <td>1.33</td>\n",
       "      <td>20</td>\n",
       "      <td>kW</td>\n",
       "      <td>PV</td>\n",
       "      <td>Paul regression</td>\n",
       "    </tr>\n",
       "    <tr>\n",
       "      <td>AD</td>\n",
       "      <td>1.500</td>\n",
       "      <td>5.000</td>\n",
       "      <td>1.80</td>\n",
       "      <td>20</td>\n",
       "      <td>kW</td>\n",
       "      <td>Digester</td>\n",
       "      <td>semester project</td>\n",
       "    </tr>\n",
       "    <tr>\n",
       "      <td>GC</td>\n",
       "      <td>2.800</td>\n",
       "      <td>3.000</td>\n",
       "      <td>1.80</td>\n",
       "      <td>20</td>\n",
       "      <td>kW</td>\n",
       "      <td>Gas Cleaning</td>\n",
       "      <td>W2W work group 2</td>\n",
       "    </tr>\n",
       "  </tbody>\n",
       "</table>\n",
       "</div>"
      ],
      "text/plain": [
       "            Cost_per_size  Cost_per_unit  Cost_multiplier  Life Size_units  \\\n",
       "Technology                                                                   \n",
       "BAT                 0.970          0.620             1.33    10        kWh   \n",
       "BOI                 0.105          3.800             1.80    20         kW   \n",
       "AHP                 1.240          5.680             1.80    20         kW   \n",
       "SOFC                2.100         15.542             1.80    10         kW   \n",
       "PV                  2.656          2.495             1.33    20         kW   \n",
       "AD                  1.500          5.000             1.80    20         kW   \n",
       "GC                  2.800          3.000             1.80    20         kW   \n",
       "\n",
       "                 Full_name            Source  \n",
       "Technology                                    \n",
       "BAT                Battery   Paul regression  \n",
       "BOI         Nat Gas boiler              Paul  \n",
       "AHP                 Air HP              Paul  \n",
       "SOFC                  SOFC   Paul regression  \n",
       "PV                      PV   Paul regression  \n",
       "AD                Digester  semester project  \n",
       "GC            Gas Cleaning  W2W work group 2  "
      ]
     },
     "execution_count": 20,
     "metadata": {},
     "output_type": "execute_result"
    }
   ],
   "source": [
    "Unit_c = handle_csv('unit_costs.csv', True)\n",
    "\n",
    "# convert strings of valuesto numpy.int64\n",
    "pd.to_numeric(Unit_c['Cost_per_size'])\n",
    "pd.to_numeric(Unit_c['Cost_per_unit'])\n",
    "pd.to_numeric(Unit_c['Cost_multiplier'])\n",
    "pd.to_numeric(Unit_c['Life'])\n",
    "\n",
    "# unit conversion from CHF to kCHF\n",
    "Unit_c['Cost_per_size'] /= 1000\n",
    "Unit_c['Cost_per_unit'] /= 1000\n",
    "# display dataframe\n",
    "Unit_c\n",
    "\n",
    "# Life is in years and costs in kCHF"
   ]
  },
  {
   "cell_type": "code",
   "execution_count": 21,
   "metadata": {},
   "outputs": [
    {
     "data": {
      "text/plain": [
       "2.656"
      ]
     },
     "execution_count": 21,
     "metadata": {},
     "output_type": "execute_result"
    }
   ],
   "source": [
    "# Example accessing a cost parameter\n",
    "Unit_c['Cost_per_size']['PV']"
   ]
  },
  {
   "cell_type": "markdown",
   "metadata": {},
   "source": [
    "### Resource Costs"
   ]
  },
  {
   "cell_type": "code",
   "execution_count": 22,
   "metadata": {},
   "outputs": [
    {
     "data": {
      "text/html": [
       "<div>\n",
       "<style scoped>\n",
       "    .dataframe tbody tr th:only-of-type {\n",
       "        vertical-align: middle;\n",
       "    }\n",
       "\n",
       "    .dataframe tbody tr th {\n",
       "        vertical-align: top;\n",
       "    }\n",
       "\n",
       "    .dataframe thead th {\n",
       "        text-align: right;\n",
       "    }\n",
       "</style>\n",
       "<table border=\"1\" class=\"dataframe\">\n",
       "  <thead>\n",
       "    <tr style=\"text-align: right;\">\n",
       "      <th></th>\n",
       "      <th>Import_cost</th>\n",
       "      <th>Export_cost</th>\n",
       "      <th>Units</th>\n",
       "      <th>Full_name</th>\n",
       "      <th>Source</th>\n",
       "    </tr>\n",
       "    <tr>\n",
       "      <th>Flow</th>\n",
       "      <th></th>\n",
       "      <th></th>\n",
       "      <th></th>\n",
       "      <th></th>\n",
       "      <th></th>\n",
       "    </tr>\n",
       "  </thead>\n",
       "  <tbody>\n",
       "    <tr>\n",
       "      <td>Elec</td>\n",
       "      <td>2.400e-04</td>\n",
       "      <td>8.000e-05</td>\n",
       "      <td>kCHF/kWh</td>\n",
       "      <td>Electricity</td>\n",
       "      <td>Paul average</td>\n",
       "    </tr>\n",
       "  </tbody>\n",
       "</table>\n",
       "</div>"
      ],
      "text/plain": [
       "      Import_cost  Export_cost     Units    Full_name        Source\n",
       "Flow                                                               \n",
       "Elec    2.400e-04    8.000e-05  kCHF/kWh  Electricity  Paul average"
      ]
     },
     "execution_count": 22,
     "metadata": {},
     "output_type": "execute_result"
    }
   ],
   "source": [
    "Resource_c = handle_csv('resource_costs.csv', True)\n",
    "\n",
    "# convert strings of valuesto numpy.int64\n",
    "pd.to_numeric(Resource_c['Import_cost'])\n",
    "pd.to_numeric(Resource_c['Export_cost'])\n",
    "\n",
    "# unit conversion from CHF to kCHF\n",
    "Resource_c['Import_cost'] /= 1000\n",
    "Resource_c['Export_cost'] /= 1000\n",
    "Resource_c['Units'] = 'kCHF/kWh'\n",
    "\n",
    "# display dataframe\n",
    "Resource_c"
   ]
  },
  {
   "cell_type": "markdown",
   "metadata": {},
   "source": [
    "## Variable declaration\n",
    "* variables start with a lower case letter\n",
    "* set of variables have a dedicated index (signle letter)"
   ]
  },
  {
   "cell_type": "code",
   "execution_count": 23,
   "metadata": {},
   "outputs": [],
   "source": [
    "\n",
    "# each set of variables are stored in dictionnaries, the keys are the Units\n",
    "unit_prod_t, unit_cons_t = {}, {}\n",
    "\n",
    "# size of the installed unit\n",
    "unit_size = m.addVars(Units, lb = 0, ub = Bound, name=\"size\")\n",
    "\n",
    "# whether or not the unit is installed\n",
    "unit_install = m.addVars(Units, lb = 0, ub = Bound, vtype=GRB.BINARY, name=\"install\")\n",
    "\n",
    "# amount of resource, for each resource a unit produce and consumes during one period, for each period\n",
    "# Variable format : unit_prod_t['PV'][('Elec',0)]\n",
    "# Result format : PV_prod_t[Elec,0]\n",
    "# Result format details: <unit>_<pord or cons>_t[<resource>,<period>]\n",
    "for u in Units:\n",
    "    if u in Units_prod:\n",
    "        unit_prod_t[u] = m.addVars(Units_prod[u], Periods, lb = 0, ub = Bound, name= u + \"_prod_t\")\n",
    "    if u in Units_cons:\n",
    "        unit_cons_t[u] = m.addVars(Units_cons[u], Periods, lb = 0, ub = Bound, name= u + \"_cons_t\")\n",
    "\n",
    "# CAPEX of the installed unit\n",
    "unit_CAPEX = m.addVars(Units, lb = 0, ub = Bound, name=\"CAPEX\")"
   ]
  },
  {
   "cell_type": "code",
   "execution_count": 24,
   "metadata": {},
   "outputs": [
    {
     "data": {
      "text/plain": [
       "<gurobi.Var *Awaiting Model Update*>"
      ]
     },
     "execution_count": 24,
     "metadata": {},
     "output_type": "execute_result"
    }
   ],
   "source": [
    "# Example accessing a variable\n",
    "unit_prod_t['PV'][('Elec',0)]"
   ]
  },
  {
   "cell_type": "markdown",
   "metadata": {},
   "source": [
    "## Unit Models"
   ]
  },
  {
   "cell_type": "code",
   "execution_count": 25,
   "metadata": {},
   "outputs": [],
   "source": [
    "\n",
    "# Size restrictions for each units\n",
    "o = 'PV_max_size'\n",
    "m.addConstrs((unit_size[u] <= Unit_size_limit[u][1] for u in Units), o);\n",
    "\n",
    "o = 'PV_min_size'\n",
    "m.addConstrs((unit_size[u] >= Unit_size_limit[u][0] for u in Units), o);\n"
   ]
  },
  {
   "cell_type": "markdown",
   "metadata": {},
   "source": [
    "### PhotoVoltaïc Panel (PV)"
   ]
  },
  {
   "cell_type": "code",
   "execution_count": 26,
   "metadata": {},
   "outputs": [],
   "source": [
    "# Parameters\n",
    "P('PV_eff', 0.14, '-', 'PV efficiency', 'Paul', 'PV')\n",
    "\n",
    "# Constraints\n",
    "o = 'PV_production'\n",
    "m.addConstrs((unit_prod_t['PV'][('Elec',p)] == Irradiance[p] * P('PV_eff') * unit_size['PV'] for p in Periods), o);"
   ]
  },
  {
   "cell_type": "markdown",
   "metadata": {},
   "source": [
    "### Battery (BAT)"
   ]
  },
  {
   "cell_type": "code",
   "execution_count": 27,
   "metadata": {
    "scrolled": true
   },
   "outputs": [],
   "source": [
    "# Variables\n",
    "bat_SOC_t = m.addVars(Periods + [24], lb = 0, ub = Bound, name = 'bat_SOC_t')\n",
    "\n",
    "# Parameters\n",
    "P('BAT_eff', 1, '-', 'BAT roundtrip efficiency', 'guess', 'BAT')\n",
    "\n",
    "# Constraints\n",
    "o = 'BAT_SOC'\n",
    "m.addConstrs((bat_SOC_t[p + 1] - bat_SOC_t[p] == \n",
    "              P('BAT_eff') * (unit_cons_t['BAT'][('Elec',p)] - unit_prod_t['BAT'][('Elec',p)]) for p in Periods), o);\n",
    "\n",
    "o = 'BAT_daily_cycle'\n",
    "m.addConstr((bat_SOC_t[0] == bat_SOC_t[24]), o);\n",
    "o = 'BAT_daily_initial'\n",
    "m.addConstr((bat_SOC_t[0] == 0), o);\n",
    "\n",
    "o = 'BAT_size_SOC'\n",
    "m.addConstrs((bat_SOC_t[p] <= unit_size['BAT'] for p in Periods), o);\n",
    "o = 'BAT_size_discharge'\n",
    "m.addConstrs((unit_prod_t['BAT'][('Elec',p)] <= unit_size['BAT'] for p in Periods), o);\n",
    "o = 'BAT_size_charge'\n",
    "m.addConstrs((unit_cons_t['BAT'][('Elec',p)] <= unit_size['BAT'] for p in Periods), o);"
   ]
  },
  {
   "cell_type": "markdown",
   "metadata": {},
   "source": [
    "### Anaerobic Digestor (AD)"
   ]
  },
  {
   "cell_type": "code",
   "execution_count": 28,
   "metadata": {},
   "outputs": [],
   "source": [
    "# Parameters\n",
    "P('AD_eff', 0.3, '-', 'AD efficiency', 'guess', 'AD')\n",
    "# Fraction of electricity consumed by the AD relative to the electricity produced by a couples ICE (40% efficiency)\n",
    "# Source : [1]M. Carlini, E. Mosconi, S. Castellucci, M. Villarini, and A. Colantoni, “An Economical Evaluation of Anaerobic Digestion Plants Fed with Organic Agro-Industrial Waste,” Energies, vol. 10, no. 8, p. 1165, Aug. 2017, doi: 10.3390/en10081165.\n",
    "P('AD_elec_cons', 0.02*0.4, '-', 'AD faction of electricity consumed', 'doi: 10.3390/en10081165', 'AD')\n",
    "\n",
    "# Constraints\n",
    "o = 'AD_production'\n",
    "m.addConstrs((unit_prod_t['AD'][('Biogas',p)] == unit_cons_t['AD'][('Biomass',p)]*P('AD_eff') for p in Periods), o);\n",
    "\n",
    "o = 'AD_elec_cons'\n",
    "m.addConstrs((unit_cons_t['AD'][('Elec',p)] == unit_prod_t['AD'][('Biogas',p)]*P('AD_elec_cons') for p in Periods), o);\n",
    "\n",
    "o = 'AD_size'\n",
    "m.addConstrs((unit_prod_t['AD'][('Biogas',p)] <= unit_size['AD'] for p in Periods), o);"
   ]
  },
  {
   "cell_type": "markdown",
   "metadata": {},
   "source": [
    "### Solid Oxide Fuel Cell (SOFC)"
   ]
  },
  {
   "cell_type": "code",
   "execution_count": 29,
   "metadata": {},
   "outputs": [],
   "source": [
    "# Parameters\n",
    "P('SOFC_eff', 0.6, '-', 'SOFC electric efficiency', 'guess', 'AD')\n",
    "\n",
    "# Gas Cleaning\n",
    "P('GC_elec_frac', 0.03, '-', 'gas cleaning electric consumption fraction', 'Projet Semestre nils', 'AD')\n",
    "\n",
    "# Constraints\n",
    "o = 'SOFC_production'\n",
    "m.addConstrs((unit_prod_t['SOFC'][('Elec',p)] == \n",
    "              unit_cons_t['SOFC'][('Biogas',p)]*(P('SOFC_eff') - P('GC_elec_frac')) for p in Periods), o);\n",
    "\n",
    "# Constraints\n",
    "o = 'SOFC_size'\n",
    "m.addConstrs((unit_prod_t['SOFC'][('Elec',p)] <= unit_size['SOFC'] for p in Periods), o);"
   ]
  },
  {
   "cell_type": "markdown",
   "metadata": {},
   "source": [
    "## Mass and Energy balance"
   ]
  },
  {
   "cell_type": "code",
   "execution_count": 30,
   "metadata": {},
   "outputs": [],
   "source": [
    "# Variables and their units\n",
    "o = 'grid_elec_export'\n",
    "grid_elec_export = m.addVar(lb=0, ub=Bound, name= o)\n",
    "dic_vars_unit[o] = 'kWh'\n",
    "\n",
    "o = 'grid_elec_import'\n",
    "grid_elec_import = m.addVar(lb=0, ub=Bound, name= o)\n",
    "dic_vars_unit[o] = 'kWh'\n",
    "\n",
    "o = 'grid_elec_export_t'\n",
    "grid_elec_export_t = m.addVars(Periods, lb=0, ub=Bound, name= o)\n",
    "\n",
    "o = 'grid_elec_import_t'\n",
    "grid_elec_import_t = m.addVars(Periods, lb=0, ub=Bound, name= o)\n",
    "\n",
    "\n",
    "# Constraints\n",
    "o = 'Balance_Electricity'\n",
    "m.addConstrs((grid_elec_import_t[p] + sum(unit_prod_t[up][('Elec',p)] for up in Units_resource['prod_Elec'])  == \n",
    "              grid_elec_export_t[p] + sum(unit_cons_t[uc][('Elec',p)] for uc in Units_resource['cons_Elec']) + Farm_cons_t[p]\n",
    "              for p in Periods), o);\n",
    "\n",
    "o = 'Balance_Biomass'\n",
    "m.addConstrs((Biomass_prod[p] >= unit_cons_t['AD'][('Biomass',p)] for p in Periods), o);\n",
    "\n",
    "o = 'Balance_Biogas'\n",
    "m.addConstrs((unit_prod_t['AD'][('Biogas',p)] >= unit_cons_t['SOFC'][('Biogas',p)] for p in Periods), o);\n",
    "\n",
    "\n",
    "# Total annual import / export\n",
    "o = 'Electricity_grid_import'\n",
    "m.addConstr(grid_elec_import == sum(grid_elec_import_t[p] for p in Periods), o);\n",
    "\n",
    "o = 'Electricity_grid_export'\n",
    "m.addConstr(grid_elec_export == sum(grid_elec_export_t[p] for p in Periods), o);"
   ]
  },
  {
   "cell_type": "markdown",
   "metadata": {},
   "source": [
    "## Objective"
   ]
  },
  {
   "cell_type": "code",
   "execution_count": 31,
   "metadata": {},
   "outputs": [],
   "source": [
    "# Annualization factor Tau\n",
    "category = 'economic'\n",
    "P('i', 0.025, '-', 'Annual interest rate', 'guess', category)\n",
    "P('n', 20, 'years', 'years of exploitation', 'guess', category)\n",
    "P('tau', (P('i')*(1 + P('i'))**P('n')) / ((1 + P('i'))**P('n') - 1) , '-', 'Annualization factor', 'calc', category)"
   ]
  },
  {
   "cell_type": "markdown",
   "metadata": {},
   "source": [
    "### CAPEX calculation"
   ]
  },
  {
   "cell_type": "code",
   "execution_count": 32,
   "metadata": {},
   "outputs": [],
   "source": [
    "# Variable\n",
    "o = 'capex'\n",
    "capex = m.addVar(lb=-Bound, ub=Bound, name= o)\n",
    "dic_vars_unit[o] = 'kCHF'\n",
    "\n",
    "# Constraints\n",
    "# Fix whether or not a unit is installed\n",
    "o = 'is_installed'\n",
    "m.addConstrs((unit_install[u]*Bound >= unit_size[u] for u in Units), o);\n",
    "# Calculate the capex of the unit\n",
    "#o = 'capex'\n",
    "m.addConstrs((unit_CAPEX[u] == (unit_size[u]*Unit_c['Cost_per_size'][u] + unit_install[u]*Unit_c['Cost_per_unit'][u])*Unit_c['Cost_multiplier'][u] for u in Units), o);\n",
    "\n",
    "# total capex\n",
    "o = 'capex_sum'\n",
    "m.addConstr(capex == sum([unit_CAPEX[u] for u in Units]), o);"
   ]
  },
  {
   "cell_type": "markdown",
   "metadata": {},
   "source": [
    "### OPEX calculation"
   ]
  },
  {
   "cell_type": "code",
   "execution_count": 33,
   "metadata": {
    "scrolled": true
   },
   "outputs": [],
   "source": [
    "# Variables\n",
    "o = 'opex'\n",
    "opex = m.addVar(lb=-Bound, ub=Bound, name= o)\n",
    "dic_vars_unit[o] = 'kCHF/year'\n",
    "\n",
    "# Constraint\n",
    "o = 'opex_sum'\n",
    "m.addConstr(opex == (grid_elec_import*Resource_c['Import_cost']['Elec'] - \n",
    "                     grid_elec_export*Resource_c['Export_cost']['Elec'])*356*P('n'), o);"
   ]
  },
  {
   "cell_type": "markdown",
   "metadata": {},
   "source": [
    "### TOTEX calculation"
   ]
  },
  {
   "cell_type": "code",
   "execution_count": 34,
   "metadata": {},
   "outputs": [],
   "source": [
    "# Variables\n",
    "o = 'totex'\n",
    "totex = m.addVar(lb=-Bound, ub=Bound, name= o)\n",
    "dic_vars_unit[o] = 'kCHF/year'\n",
    "\n",
    "# Constraint\n",
    "o = 'totex_sum'\n",
    "m.addConstr(totex == opex + P('tau')*capex, o);"
   ]
  },
  {
   "cell_type": "markdown",
   "metadata": {},
   "source": [
    "### Objective formulation"
   ]
  },
  {
   "cell_type": "code",
   "execution_count": 35,
   "metadata": {},
   "outputs": [],
   "source": [
    "m.setObjective(totex, GRB.MINIMIZE)"
   ]
  },
  {
   "cell_type": "markdown",
   "metadata": {},
   "source": [
    "#  Optimization\n",
    "__Description:__\n",
    "* Run the optimizer once or more\n",
    "* Store results\n",
    "* Display errors"
   ]
  },
  {
   "cell_type": "code",
   "execution_count": 36,
   "metadata": {},
   "outputs": [
    {
     "name": "stdout",
     "output_type": "stream",
     "text": [
      "Gurobi Optimizer version 9.0.1 build v9.0.1rc0 (win64)\n",
      "Optimize a model with 335 rows, 282 columns and 853 nonzeros\n",
      "Model fingerprint: 0x7ef3cc1c\n",
      "Variable types: 278 continuous, 4 integer (4 binary)\n",
      "Coefficient statistics:\n",
      "  Matrix range     [1e-04, 1e+04]\n",
      "  Objective range  [1e+00, 1e+00]\n",
      "  Bounds range     [1e+00, 1e+04]\n",
      "  RHS range        [1e+01, 2e+02]\n",
      "Presolve removed 178 rows and 145 columns\n",
      "Presolve time: 0.00s\n",
      "Presolved: 157 rows, 137 columns, 479 nonzeros\n",
      "Variable types: 133 continuous, 4 integer (4 binary)\n",
      "Found heuristic solution: objective 3684.4536986\n",
      "\n",
      "Root relaxation: objective 2.766337e+03, 90 iterations, 0.00 seconds\n",
      "\n",
      "    Nodes    |    Current Node    |     Objective Bounds      |     Work\n",
      " Expl Unexpl |  Obj  Depth IntInf | Incumbent    BestBd   Gap | It/Node Time\n",
      "\n",
      "     0     0 2766.33667    0    1 3684.45370 2766.33667  24.9%     -    0s\n",
      "H    0     0                    2766.3669667 2766.33667  0.00%     -    0s\n",
      "\n",
      "Explored 1 nodes (90 simplex iterations) in 0.02 seconds\n",
      "Thread count was 8 (of 8 available processors)\n",
      "\n",
      "Solution count 2: 2766.37 3684.45 \n",
      "\n",
      "Optimal solution found (tolerance 1.00e-04)\n",
      "Best objective 2.766366966661e+03, best bound 2.766336672479e+03, gap 0.0011%\n"
     ]
    }
   ],
   "source": [
    "# Optimize model\n",
    "m.optimize()"
   ]
  },
  {
   "cell_type": "code",
   "execution_count": 37,
   "metadata": {},
   "outputs": [],
   "source": [
    "if m.status == GRB.INFEASIBLE:\n",
    "    m.feasRelaxS(1, False, False, True)\n",
    "    m.optimize()"
   ]
  },
  {
   "cell_type": "markdown",
   "metadata": {},
   "source": [
    "#  Display results\n",
    "__Description:__\n",
    "* Display results\n",
    "* Make tables of discrete results\n",
    "* Make graphs of time dependent measurments\n",
    "* Save results"
   ]
  },
  {
   "cell_type": "markdown",
   "metadata": {},
   "source": [
    "## functions"
   ]
  },
  {
   "cell_type": "code",
   "execution_count": 38,
   "metadata": {},
   "outputs": [],
   "source": [
    "def separator(text):\n",
    "    print('''\n",
    "#----------------------------------------------------------------------#\n",
    "# {}\n",
    "#----------------------------------------------------------------------#'''.format(text))"
   ]
  },
  {
   "cell_type": "code",
   "execution_count": 39,
   "metadata": {},
   "outputs": [],
   "source": [
    "# function to display all results (text)\n",
    "def display_results():\n",
    "    # Print objective value\n",
    "    print('Obj: %g' %m.objVal)\n",
    "    \n",
    "    # Print every variable\n",
    "    for v in m.getVars():\n",
    "        if not \"_t\" in v.varName:\n",
    "            print('%s %g' % (v.varName, v.x))\n",
    "    \n",
    "    separator('temporal variables')\n",
    "    \n",
    "    # Print temporal variables\n",
    "    for v in m.getVars():\n",
    "        if \"_t\" in v.varName:\n",
    "            print('%s %g' % (v.varName, v.x))"
   ]
  },
  {
   "cell_type": "code",
   "execution_count": null,
   "metadata": {},
   "outputs": [],
   "source": [
    "def get_all():\n",
    "    time_indep_dic = {}\n",
    "    \n",
    "    time_indep_dic['objective'] = m.objVal\n",
    "    \n",
    "    for v in m.getVars():\n",
    "        if not \"_t\" in v.varName:\n",
    "            time_indep_dic[v.varName] = v.x\n",
    "    \n",
    "for v in vars_name_t:\n",
    "    res_list = []\n",
    "    if '[' in v:\n",
    "        for p in Periods:\n",
    "            res_list.append(m.getVarByName(v + ',{}]'.format(p)).x)\n",
    "        time_indep_dic[v + ']'] = res_list\n",
    "    else:\n",
    "        for p in Periods:\n",
    "            res_list.append(m.getVarByName(v + '[{}]'.format(p)).x)\n",
    "        time_indep_dic[v] = res_list\n",
    "        \n",
    "    return time_indep_dic"
   ]
  },
  {
   "cell_type": "code",
   "execution_count": 89,
   "metadata": {},
   "outputs": [],
   "source": [
    "time_indep_dic = {}"
   ]
  },
  {
   "cell_type": "code",
   "execution_count": 96,
   "metadata": {},
   "outputs": [],
   "source": [
    "\n"
   ]
  },
  {
   "cell_type": "code",
   "execution_count": 97,
   "metadata": {},
   "outputs": [
    {
     "data": {
      "text/plain": [
       "{'objective': 2766.366966661406,\n",
       " 'size[PV]': 100.0,\n",
       " 'size[BAT]': 42.72848305320235,\n",
       " 'size[SOFC]': 20.046484375,\n",
       " 'size[AD]': 35.169270833333336,\n",
       " 'install[PV]': 1.0,\n",
       " 'install[BAT]': 1.0,\n",
       " 'install[SOFC]': 1.0,\n",
       " 'install[AD]': 1.0,\n",
       " 'CAPEX[PV]': 356.56635000000006,\n",
       " 'CAPEX[BAT]': 55.94861598693635,\n",
       " 'CAPEX[SOFC]': 103.7513109375,\n",
       " 'CAPEX[AD]': 103.95703125000001,\n",
       " 'grid_elec_export': 16.83379322128094,\n",
       " 'grid_elec_import': 1601.2230517829241,\n",
       " 'capex': 620.2233081744364,\n",
       " 'opex': 2726.5814222678187,\n",
       " 'totex': 2766.366966661406,\n",
       " 'PV_prod_t[Elec]': [0.0,\n",
       "  0.0,\n",
       "  0.0,\n",
       "  0.014000000000000002,\n",
       "  0.63,\n",
       "  2.1420000000000003,\n",
       "  4.018,\n",
       "  6.048000000000001,\n",
       "  7.840000000000001,\n",
       "  9.268,\n",
       "  10.388000000000002,\n",
       "  10.738000000000001,\n",
       "  10.696000000000002,\n",
       "  10.066,\n",
       "  8.918000000000001,\n",
       "  7.126,\n",
       "  5.152,\n",
       "  3.0660000000000003,\n",
       "  1.2320000000000002,\n",
       "  0.07,\n",
       "  0.0,\n",
       "  0.0,\n",
       "  0.0,\n",
       "  0.0],\n",
       " 'BAT_prod_t[Elec]': [0.0,\n",
       "  0.0,\n",
       "  34.311586442561875,\n",
       "  0.0,\n",
       "  0.0,\n",
       "  0.0,\n",
       "  0.0,\n",
       "  0.0,\n",
       "  0.0,\n",
       "  42.72848305320235,\n",
       "  0.0,\n",
       "  0.0,\n",
       "  0.0,\n",
       "  0.0,\n",
       "  0.0,\n",
       "  0.0,\n",
       "  0.0,\n",
       "  42.72848305320235,\n",
       "  0.0,\n",
       "  0.0,\n",
       "  0.0,\n",
       "  42.72848305320235,\n",
       "  0.0,\n",
       "  0.0],\n",
       " 'BAT_cons_t[Elec]': [8.41689661064047,\n",
       "  8.41689661064047,\n",
       "  42.728483053202346,\n",
       "  8.430896610640469,\n",
       "  9.04689661064047,\n",
       "  0.0,\n",
       "  0.0,\n",
       "  0.0,\n",
       "  0.0,\n",
       "  0.0,\n",
       "  0.0,\n",
       "  42.72848305320235,\n",
       "  0.0,\n",
       "  0.0,\n",
       "  0.0,\n",
       "  0.0,\n",
       "  0.0,\n",
       "  0.0,\n",
       "  0.0,\n",
       "  0.0,\n",
       "  0.0,\n",
       "  42.72848305320235,\n",
       "  0.0,\n",
       "  0.0],\n",
       " 'SOFC_prod_t[Elec]': [20.046484375,\n",
       "  20.046484375,\n",
       "  20.046484375,\n",
       "  20.046484375,\n",
       "  20.046484375,\n",
       "  20.046484375,\n",
       "  20.046484375,\n",
       "  20.046484375,\n",
       "  20.046484375,\n",
       "  20.046484375,\n",
       "  20.046484375,\n",
       "  20.046484375,\n",
       "  20.046484375,\n",
       "  20.046484375,\n",
       "  20.046484375,\n",
       "  20.046484375,\n",
       "  20.046484375,\n",
       "  20.046484375,\n",
       "  20.046484375,\n",
       "  20.046484375,\n",
       "  20.046484375,\n",
       "  20.046484375,\n",
       "  20.046484375,\n",
       "  20.046484375],\n",
       " 'SOFC_cons_t[Biogas]': [35.169270833333336,\n",
       "  35.169270833333336,\n",
       "  35.169270833333336,\n",
       "  35.169270833333336,\n",
       "  35.169270833333336,\n",
       "  35.169270833333336,\n",
       "  35.169270833333336,\n",
       "  35.169270833333336,\n",
       "  35.169270833333336,\n",
       "  35.169270833333336,\n",
       "  35.169270833333336,\n",
       "  35.169270833333336,\n",
       "  35.169270833333336,\n",
       "  35.169270833333336,\n",
       "  35.169270833333336,\n",
       "  35.169270833333336,\n",
       "  35.169270833333336,\n",
       "  35.169270833333336,\n",
       "  35.169270833333336,\n",
       "  35.169270833333336,\n",
       "  35.169270833333336,\n",
       "  35.169270833333336,\n",
       "  35.169270833333336,\n",
       "  35.169270833333336],\n",
       " 'AD_prod_t[Biogas]': [35.169270833333336,\n",
       "  35.169270833333336,\n",
       "  35.169270833333336,\n",
       "  35.169270833333336,\n",
       "  35.169270833333336,\n",
       "  35.169270833333336,\n",
       "  35.169270833333336,\n",
       "  35.169270833333336,\n",
       "  35.169270833333336,\n",
       "  35.169270833333336,\n",
       "  35.169270833333336,\n",
       "  35.169270833333336,\n",
       "  35.169270833333336,\n",
       "  35.169270833333336,\n",
       "  35.169270833333336,\n",
       "  35.169270833333336,\n",
       "  35.169270833333336,\n",
       "  35.169270833333336,\n",
       "  35.169270833333336,\n",
       "  35.169270833333336,\n",
       "  35.169270833333336,\n",
       "  35.169270833333336,\n",
       "  35.169270833333336,\n",
       "  35.169270833333336],\n",
       " 'AD_cons_t[Biomass]': [117.23090277777779,\n",
       "  117.23090277777779,\n",
       "  117.23090277777779,\n",
       "  117.23090277777779,\n",
       "  117.23090277777779,\n",
       "  117.23090277777779,\n",
       "  117.23090277777779,\n",
       "  117.23090277777779,\n",
       "  117.23090277777779,\n",
       "  117.23090277777779,\n",
       "  117.23090277777779,\n",
       "  117.23090277777779,\n",
       "  117.23090277777779,\n",
       "  117.23090277777779,\n",
       "  117.23090277777779,\n",
       "  117.23090277777779,\n",
       "  117.23090277777779,\n",
       "  117.23090277777779,\n",
       "  117.23090277777779,\n",
       "  117.23090277777779,\n",
       "  117.23090277777779,\n",
       "  117.23090277777779,\n",
       "  117.23090277777779,\n",
       "  117.23090277777779],\n",
       " 'AD_cons_t[Elec]': [0.2813541666666667,\n",
       "  0.2813541666666667,\n",
       "  0.2813541666666667,\n",
       "  0.2813541666666667,\n",
       "  0.2813541666666667,\n",
       "  0.2813541666666667,\n",
       "  0.2813541666666667,\n",
       "  0.2813541666666667,\n",
       "  0.2813541666666667,\n",
       "  0.2813541666666667,\n",
       "  0.2813541666666667,\n",
       "  0.2813541666666667,\n",
       "  0.2813541666666667,\n",
       "  0.2813541666666667,\n",
       "  0.2813541666666667,\n",
       "  0.2813541666666667,\n",
       "  0.2813541666666667,\n",
       "  0.2813541666666667,\n",
       "  0.2813541666666667,\n",
       "  0.2813541666666667,\n",
       "  0.2813541666666667,\n",
       "  0.2813541666666667,\n",
       "  0.2813541666666667,\n",
       "  0.2813541666666667],\n",
       " 'bat_SOC_t': [0.0,\n",
       "  8.41689661064047,\n",
       "  16.83379322128094,\n",
       "  25.250689831921406,\n",
       "  33.68158644256188,\n",
       "  42.72848305320235,\n",
       "  42.72848305320235,\n",
       "  42.72848305320235,\n",
       "  42.72848305320235,\n",
       "  42.72848305320235,\n",
       "  0.0,\n",
       "  0.0,\n",
       "  42.72848305320235,\n",
       "  42.72848305320235,\n",
       "  42.72848305320235,\n",
       "  42.72848305320235,\n",
       "  42.72848305320235,\n",
       "  42.72848305320235,\n",
       "  0.0,\n",
       "  0.0,\n",
       "  0.0,\n",
       "  0.0,\n",
       "  0.0,\n",
       "  0.0],\n",
       " 'grid_elec_export_t': [0.0,\n",
       "  0.0,\n",
       "  0.0,\n",
       "  0.0,\n",
       "  0.0,\n",
       "  0.0,\n",
       "  0.0,\n",
       "  0.0,\n",
       "  0.0,\n",
       "  0.0,\n",
       "  0.0,\n",
       "  0.0,\n",
       "  0.0,\n",
       "  0.0,\n",
       "  0.0,\n",
       "  0.0,\n",
       "  0.0,\n",
       "  0.0,\n",
       "  0.0,\n",
       "  0.0,\n",
       "  0.0,\n",
       "  0.0,\n",
       "  8.41689661064047,\n",
       "  8.41689661064047],\n",
       " 'grid_elec_import_t': [0.0,\n",
       "  0.0,\n",
       "  0.0,\n",
       "  0.0,\n",
       "  0.0,\n",
       "  23.485804182438116,\n",
       "  135.09214015936672,\n",
       "  178.4550745501382,\n",
       "  199.3595417455239,\n",
       "  132.50659149693584,\n",
       "  15.239804182438121,\n",
       "  23.573586442561883,\n",
       "  83.0212057685953,\n",
       "  129.04414015936672,\n",
       "  175.5850745501382,\n",
       "  200.0735417455239,\n",
       "  179.3510745501382,\n",
       "  93.31565710616437,\n",
       "  24.39580418243812,\n",
       "  2.8613369870523933,\n",
       "  2.9313369870523935,\n",
       "  2.93133698705239,\n",
       "  0.0,\n",
       "  0.0]}"
      ]
     },
     "execution_count": 97,
     "metadata": {},
     "output_type": "execute_result"
    }
   ],
   "source": [
    "time_indep_dic"
   ]
  },
  {
   "cell_type": "code",
   "execution_count": 94,
   "metadata": {},
   "outputs": [
    {
     "data": {
      "text/plain": [
       "{'objective': 2766.366966661406,\n",
       " 'size[PV]': 100.0,\n",
       " 'size[BAT]': 42.72848305320235,\n",
       " 'size[SOFC]': 20.046484375,\n",
       " 'size[AD]': 35.169270833333336,\n",
       " 'install[PV]': 1.0,\n",
       " 'install[BAT]': 1.0,\n",
       " 'install[SOFC]': 1.0,\n",
       " 'install[AD]': 1.0,\n",
       " 'CAPEX[PV]': 356.56635000000006,\n",
       " 'CAPEX[BAT]': 55.94861598693635,\n",
       " 'CAPEX[SOFC]': 103.7513109375,\n",
       " 'CAPEX[AD]': 103.95703125000001,\n",
       " 'grid_elec_export': 16.83379322128094,\n",
       " 'grid_elec_import': 1601.2230517829241,\n",
       " 'capex': 620.2233081744364,\n",
       " 'opex': 2726.5814222678187,\n",
       " 'totex': 2766.366966661406}"
      ]
     },
     "execution_count": 94,
     "metadata": {},
     "output_type": "execute_result"
    }
   ],
   "source": []
  },
  {
   "cell_type": "code",
   "execution_count": 92,
   "metadata": {},
   "outputs": [
    {
     "data": {
      "text/plain": [
       "{'objective': 2766.366966661406}"
      ]
     },
     "execution_count": 92,
     "metadata": {},
     "output_type": "execute_result"
    }
   ],
   "source": [
    "time_indep_dic"
   ]
  },
  {
   "cell_type": "code",
   "execution_count": 40,
   "metadata": {},
   "outputs": [],
   "source": [
    "# Store every variable without the _t indicator (time independent)\n",
    "def get_results_non_t():\n",
    "    \n",
    "    for v in m.getVars():\n",
    "        if not \"_t\" in v.varName:\n",
    "            vars_name.append(v.varName)\n",
    "            vars_value.append(v.x)\n",
    "            vars_lb.append(v.lb)\n",
    "            vars_ub.append(v.ub)\n",
    "\n",
    "        # Attribute physical units to variables according to differnet criterias\n",
    "        # By default the units are 'None'\n",
    "            if v.varName in dic_vars_unit:\n",
    "                vars_unit.append(dic_vars_unit[v.varName])\n",
    "            elif \"_size\" in v.varName:\n",
    "                vars_unit.append(df_unit_c['Size_units'][v.varName.split('_')[0]])\n",
    "            elif \"_install\" in v.varName:\n",
    "                vars_unit.append('Binary')\n",
    "            elif \"_CAPEX\" in v.varName:\n",
    "                vars_unit.append('kCHF')\n",
    "            else:\n",
    "                vars_unit.append(None)"
   ]
  },
  {
   "cell_type": "markdown",
   "metadata": {},
   "source": [
    "## Display"
   ]
  },
  {
   "cell_type": "markdown",
   "metadata": {},
   "source": [
    "### Resust Table"
   ]
  },
  {
   "cell_type": "code",
   "execution_count": 41,
   "metadata": {},
   "outputs": [
    {
     "data": {
      "text/html": [
       "<div>\n",
       "<style scoped>\n",
       "    .dataframe tbody tr th:only-of-type {\n",
       "        vertical-align: middle;\n",
       "    }\n",
       "\n",
       "    .dataframe tbody tr th {\n",
       "        vertical-align: top;\n",
       "    }\n",
       "\n",
       "    .dataframe thead th {\n",
       "        text-align: right;\n",
       "    }\n",
       "</style>\n",
       "<table border=\"1\" class=\"dataframe\">\n",
       "  <thead>\n",
       "    <tr style=\"text-align: right;\">\n",
       "      <th></th>\n",
       "      <th>Variable Name</th>\n",
       "      <th>Result</th>\n",
       "      <th>Unit</th>\n",
       "      <th>Lower Bound</th>\n",
       "      <th>Upper Bound</th>\n",
       "    </tr>\n",
       "  </thead>\n",
       "  <tbody>\n",
       "    <tr>\n",
       "      <td>0</td>\n",
       "      <td>size[PV]</td>\n",
       "      <td>100.000</td>\n",
       "      <td>None</td>\n",
       "      <td>0.0</td>\n",
       "      <td>10000.0</td>\n",
       "    </tr>\n",
       "    <tr>\n",
       "      <td>1</td>\n",
       "      <td>size[BAT]</td>\n",
       "      <td>42.728</td>\n",
       "      <td>None</td>\n",
       "      <td>0.0</td>\n",
       "      <td>10000.0</td>\n",
       "    </tr>\n",
       "    <tr>\n",
       "      <td>2</td>\n",
       "      <td>size[SOFC]</td>\n",
       "      <td>20.046</td>\n",
       "      <td>None</td>\n",
       "      <td>0.0</td>\n",
       "      <td>10000.0</td>\n",
       "    </tr>\n",
       "    <tr>\n",
       "      <td>3</td>\n",
       "      <td>size[AD]</td>\n",
       "      <td>35.169</td>\n",
       "      <td>None</td>\n",
       "      <td>0.0</td>\n",
       "      <td>10000.0</td>\n",
       "    </tr>\n",
       "    <tr>\n",
       "      <td>4</td>\n",
       "      <td>install[PV]</td>\n",
       "      <td>1.000</td>\n",
       "      <td>None</td>\n",
       "      <td>0.0</td>\n",
       "      <td>1.0</td>\n",
       "    </tr>\n",
       "    <tr>\n",
       "      <td>5</td>\n",
       "      <td>install[BAT]</td>\n",
       "      <td>1.000</td>\n",
       "      <td>None</td>\n",
       "      <td>0.0</td>\n",
       "      <td>1.0</td>\n",
       "    </tr>\n",
       "    <tr>\n",
       "      <td>6</td>\n",
       "      <td>install[SOFC]</td>\n",
       "      <td>1.000</td>\n",
       "      <td>None</td>\n",
       "      <td>0.0</td>\n",
       "      <td>1.0</td>\n",
       "    </tr>\n",
       "    <tr>\n",
       "      <td>7</td>\n",
       "      <td>install[AD]</td>\n",
       "      <td>1.000</td>\n",
       "      <td>None</td>\n",
       "      <td>0.0</td>\n",
       "      <td>1.0</td>\n",
       "    </tr>\n",
       "    <tr>\n",
       "      <td>8</td>\n",
       "      <td>CAPEX[PV]</td>\n",
       "      <td>356.566</td>\n",
       "      <td>None</td>\n",
       "      <td>0.0</td>\n",
       "      <td>10000.0</td>\n",
       "    </tr>\n",
       "    <tr>\n",
       "      <td>9</td>\n",
       "      <td>CAPEX[BAT]</td>\n",
       "      <td>55.949</td>\n",
       "      <td>None</td>\n",
       "      <td>0.0</td>\n",
       "      <td>10000.0</td>\n",
       "    </tr>\n",
       "    <tr>\n",
       "      <td>10</td>\n",
       "      <td>CAPEX[SOFC]</td>\n",
       "      <td>103.751</td>\n",
       "      <td>None</td>\n",
       "      <td>0.0</td>\n",
       "      <td>10000.0</td>\n",
       "    </tr>\n",
       "    <tr>\n",
       "      <td>11</td>\n",
       "      <td>CAPEX[AD]</td>\n",
       "      <td>103.957</td>\n",
       "      <td>None</td>\n",
       "      <td>0.0</td>\n",
       "      <td>10000.0</td>\n",
       "    </tr>\n",
       "    <tr>\n",
       "      <td>12</td>\n",
       "      <td>grid_elec_export</td>\n",
       "      <td>16.834</td>\n",
       "      <td>kWh</td>\n",
       "      <td>0.0</td>\n",
       "      <td>10000.0</td>\n",
       "    </tr>\n",
       "    <tr>\n",
       "      <td>13</td>\n",
       "      <td>grid_elec_import</td>\n",
       "      <td>1601.223</td>\n",
       "      <td>kWh</td>\n",
       "      <td>0.0</td>\n",
       "      <td>10000.0</td>\n",
       "    </tr>\n",
       "    <tr>\n",
       "      <td>14</td>\n",
       "      <td>capex</td>\n",
       "      <td>620.223</td>\n",
       "      <td>kCHF</td>\n",
       "      <td>-10000.0</td>\n",
       "      <td>10000.0</td>\n",
       "    </tr>\n",
       "    <tr>\n",
       "      <td>15</td>\n",
       "      <td>opex</td>\n",
       "      <td>2726.581</td>\n",
       "      <td>kCHF/year</td>\n",
       "      <td>-10000.0</td>\n",
       "      <td>10000.0</td>\n",
       "    </tr>\n",
       "    <tr>\n",
       "      <td>16</td>\n",
       "      <td>totex</td>\n",
       "      <td>2766.367</td>\n",
       "      <td>kCHF/year</td>\n",
       "      <td>-10000.0</td>\n",
       "      <td>10000.0</td>\n",
       "    </tr>\n",
       "  </tbody>\n",
       "</table>\n",
       "</div>"
      ],
      "text/plain": [
       "       Variable Name    Result       Unit  Lower Bound  Upper Bound\n",
       "0           size[PV]   100.000       None          0.0      10000.0\n",
       "1          size[BAT]    42.728       None          0.0      10000.0\n",
       "2         size[SOFC]    20.046       None          0.0      10000.0\n",
       "3           size[AD]    35.169       None          0.0      10000.0\n",
       "4        install[PV]     1.000       None          0.0          1.0\n",
       "5       install[BAT]     1.000       None          0.0          1.0\n",
       "6      install[SOFC]     1.000       None          0.0          1.0\n",
       "7        install[AD]     1.000       None          0.0          1.0\n",
       "8          CAPEX[PV]   356.566       None          0.0      10000.0\n",
       "9         CAPEX[BAT]    55.949       None          0.0      10000.0\n",
       "10       CAPEX[SOFC]   103.751       None          0.0      10000.0\n",
       "11         CAPEX[AD]   103.957       None          0.0      10000.0\n",
       "12  grid_elec_export    16.834        kWh          0.0      10000.0\n",
       "13  grid_elec_import  1601.223        kWh          0.0      10000.0\n",
       "14             capex   620.223       kCHF     -10000.0      10000.0\n",
       "15              opex  2726.581  kCHF/year     -10000.0      10000.0\n",
       "16             totex  2766.367  kCHF/year     -10000.0      10000.0"
      ]
     },
     "execution_count": 41,
     "metadata": {},
     "output_type": "execute_result"
    }
   ],
   "source": [
    "vars_name, vars_value, vars_unit, vars_lb, vars_ub = [], [], [], [], []\n",
    "    \n",
    "dict_variables = {'Variable Name': vars_name, \n",
    "                  'Result': vars_value, \n",
    "                  'Unit': vars_unit, \n",
    "                  'Lower Bound': vars_lb, \n",
    "                  'Upper Bound': vars_ub}\n",
    "\n",
    "get_results_non_t()\n",
    "\n",
    "df_results = pd.DataFrame.from_dict(dict_variables)\n",
    "df_results"
   ]
  },
  {
   "cell_type": "markdown",
   "metadata": {},
   "source": [
    "### Result graphs as a function of time"
   ]
  },
  {
   "cell_type": "code",
   "execution_count": 83,
   "metadata": {},
   "outputs": [],
   "source": [
    "def time_dep_variabl_names():\n",
    "    full_list = []\n",
    "    unique_list = []\n",
    "\n",
    "    # get all variable names, store the time dependent ones and cut the period index\n",
    "    for v in m.getVars():\n",
    "        if \"_t\" and \",\" in v.varName:\n",
    "            full_list.append(v.varName.split(\",\")[0])\n",
    "        elif \"_t\" in v.varName and \",\" not in v.varName:\n",
    "            full_list.append(v.varName.split(\"[\")[0])\n",
    "\n",
    "    # remove repetitions\n",
    "    for i in full_list:\n",
    "        if i not in unique_list:\n",
    "            unique_list.append(i)\n",
    "    return unique_list"
   ]
  },
  {
   "cell_type": "code",
   "execution_count": 84,
   "metadata": {},
   "outputs": [
    {
     "data": {
      "text/plain": [
       "['PV_prod_t[Elec',\n",
       " 'BAT_prod_t[Elec',\n",
       " 'BAT_cons_t[Elec',\n",
       " 'SOFC_prod_t[Elec',\n",
       " 'SOFC_cons_t[Biogas',\n",
       " 'AD_prod_t[Biogas',\n",
       " 'AD_cons_t[Biomass',\n",
       " 'AD_cons_t[Elec',\n",
       " 'bat_SOC_t',\n",
       " 'grid_elec_export_t',\n",
       " 'grid_elec_import_t']"
      ]
     },
     "execution_count": 84,
     "metadata": {},
     "output_type": "execute_result"
    }
   ],
   "source": [
    "vars_name_t = time_dep_variabl_names()\n",
    "vars_name_t"
   ]
  },
  {
   "cell_type": "code",
   "execution_count": 85,
   "metadata": {},
   "outputs": [],
   "source": [
    "var = 'PV_prod_t[Elec,'\n",
    "def plot_time_dep_result(var):\n",
    "    y = []\n",
    "    if '[' in var:\n",
    "        for p in Periods:\n",
    "            y.append(m.getVarByName(var + ',{}]'.format(p)).x)\n",
    "    else:\n",
    "        for p in Periods:\n",
    "            y.append(m.getVarByName(var + '[{}]'.format(p)).x)\n",
    "            \n",
    "    plt.bar(Periods, y)"
   ]
  },
  {
   "cell_type": "code",
   "execution_count": 88,
   "metadata": {},
   "outputs": [
    {
     "data": {
      "image/png": "[encoded data removed]",
      "text/plain": [
       "<Figure size 432x288 with 1 Axes>"
      ]
     },
     "metadata": {
      "needs_background": "light"
     },
     "output_type": "display_data"
    }
   ],
   "source": [
    "plot_time_dep_result('PV_prod_t[Elec')"
   ]
  },
  {
   "cell_type": "code",
   "execution_count": 87,
   "metadata": {},
   "outputs": [
    {
     "data": {
      "image/png": "[encoded data removed]",
      "text/plain": [
       "<Figure size 432x288 with 1 Axes>"
      ]
     },
     "metadata": {
      "needs_background": "light"
     },
     "output_type": "display_data"
    }
   ],
   "source": [
    "plot_time_dep_result('bat_SOC_t')"
   ]
  },
  {
   "cell_type": "code",
   "execution_count": 76,
   "metadata": {},
   "outputs": [
    {
     "data": {
      "image/png": "[encoded data removed]",
      "text/plain": [
       "<Figure size 432x288 with 1 Axes>"
      ]
     },
     "metadata": {
      "needs_background": "light"
     },
     "output_type": "display_data"
    }
   ],
   "source": [
    "plot_time_dep_result('BAT_cons_t[Elec')"
   ]
  },
  {
   "cell_type": "code",
   "execution_count": 77,
   "metadata": {},
   "outputs": [
    {
     "data": {
      "image/png": "[encoded data removed]",
      "text/plain": [
       "<Figure size 432x288 with 1 Axes>"
      ]
     },
     "metadata": {
      "needs_background": "light"
     },
     "output_type": "display_data"
    }
   ],
   "source": [
    "plot_time_dep_result('BAT_prod_t[Elec')"
   ]
  },
  {
   "cell_type": "code",
   "execution_count": 78,
   "metadata": {},
   "outputs": [
    {
     "data": {
      "image/png": "[encoded data removed]",
      "text/plain": [
       "<Figure size 432x288 with 1 Axes>"
      ]
     },
     "metadata": {
      "needs_background": "light"
     },
     "output_type": "display_data"
    }
   ],
   "source": [
    "plot_time_dep_result('SOFC_prod_t[Elec')"
   ]
  },
  {
   "cell_type": "code",
   "execution_count": 79,
   "metadata": {},
   "outputs": [
    {
     "data": {
      "image/png": "[encoded data removed]",
      "text/plain": [
       "<Figure size 432x288 with 1 Axes>"
      ]
     },
     "metadata": {
      "needs_background": "light"
     },
     "output_type": "display_data"
    }
   ],
   "source": [
    "plot_time_dep_result('SOFC_cons_t[Biogas')"
   ]
  },
  {
   "cell_type": "code",
   "execution_count": 80,
   "metadata": {},
   "outputs": [
    {
     "data": {
      "image/png": "[encoded data removed]",
      "text/plain": [
       "<Figure size 432x288 with 1 Axes>"
      ]
     },
     "metadata": {
      "needs_background": "light"
     },
     "output_type": "display_data"
    }
   ],
   "source": [
    "plot_time_dep_result('AD_prod_t[Biogas')"
   ]
  },
  {
   "cell_type": "code",
   "execution_count": 81,
   "metadata": {},
   "outputs": [
    {
     "data": {
      "image/png": "[encoded data removed]",
      "text/plain": [
       "<Figure size 432x288 with 1 Axes>"
      ]
     },
     "metadata": {
      "needs_background": "light"
     },
     "output_type": "display_data"
    }
   ],
   "source": [
    "plot_time_dep_result('AD_cons_t[Biomass')"
   ]
  },
  {
   "cell_type": "code",
   "execution_count": 53,
   "metadata": {},
   "outputs": [
    {
     "data": {
      "image/png": "[encoded data removed]",
      "text/plain": [
       "<Figure size 432x288 with 1 Axes>"
      ]
     },
     "metadata": {
      "needs_background": "light"
     },
     "output_type": "display_data"
    }
   ],
   "source": [
    "plot_time_dep_result('AD_cons_t[Elec')"
   ]
  },
  {
   "cell_type": "code",
   "execution_count": 54,
   "metadata": {},
   "outputs": [
    {
     "data": {
      "image/png": "[encoded data removed]",
      "text/plain": [
       "<Figure size 432x288 with 1 Axes>"
      ]
     },
     "metadata": {
      "needs_background": "light"
     },
     "output_type": "display_data"
    }
   ],
   "source": [
    "plot_time_dep_result('grid_elec_export_t')"
   ]
  },
  {
   "cell_type": "code",
   "execution_count": 55,
   "metadata": {},
   "outputs": [
    {
     "data": {
      "image/png": "[encoded data removed]",
      "text/plain": [
       "<Figure size 432x288 with 1 Axes>"
      ]
     },
     "metadata": {
      "needs_background": "light"
     },
     "output_type": "display_data"
    }
   ],
   "source": [
    "plot_time_dep_result('grid_elec_import_t')"
   ]
  },
  {
   "cell_type": "markdown",
   "metadata": {},
   "source": [
    "### Result text"
   ]
  },
  {
   "cell_type": "code",
   "execution_count": 56,
   "metadata": {},
   "outputs": [
    {
     "name": "stdout",
     "output_type": "stream",
     "text": [
      "Obj: 2766.37\n",
      "size[PV] 100\n",
      "size[BAT] 42.7285\n",
      "size[SOFC] 20.0465\n",
      "size[AD] 35.1693\n",
      "install[PV] 1\n",
      "install[BAT] 1\n",
      "install[SOFC] 1\n",
      "install[AD] 1\n",
      "CAPEX[PV] 356.566\n",
      "CAPEX[BAT] 55.9486\n",
      "CAPEX[SOFC] 103.751\n",
      "CAPEX[AD] 103.957\n",
      "grid_elec_export 16.8338\n",
      "grid_elec_import 1601.22\n",
      "capex 620.223\n",
      "opex 2726.58\n",
      "totex 2766.37\n",
      "\n",
      "#----------------------------------------------------------------------#\n",
      "# temporal variables\n",
      "#----------------------------------------------------------------------#\n",
      "PV_prod_t[Elec,0] 0\n",
      "PV_prod_t[Elec,1] 0\n",
      "PV_prod_t[Elec,2] 0\n",
      "PV_prod_t[Elec,3] 0.014\n",
      "PV_prod_t[Elec,4] 0.63\n",
      "PV_prod_t[Elec,5] 2.142\n",
      "PV_prod_t[Elec,6] 4.018\n",
      "PV_prod_t[Elec,7] 6.048\n",
      "PV_prod_t[Elec,8] 7.84\n",
      "PV_prod_t[Elec,9] 9.268\n",
      "PV_prod_t[Elec,10] 10.388\n",
      "PV_prod_t[Elec,11] 10.738\n",
      "PV_prod_t[Elec,12] 10.696\n",
      "PV_prod_t[Elec,13] 10.066\n",
      "PV_prod_t[Elec,14] 8.918\n",
      "PV_prod_t[Elec,15] 7.126\n",
      "PV_prod_t[Elec,16] 5.152\n",
      "PV_prod_t[Elec,17] 3.066\n",
      "PV_prod_t[Elec,18] 1.232\n",
      "PV_prod_t[Elec,19] 0.07\n",
      "PV_prod_t[Elec,20] 0\n",
      "PV_prod_t[Elec,21] 0\n",
      "PV_prod_t[Elec,22] 0\n",
      "PV_prod_t[Elec,23] 0\n",
      "BAT_prod_t[Elec,0] 0\n",
      "BAT_prod_t[Elec,1] 0\n",
      "BAT_prod_t[Elec,2] 34.3116\n",
      "BAT_prod_t[Elec,3] 0\n",
      "BAT_prod_t[Elec,4] 0\n",
      "BAT_prod_t[Elec,5] 0\n",
      "BAT_prod_t[Elec,6] 0\n",
      "BAT_prod_t[Elec,7] 0\n",
      "BAT_prod_t[Elec,8] 0\n",
      "BAT_prod_t[Elec,9] 42.7285\n",
      "BAT_prod_t[Elec,10] 0\n",
      "BAT_prod_t[Elec,11] 0\n",
      "BAT_prod_t[Elec,12] 0\n",
      "BAT_prod_t[Elec,13] 0\n",
      "BAT_prod_t[Elec,14] 0\n",
      "BAT_prod_t[Elec,15] 0\n",
      "BAT_prod_t[Elec,16] 0\n",
      "BAT_prod_t[Elec,17] 42.7285\n",
      "BAT_prod_t[Elec,18] 0\n",
      "BAT_prod_t[Elec,19] 0\n",
      "BAT_prod_t[Elec,20] 0\n",
      "BAT_prod_t[Elec,21] 42.7285\n",
      "BAT_prod_t[Elec,22] 0\n",
      "BAT_prod_t[Elec,23] 0\n",
      "BAT_cons_t[Elec,0] 8.4169\n",
      "BAT_cons_t[Elec,1] 8.4169\n",
      "BAT_cons_t[Elec,2] 42.7285\n",
      "BAT_cons_t[Elec,3] 8.4309\n",
      "BAT_cons_t[Elec,4] 9.0469\n",
      "BAT_cons_t[Elec,5] 0\n",
      "BAT_cons_t[Elec,6] 0\n",
      "BAT_cons_t[Elec,7] 0\n",
      "BAT_cons_t[Elec,8] 0\n",
      "BAT_cons_t[Elec,9] 0\n",
      "BAT_cons_t[Elec,10] 0\n",
      "BAT_cons_t[Elec,11] 42.7285\n",
      "BAT_cons_t[Elec,12] 0\n",
      "BAT_cons_t[Elec,13] 0\n",
      "BAT_cons_t[Elec,14] 0\n",
      "BAT_cons_t[Elec,15] 0\n",
      "BAT_cons_t[Elec,16] 0\n",
      "BAT_cons_t[Elec,17] 0\n",
      "BAT_cons_t[Elec,18] 0\n",
      "BAT_cons_t[Elec,19] 0\n",
      "BAT_cons_t[Elec,20] 0\n",
      "BAT_cons_t[Elec,21] 42.7285\n",
      "BAT_cons_t[Elec,22] 0\n",
      "BAT_cons_t[Elec,23] 0\n",
      "SOFC_prod_t[Elec,0] 20.0465\n",
      "SOFC_prod_t[Elec,1] 20.0465\n",
      "SOFC_prod_t[Elec,2] 20.0465\n",
      "SOFC_prod_t[Elec,3] 20.0465\n",
      "SOFC_prod_t[Elec,4] 20.0465\n",
      "SOFC_prod_t[Elec,5] 20.0465\n",
      "SOFC_prod_t[Elec,6] 20.0465\n",
      "SOFC_prod_t[Elec,7] 20.0465\n",
      "SOFC_prod_t[Elec,8] 20.0465\n",
      "SOFC_prod_t[Elec,9] 20.0465\n",
      "SOFC_prod_t[Elec,10] 20.0465\n",
      "SOFC_prod_t[Elec,11] 20.0465\n",
      "SOFC_prod_t[Elec,12] 20.0465\n",
      "SOFC_prod_t[Elec,13] 20.0465\n",
      "SOFC_prod_t[Elec,14] 20.0465\n",
      "SOFC_prod_t[Elec,15] 20.0465\n",
      "SOFC_prod_t[Elec,16] 20.0465\n",
      "SOFC_prod_t[Elec,17] 20.0465\n",
      "SOFC_prod_t[Elec,18] 20.0465\n",
      "SOFC_prod_t[Elec,19] 20.0465\n",
      "SOFC_prod_t[Elec,20] 20.0465\n",
      "SOFC_prod_t[Elec,21] 20.0465\n",
      "SOFC_prod_t[Elec,22] 20.0465\n",
      "SOFC_prod_t[Elec,23] 20.0465\n",
      "SOFC_cons_t[Biogas,0] 35.1693\n",
      "SOFC_cons_t[Biogas,1] 35.1693\n",
      "SOFC_cons_t[Biogas,2] 35.1693\n",
      "SOFC_cons_t[Biogas,3] 35.1693\n",
      "SOFC_cons_t[Biogas,4] 35.1693\n",
      "SOFC_cons_t[Biogas,5] 35.1693\n",
      "SOFC_cons_t[Biogas,6] 35.1693\n",
      "SOFC_cons_t[Biogas,7] 35.1693\n",
      "SOFC_cons_t[Biogas,8] 35.1693\n",
      "SOFC_cons_t[Biogas,9] 35.1693\n",
      "SOFC_cons_t[Biogas,10] 35.1693\n",
      "SOFC_cons_t[Biogas,11] 35.1693\n",
      "SOFC_cons_t[Biogas,12] 35.1693\n",
      "SOFC_cons_t[Biogas,13] 35.1693\n",
      "SOFC_cons_t[Biogas,14] 35.1693\n",
      "SOFC_cons_t[Biogas,15] 35.1693\n",
      "SOFC_cons_t[Biogas,16] 35.1693\n",
      "SOFC_cons_t[Biogas,17] 35.1693\n",
      "SOFC_cons_t[Biogas,18] 35.1693\n",
      "SOFC_cons_t[Biogas,19] 35.1693\n",
      "SOFC_cons_t[Biogas,20] 35.1693\n",
      "SOFC_cons_t[Biogas,21] 35.1693\n",
      "SOFC_cons_t[Biogas,22] 35.1693\n",
      "SOFC_cons_t[Biogas,23] 35.1693\n",
      "AD_prod_t[Biogas,0] 35.1693\n",
      "AD_prod_t[Biogas,1] 35.1693\n",
      "AD_prod_t[Biogas,2] 35.1693\n",
      "AD_prod_t[Biogas,3] 35.1693\n",
      "AD_prod_t[Biogas,4] 35.1693\n",
      "AD_prod_t[Biogas,5] 35.1693\n",
      "AD_prod_t[Biogas,6] 35.1693\n",
      "AD_prod_t[Biogas,7] 35.1693\n",
      "AD_prod_t[Biogas,8] 35.1693\n",
      "AD_prod_t[Biogas,9] 35.1693\n",
      "AD_prod_t[Biogas,10] 35.1693\n",
      "AD_prod_t[Biogas,11] 35.1693\n",
      "AD_prod_t[Biogas,12] 35.1693\n",
      "AD_prod_t[Biogas,13] 35.1693\n",
      "AD_prod_t[Biogas,14] 35.1693\n",
      "AD_prod_t[Biogas,15] 35.1693\n",
      "AD_prod_t[Biogas,16] 35.1693\n",
      "AD_prod_t[Biogas,17] 35.1693\n",
      "AD_prod_t[Biogas,18] 35.1693\n",
      "AD_prod_t[Biogas,19] 35.1693\n",
      "AD_prod_t[Biogas,20] 35.1693\n",
      "AD_prod_t[Biogas,21] 35.1693\n",
      "AD_prod_t[Biogas,22] 35.1693\n",
      "AD_prod_t[Biogas,23] 35.1693\n",
      "AD_cons_t[Biomass,0] 117.231\n",
      "AD_cons_t[Biomass,1] 117.231\n",
      "AD_cons_t[Biomass,2] 117.231\n",
      "AD_cons_t[Biomass,3] 117.231\n",
      "AD_cons_t[Biomass,4] 117.231\n",
      "AD_cons_t[Biomass,5] 117.231\n",
      "AD_cons_t[Biomass,6] 117.231\n",
      "AD_cons_t[Biomass,7] 117.231\n",
      "AD_cons_t[Biomass,8] 117.231\n",
      "AD_cons_t[Biomass,9] 117.231\n",
      "AD_cons_t[Biomass,10] 117.231\n",
      "AD_cons_t[Biomass,11] 117.231\n",
      "AD_cons_t[Biomass,12] 117.231\n",
      "AD_cons_t[Biomass,13] 117.231\n",
      "AD_cons_t[Biomass,14] 117.231\n",
      "AD_cons_t[Biomass,15] 117.231\n",
      "AD_cons_t[Biomass,16] 117.231\n",
      "AD_cons_t[Biomass,17] 117.231\n",
      "AD_cons_t[Biomass,18] 117.231\n",
      "AD_cons_t[Biomass,19] 117.231\n",
      "AD_cons_t[Biomass,20] 117.231\n",
      "AD_cons_t[Biomass,21] 117.231\n",
      "AD_cons_t[Biomass,22] 117.231\n",
      "AD_cons_t[Biomass,23] 117.231\n",
      "AD_cons_t[Elec,0] 0.281354\n",
      "AD_cons_t[Elec,1] 0.281354\n",
      "AD_cons_t[Elec,2] 0.281354\n",
      "AD_cons_t[Elec,3] 0.281354\n",
      "AD_cons_t[Elec,4] 0.281354\n",
      "AD_cons_t[Elec,5] 0.281354\n",
      "AD_cons_t[Elec,6] 0.281354\n",
      "AD_cons_t[Elec,7] 0.281354\n",
      "AD_cons_t[Elec,8] 0.281354\n",
      "AD_cons_t[Elec,9] 0.281354\n",
      "AD_cons_t[Elec,10] 0.281354\n",
      "AD_cons_t[Elec,11] 0.281354\n",
      "AD_cons_t[Elec,12] 0.281354\n",
      "AD_cons_t[Elec,13] 0.281354\n",
      "AD_cons_t[Elec,14] 0.281354\n",
      "AD_cons_t[Elec,15] 0.281354\n",
      "AD_cons_t[Elec,16] 0.281354\n",
      "AD_cons_t[Elec,17] 0.281354\n",
      "AD_cons_t[Elec,18] 0.281354\n",
      "AD_cons_t[Elec,19] 0.281354\n",
      "AD_cons_t[Elec,20] 0.281354\n",
      "AD_cons_t[Elec,21] 0.281354\n",
      "AD_cons_t[Elec,22] 0.281354\n",
      "AD_cons_t[Elec,23] 0.281354\n",
      "bat_SOC_t[0] 0\n",
      "bat_SOC_t[1] 8.4169\n",
      "bat_SOC_t[2] 16.8338\n",
      "bat_SOC_t[3] 25.2507\n",
      "bat_SOC_t[4] 33.6816\n",
      "bat_SOC_t[5] 42.7285\n",
      "bat_SOC_t[6] 42.7285\n",
      "bat_SOC_t[7] 42.7285\n",
      "bat_SOC_t[8] 42.7285\n",
      "bat_SOC_t[9] 42.7285\n",
      "bat_SOC_t[10] 0\n",
      "bat_SOC_t[11] 0\n",
      "bat_SOC_t[12] 42.7285\n",
      "bat_SOC_t[13] 42.7285\n",
      "bat_SOC_t[14] 42.7285\n",
      "bat_SOC_t[15] 42.7285\n",
      "bat_SOC_t[16] 42.7285\n",
      "bat_SOC_t[17] 42.7285\n",
      "bat_SOC_t[18] 0\n",
      "bat_SOC_t[19] 0\n",
      "bat_SOC_t[20] 0\n",
      "bat_SOC_t[21] 0\n",
      "bat_SOC_t[22] 0\n",
      "bat_SOC_t[23] 0\n",
      "bat_SOC_t[24] -0\n",
      "grid_elec_export_t[0] 0\n",
      "grid_elec_export_t[1] 0\n",
      "grid_elec_export_t[2] 0\n",
      "grid_elec_export_t[3] 0\n",
      "grid_elec_export_t[4] 0\n",
      "grid_elec_export_t[5] 0\n",
      "grid_elec_export_t[6] 0\n",
      "grid_elec_export_t[7] 0\n",
      "grid_elec_export_t[8] 0\n",
      "grid_elec_export_t[9] 0\n",
      "grid_elec_export_t[10] 0\n",
      "grid_elec_export_t[11] 0\n",
      "grid_elec_export_t[12] 0\n",
      "grid_elec_export_t[13] 0\n",
      "grid_elec_export_t[14] 0\n",
      "grid_elec_export_t[15] 0\n",
      "grid_elec_export_t[16] 0\n",
      "grid_elec_export_t[17] 0\n",
      "grid_elec_export_t[18] 0\n",
      "grid_elec_export_t[19] 0\n",
      "grid_elec_export_t[20] 0\n",
      "grid_elec_export_t[21] 0\n",
      "grid_elec_export_t[22] 8.4169\n",
      "grid_elec_export_t[23] 8.4169\n",
      "grid_elec_import_t[0] 0\n",
      "grid_elec_import_t[1] 0\n",
      "grid_elec_import_t[2] 0\n",
      "grid_elec_import_t[3] 0\n",
      "grid_elec_import_t[4] 0\n",
      "grid_elec_import_t[5] 23.4858\n",
      "grid_elec_import_t[6] 135.092\n",
      "grid_elec_import_t[7] 178.455\n",
      "grid_elec_import_t[8] 199.36\n",
      "grid_elec_import_t[9] 132.507\n",
      "grid_elec_import_t[10] 15.2398\n",
      "grid_elec_import_t[11] 23.5736\n",
      "grid_elec_import_t[12] 83.0212\n",
      "grid_elec_import_t[13] 129.044\n",
      "grid_elec_import_t[14] 175.585\n",
      "grid_elec_import_t[15] 200.074\n",
      "grid_elec_import_t[16] 179.351\n",
      "grid_elec_import_t[17] 93.3157\n",
      "grid_elec_import_t[18] 24.3958\n",
      "grid_elec_import_t[19] 2.86134\n",
      "grid_elec_import_t[20] 2.93134\n",
      "grid_elec_import_t[21] 2.93134\n",
      "grid_elec_import_t[22] 0\n",
      "grid_elec_import_t[23] 0\n"
     ]
    }
   ],
   "source": [
    "# Print all variable values from the optimized model\n",
    "display_results()"
   ]
  },
  {
   "cell_type": "markdown",
   "metadata": {},
   "source": [
    "# Brief results"
   ]
  },
  {
   "cell_type": "code",
   "execution_count": 57,
   "metadata": {},
   "outputs": [
    {
     "name": "stdout",
     "output_type": "stream",
     "text": [
      "Model Feasible\n"
     ]
    }
   ],
   "source": [
    "if not m.status == GRB.INFEASIBLE:\n",
    "    print('Model Feasible')\n",
    "else:\n",
    "    print('Infeasible model -_-')"
   ]
  },
  {
   "cell_type": "code",
   "execution_count": 58,
   "metadata": {
    "scrolled": true
   },
   "outputs": [
    {
     "data": {
      "text/html": [
       "<div>\n",
       "<style scoped>\n",
       "    .dataframe tbody tr th:only-of-type {\n",
       "        vertical-align: middle;\n",
       "    }\n",
       "\n",
       "    .dataframe tbody tr th {\n",
       "        vertical-align: top;\n",
       "    }\n",
       "\n",
       "    .dataframe thead th {\n",
       "        text-align: right;\n",
       "    }\n",
       "</style>\n",
       "<table border=\"1\" class=\"dataframe\">\n",
       "  <thead>\n",
       "    <tr style=\"text-align: right;\">\n",
       "      <th></th>\n",
       "      <th>Variable Name</th>\n",
       "      <th>Result</th>\n",
       "      <th>Unit</th>\n",
       "      <th>Lower Bound</th>\n",
       "      <th>Upper Bound</th>\n",
       "    </tr>\n",
       "  </thead>\n",
       "  <tbody>\n",
       "    <tr>\n",
       "      <td>0</td>\n",
       "      <td>size[PV]</td>\n",
       "      <td>100.000</td>\n",
       "      <td>None</td>\n",
       "      <td>0.0</td>\n",
       "      <td>10000.0</td>\n",
       "    </tr>\n",
       "    <tr>\n",
       "      <td>1</td>\n",
       "      <td>size[BAT]</td>\n",
       "      <td>42.728</td>\n",
       "      <td>None</td>\n",
       "      <td>0.0</td>\n",
       "      <td>10000.0</td>\n",
       "    </tr>\n",
       "    <tr>\n",
       "      <td>2</td>\n",
       "      <td>size[SOFC]</td>\n",
       "      <td>20.046</td>\n",
       "      <td>None</td>\n",
       "      <td>0.0</td>\n",
       "      <td>10000.0</td>\n",
       "    </tr>\n",
       "    <tr>\n",
       "      <td>3</td>\n",
       "      <td>size[AD]</td>\n",
       "      <td>35.169</td>\n",
       "      <td>None</td>\n",
       "      <td>0.0</td>\n",
       "      <td>10000.0</td>\n",
       "    </tr>\n",
       "    <tr>\n",
       "      <td>4</td>\n",
       "      <td>install[PV]</td>\n",
       "      <td>1.000</td>\n",
       "      <td>None</td>\n",
       "      <td>0.0</td>\n",
       "      <td>1.0</td>\n",
       "    </tr>\n",
       "    <tr>\n",
       "      <td>5</td>\n",
       "      <td>install[BAT]</td>\n",
       "      <td>1.000</td>\n",
       "      <td>None</td>\n",
       "      <td>0.0</td>\n",
       "      <td>1.0</td>\n",
       "    </tr>\n",
       "    <tr>\n",
       "      <td>6</td>\n",
       "      <td>install[SOFC]</td>\n",
       "      <td>1.000</td>\n",
       "      <td>None</td>\n",
       "      <td>0.0</td>\n",
       "      <td>1.0</td>\n",
       "    </tr>\n",
       "    <tr>\n",
       "      <td>7</td>\n",
       "      <td>install[AD]</td>\n",
       "      <td>1.000</td>\n",
       "      <td>None</td>\n",
       "      <td>0.0</td>\n",
       "      <td>1.0</td>\n",
       "    </tr>\n",
       "    <tr>\n",
       "      <td>8</td>\n",
       "      <td>CAPEX[PV]</td>\n",
       "      <td>356.566</td>\n",
       "      <td>None</td>\n",
       "      <td>0.0</td>\n",
       "      <td>10000.0</td>\n",
       "    </tr>\n",
       "    <tr>\n",
       "      <td>9</td>\n",
       "      <td>CAPEX[BAT]</td>\n",
       "      <td>55.949</td>\n",
       "      <td>None</td>\n",
       "      <td>0.0</td>\n",
       "      <td>10000.0</td>\n",
       "    </tr>\n",
       "    <tr>\n",
       "      <td>10</td>\n",
       "      <td>CAPEX[SOFC]</td>\n",
       "      <td>103.751</td>\n",
       "      <td>None</td>\n",
       "      <td>0.0</td>\n",
       "      <td>10000.0</td>\n",
       "    </tr>\n",
       "    <tr>\n",
       "      <td>11</td>\n",
       "      <td>CAPEX[AD]</td>\n",
       "      <td>103.957</td>\n",
       "      <td>None</td>\n",
       "      <td>0.0</td>\n",
       "      <td>10000.0</td>\n",
       "    </tr>\n",
       "    <tr>\n",
       "      <td>12</td>\n",
       "      <td>grid_elec_export</td>\n",
       "      <td>16.834</td>\n",
       "      <td>kWh</td>\n",
       "      <td>0.0</td>\n",
       "      <td>10000.0</td>\n",
       "    </tr>\n",
       "    <tr>\n",
       "      <td>13</td>\n",
       "      <td>grid_elec_import</td>\n",
       "      <td>1601.223</td>\n",
       "      <td>kWh</td>\n",
       "      <td>0.0</td>\n",
       "      <td>10000.0</td>\n",
       "    </tr>\n",
       "    <tr>\n",
       "      <td>14</td>\n",
       "      <td>capex</td>\n",
       "      <td>620.223</td>\n",
       "      <td>kCHF</td>\n",
       "      <td>-10000.0</td>\n",
       "      <td>10000.0</td>\n",
       "    </tr>\n",
       "    <tr>\n",
       "      <td>15</td>\n",
       "      <td>opex</td>\n",
       "      <td>2726.581</td>\n",
       "      <td>kCHF/year</td>\n",
       "      <td>-10000.0</td>\n",
       "      <td>10000.0</td>\n",
       "    </tr>\n",
       "    <tr>\n",
       "      <td>16</td>\n",
       "      <td>totex</td>\n",
       "      <td>2766.367</td>\n",
       "      <td>kCHF/year</td>\n",
       "      <td>-10000.0</td>\n",
       "      <td>10000.0</td>\n",
       "    </tr>\n",
       "  </tbody>\n",
       "</table>\n",
       "</div>"
      ],
      "text/plain": [
       "       Variable Name    Result       Unit  Lower Bound  Upper Bound\n",
       "0           size[PV]   100.000       None          0.0      10000.0\n",
       "1          size[BAT]    42.728       None          0.0      10000.0\n",
       "2         size[SOFC]    20.046       None          0.0      10000.0\n",
       "3           size[AD]    35.169       None          0.0      10000.0\n",
       "4        install[PV]     1.000       None          0.0          1.0\n",
       "5       install[BAT]     1.000       None          0.0          1.0\n",
       "6      install[SOFC]     1.000       None          0.0          1.0\n",
       "7        install[AD]     1.000       None          0.0          1.0\n",
       "8          CAPEX[PV]   356.566       None          0.0      10000.0\n",
       "9         CAPEX[BAT]    55.949       None          0.0      10000.0\n",
       "10       CAPEX[SOFC]   103.751       None          0.0      10000.0\n",
       "11         CAPEX[AD]   103.957       None          0.0      10000.0\n",
       "12  grid_elec_export    16.834        kWh          0.0      10000.0\n",
       "13  grid_elec_import  1601.223        kWh          0.0      10000.0\n",
       "14             capex   620.223       kCHF     -10000.0      10000.0\n",
       "15              opex  2726.581  kCHF/year     -10000.0      10000.0\n",
       "16             totex  2766.367  kCHF/year     -10000.0      10000.0"
      ]
     },
     "execution_count": 58,
     "metadata": {},
     "output_type": "execute_result"
    }
   ],
   "source": [
    "# Model Variable values\n",
    "df_results"
   ]
  },
  {
   "cell_type": "code",
   "execution_count": 59,
   "metadata": {
    "scrolled": true
   },
   "outputs": [
    {
     "data": {
      "text/html": [
       "<div>\n",
       "<style scoped>\n",
       "    .dataframe tbody tr th:only-of-type {\n",
       "        vertical-align: middle;\n",
       "    }\n",
       "\n",
       "    .dataframe tbody tr th {\n",
       "        vertical-align: top;\n",
       "    }\n",
       "\n",
       "    .dataframe thead th {\n",
       "        text-align: right;\n",
       "    }\n",
       "</style>\n",
       "<table border=\"1\" class=\"dataframe\">\n",
       "  <thead>\n",
       "    <tr style=\"text-align: right;\">\n",
       "      <th></th>\n",
       "      <th></th>\n",
       "      <th>Value</th>\n",
       "      <th>Units</th>\n",
       "      <th>Description</th>\n",
       "      <th>Source</th>\n",
       "    </tr>\n",
       "  </thead>\n",
       "  <tbody>\n",
       "    <tr>\n",
       "      <td>General</td>\n",
       "      <td>Bound</td>\n",
       "      <td>10000.000</td>\n",
       "      <td>-</td>\n",
       "      <td>Default Variable Upper Bound</td>\n",
       "      <td>Gurobi doc</td>\n",
       "    </tr>\n",
       "    <tr>\n",
       "      <td rowspan=\"7\" valign=\"top\">Biomass</td>\n",
       "      <td>Pigs</td>\n",
       "      <td>55.000</td>\n",
       "      <td>-</td>\n",
       "      <td>Number of Pigs</td>\n",
       "      <td>swissfuturefarm.ch</td>\n",
       "    </tr>\n",
       "    <tr>\n",
       "      <td>Cows</td>\n",
       "      <td>65.000</td>\n",
       "      <td>-</td>\n",
       "      <td>Number of Pigs</td>\n",
       "      <td>swissfuturefarm.ch</td>\n",
       "    </tr>\n",
       "    <tr>\n",
       "      <td>LSU_pigs</td>\n",
       "      <td>0.500</td>\n",
       "      <td>-</td>\n",
       "      <td>LSU per Pigs</td>\n",
       "      <td>ec.europa.eu</td>\n",
       "    </tr>\n",
       "    <tr>\n",
       "      <td>LSU</td>\n",
       "      <td>92.500</td>\n",
       "      <td>LSU</td>\n",
       "      <td>Number of LSU</td>\n",
       "      <td>calc</td>\n",
       "    </tr>\n",
       "    <tr>\n",
       "      <td>Manure_per_cattle</td>\n",
       "      <td>7.300</td>\n",
       "      <td>kg-dry/day/LSU</td>\n",
       "      <td>Cattle manure production</td>\n",
       "      <td>doi: 10.3390/c5020027</td>\n",
       "    </tr>\n",
       "    <tr>\n",
       "      <td>Manure_HHV_dry</td>\n",
       "      <td>4.167</td>\n",
       "      <td>kWh/kg-dry</td>\n",
       "      <td>Manure energy content</td>\n",
       "      <td>doi: 10.3390/c5020027</td>\n",
       "    </tr>\n",
       "    <tr>\n",
       "      <td>Biomass_prod</td>\n",
       "      <td>117.231</td>\n",
       "      <td>kWh/h</td>\n",
       "      <td>Biomass Production</td>\n",
       "      <td>calc</td>\n",
       "    </tr>\n",
       "    <tr>\n",
       "      <td>PV</td>\n",
       "      <td>PV_eff</td>\n",
       "      <td>0.140</td>\n",
       "      <td>-</td>\n",
       "      <td>PV efficiency</td>\n",
       "      <td>Paul</td>\n",
       "    </tr>\n",
       "    <tr>\n",
       "      <td>BAT</td>\n",
       "      <td>BAT_eff</td>\n",
       "      <td>1.000</td>\n",
       "      <td>-</td>\n",
       "      <td>BAT roundtrip efficiency</td>\n",
       "      <td>guess</td>\n",
       "    </tr>\n",
       "    <tr>\n",
       "      <td rowspan=\"4\" valign=\"top\">AD</td>\n",
       "      <td>AD_eff</td>\n",
       "      <td>0.300</td>\n",
       "      <td>-</td>\n",
       "      <td>AD efficiency</td>\n",
       "      <td>guess</td>\n",
       "    </tr>\n",
       "    <tr>\n",
       "      <td>AD_elec_cons</td>\n",
       "      <td>0.008</td>\n",
       "      <td>-</td>\n",
       "      <td>AD faction of electricity consumed</td>\n",
       "      <td>doi: 10.3390/en10081165</td>\n",
       "    </tr>\n",
       "    <tr>\n",
       "      <td>SOFC_eff</td>\n",
       "      <td>0.600</td>\n",
       "      <td>-</td>\n",
       "      <td>SOFC electric efficiency</td>\n",
       "      <td>guess</td>\n",
       "    </tr>\n",
       "    <tr>\n",
       "      <td>GC_elec_frac</td>\n",
       "      <td>0.030</td>\n",
       "      <td>-</td>\n",
       "      <td>gas cleaning electric consumption fraction</td>\n",
       "      <td>Projet Semestre nils</td>\n",
       "    </tr>\n",
       "    <tr>\n",
       "      <td rowspan=\"3\" valign=\"top\">economic</td>\n",
       "      <td>i</td>\n",
       "      <td>0.025</td>\n",
       "      <td>-</td>\n",
       "      <td>Annual interest rate</td>\n",
       "      <td>guess</td>\n",
       "    </tr>\n",
       "    <tr>\n",
       "      <td>n</td>\n",
       "      <td>20.000</td>\n",
       "      <td>years</td>\n",
       "      <td>years of exploitation</td>\n",
       "      <td>guess</td>\n",
       "    </tr>\n",
       "    <tr>\n",
       "      <td>tau</td>\n",
       "      <td>0.064</td>\n",
       "      <td>-</td>\n",
       "      <td>Annualization factor</td>\n",
       "      <td>calc</td>\n",
       "    </tr>\n",
       "  </tbody>\n",
       "</table>\n",
       "</div>"
      ],
      "text/plain": [
       "                                Value           Units  \\\n",
       "General  Bound              10000.000               -   \n",
       "Biomass  Pigs                  55.000               -   \n",
       "         Cows                  65.000               -   \n",
       "         LSU_pigs               0.500               -   \n",
       "         LSU                   92.500             LSU   \n",
       "         Manure_per_cattle      7.300  kg-dry/day/LSU   \n",
       "         Manure_HHV_dry         4.167      kWh/kg-dry   \n",
       "         Biomass_prod         117.231           kWh/h   \n",
       "PV       PV_eff                 0.140               -   \n",
       "BAT      BAT_eff                1.000               -   \n",
       "AD       AD_eff                 0.300               -   \n",
       "         AD_elec_cons           0.008               -   \n",
       "         SOFC_eff               0.600               -   \n",
       "         GC_elec_frac           0.030               -   \n",
       "economic i                      0.025               -   \n",
       "         n                     20.000           years   \n",
       "         tau                    0.064               -   \n",
       "\n",
       "                                                           Description  \\\n",
       "General  Bound                            Default Variable Upper Bound   \n",
       "Biomass  Pigs                                           Number of Pigs   \n",
       "         Cows                                           Number of Pigs   \n",
       "         LSU_pigs                                         LSU per Pigs   \n",
       "         LSU                                             Number of LSU   \n",
       "         Manure_per_cattle                    Cattle manure production   \n",
       "         Manure_HHV_dry                          Manure energy content   \n",
       "         Biomass_prod                               Biomass Production   \n",
       "PV       PV_eff                                          PV efficiency   \n",
       "BAT      BAT_eff                              BAT roundtrip efficiency   \n",
       "AD       AD_eff                                          AD efficiency   \n",
       "         AD_elec_cons               AD faction of electricity consumed   \n",
       "         SOFC_eff                             SOFC electric efficiency   \n",
       "         GC_elec_frac       gas cleaning electric consumption fraction   \n",
       "economic i                                        Annual interest rate   \n",
       "         n                                       years of exploitation   \n",
       "         tau                                      Annualization factor   \n",
       "\n",
       "                                             Source  \n",
       "General  Bound                           Gurobi doc  \n",
       "Biomass  Pigs                    swissfuturefarm.ch  \n",
       "         Cows                    swissfuturefarm.ch  \n",
       "         LSU_pigs                      ec.europa.eu  \n",
       "         LSU                                   calc  \n",
       "         Manure_per_cattle    doi: 10.3390/c5020027  \n",
       "         Manure_HHV_dry       doi: 10.3390/c5020027  \n",
       "         Biomass_prod                          calc  \n",
       "PV       PV_eff                                Paul  \n",
       "BAT      BAT_eff                              guess  \n",
       "AD       AD_eff                               guess  \n",
       "         AD_elec_cons       doi: 10.3390/en10081165  \n",
       "         SOFC_eff                             guess  \n",
       "         GC_elec_frac          Projet Semestre nils  \n",
       "economic i                                    guess  \n",
       "         n                                    guess  \n",
       "         tau                                   calc  "
      ]
     },
     "execution_count": 59,
     "metadata": {},
     "output_type": "execute_result"
    }
   ],
   "source": [
    "# Model Parameters\n",
    "P_columns = ['Value', 'Units', 'Description', 'Source', 'Category']\n",
    "Param_df = pd.DataFrame.from_dict(Param_dict, orient = 'index', columns = P_columns)\n",
    "Param_df.set_index([list(Param_df['Category']), list(Param_df.index)], inplace = True)\n",
    "Param_df.drop(columns = 'Category', inplace = True)\n",
    "Param_df"
   ]
  },
  {
   "cell_type": "code",
   "execution_count": 60,
   "metadata": {},
   "outputs": [
    {
     "data": {
      "text/plain": [
       "['General',\n",
       " 'Biomass',\n",
       " 'Biomass',\n",
       " 'Biomass',\n",
       " 'Biomass',\n",
       " 'Biomass',\n",
       " 'Biomass',\n",
       " 'Biomass',\n",
       " 'PV',\n",
       " 'BAT',\n",
       " 'AD',\n",
       " 'AD',\n",
       " 'AD',\n",
       " 'AD',\n",
       " 'economic',\n",
       " 'economic',\n",
       " 'economic']"
      ]
     },
     "execution_count": 60,
     "metadata": {},
     "output_type": "execute_result"
    }
   ],
   "source": [
    "P_columns = ['Value', 'Units', 'Description', 'Source', 'Category']\n",
    "Param_df = pd.DataFrame.from_dict(Param_dict, orient = 'index', columns = P_columns)\n",
    "list(Param_df['Category'])"
   ]
  },
  {
   "cell_type": "code",
   "execution_count": 61,
   "metadata": {},
   "outputs": [],
   "source": [
    "Param_df.to_csv('Parameters.csv')"
   ]
  },
  {
   "cell_type": "code",
   "execution_count": 62,
   "metadata": {},
   "outputs": [
    {
     "ename": "FileNotFoundError",
     "evalue": "[Errno 2] No such file or directory: 'C:\\\\Users\\\\poopy\\\\Desktop\\\\PdM\\\\GurobiPy\\\\data\\\\Parameters.csv'",
     "output_type": "error",
     "traceback": [
      "\u001b[1;31m---------------------------------------------------------------------------\u001b[0m",
      "\u001b[1;31mFileNotFoundError\u001b[0m                         Traceback (most recent call last)",
      "\u001b[1;32m<ipython-input-62-91f26147731c>\u001b[0m in \u001b[0;36m<module>\u001b[1;34m\u001b[0m\n\u001b[1;32m----> 1\u001b[1;33m \u001b[0mhandle_csv\u001b[0m\u001b[1;33m(\u001b[0m\u001b[1;34m'Parameters.csv'\u001b[0m\u001b[1;33m,\u001b[0m \u001b[1;32mTrue\u001b[0m\u001b[1;33m)\u001b[0m\u001b[1;33m\u001b[0m\u001b[1;33m\u001b[0m\u001b[0m\n\u001b[0m",
      "\u001b[1;32m<ipython-input-7-7cc17f6cf374>\u001b[0m in \u001b[0;36mhandle_csv\u001b[1;34m(file, first_column_index)\u001b[0m\n\u001b[0;32m      2\u001b[0m \u001b[1;32mdef\u001b[0m \u001b[0mhandle_csv\u001b[0m\u001b[1;33m(\u001b[0m\u001b[0mfile\u001b[0m\u001b[1;33m,\u001b[0m \u001b[0mfirst_column_index\u001b[0m\u001b[1;33m)\u001b[0m\u001b[1;33m:\u001b[0m\u001b[1;33m\u001b[0m\u001b[1;33m\u001b[0m\u001b[0m\n\u001b[0;32m      3\u001b[0m     \u001b[1;31m# open the 'unit_costs.csv' file in the data folder\u001b[0m\u001b[1;33m\u001b[0m\u001b[1;33m\u001b[0m\u001b[1;33m\u001b[0m\u001b[0m\n\u001b[1;32m----> 4\u001b[1;33m     \u001b[0mdf\u001b[0m \u001b[1;33m=\u001b[0m \u001b[0mOpen_data_csv\u001b[0m\u001b[1;33m(\u001b[0m\u001b[0mfile\u001b[0m\u001b[1;33m,\u001b[0m\u001b[1;34m','\u001b[0m\u001b[1;33m)\u001b[0m\u001b[1;33m\u001b[0m\u001b[1;33m\u001b[0m\u001b[0m\n\u001b[0m\u001b[0;32m      5\u001b[0m \u001b[1;33m\u001b[0m\u001b[0m\n\u001b[0;32m      6\u001b[0m     \u001b[1;31m# remove the wonky characters from the first column's name\u001b[0m\u001b[1;33m\u001b[0m\u001b[1;33m\u001b[0m\u001b[1;33m\u001b[0m\u001b[0m\n",
      "\u001b[1;32m<ipython-input-2-7c565096f1a7>\u001b[0m in \u001b[0;36mOpen_data_csv\u001b[1;34m(file, separator)\u001b[0m\n\u001b[0;32m      1\u001b[0m \u001b[1;31m# open a file in the data folder\u001b[0m\u001b[1;33m\u001b[0m\u001b[1;33m\u001b[0m\u001b[1;33m\u001b[0m\u001b[0m\n\u001b[0;32m      2\u001b[0m \u001b[1;32mdef\u001b[0m \u001b[0mOpen_data_csv\u001b[0m\u001b[1;33m(\u001b[0m\u001b[0mfile\u001b[0m\u001b[1;33m,\u001b[0m\u001b[0mseparator\u001b[0m\u001b[1;33m)\u001b[0m\u001b[1;33m:\u001b[0m\u001b[1;33m\u001b[0m\u001b[1;33m\u001b[0m\u001b[0m\n\u001b[1;32m----> 3\u001b[1;33m      \u001b[1;32mreturn\u001b[0m \u001b[0mpd\u001b[0m\u001b[1;33m.\u001b[0m\u001b[0mread_csv\u001b[0m\u001b[1;33m(\u001b[0m\u001b[1;34mr'C:\\Users\\poopy\\Desktop\\PdM\\GurobiPy\\data\\{}'\u001b[0m\u001b[1;33m.\u001b[0m\u001b[0mformat\u001b[0m\u001b[1;33m(\u001b[0m\u001b[0mfile\u001b[0m\u001b[1;33m)\u001b[0m \u001b[1;33m,\u001b[0m \u001b[0msep\u001b[0m \u001b[1;33m=\u001b[0m \u001b[0mseparator\u001b[0m\u001b[1;33m,\u001b[0m \u001b[0mengine\u001b[0m\u001b[1;33m=\u001b[0m\u001b[1;34m'python'\u001b[0m\u001b[1;33m)\u001b[0m\u001b[1;33m\u001b[0m\u001b[1;33m\u001b[0m\u001b[0m\n\u001b[0m\u001b[0;32m      4\u001b[0m \u001b[1;33m\u001b[0m\u001b[0m\n\u001b[0;32m      5\u001b[0m \u001b[1;31m# convert a dataframe column to datetime and reset its index to the date\u001b[0m\u001b[1;33m\u001b[0m\u001b[1;33m\u001b[0m\u001b[1;33m\u001b[0m\u001b[0m\n",
      "\u001b[1;32mC:\\ProgramData\\Anaconda3\\envs\\ntds_2019\\lib\\site-packages\\pandas\\io\\parsers.py\u001b[0m in \u001b[0;36mparser_f\u001b[1;34m(filepath_or_buffer, sep, delimiter, header, names, index_col, usecols, squeeze, prefix, mangle_dupe_cols, dtype, engine, converters, true_values, false_values, skipinitialspace, skiprows, skipfooter, nrows, na_values, keep_default_na, na_filter, verbose, skip_blank_lines, parse_dates, infer_datetime_format, keep_date_col, date_parser, dayfirst, cache_dates, iterator, chunksize, compression, thousands, decimal, lineterminator, quotechar, quoting, doublequote, escapechar, comment, encoding, dialect, error_bad_lines, warn_bad_lines, delim_whitespace, low_memory, memory_map, float_precision)\u001b[0m\n\u001b[0;32m    683\u001b[0m         )\n\u001b[0;32m    684\u001b[0m \u001b[1;33m\u001b[0m\u001b[0m\n\u001b[1;32m--> 685\u001b[1;33m         \u001b[1;32mreturn\u001b[0m \u001b[0m_read\u001b[0m\u001b[1;33m(\u001b[0m\u001b[0mfilepath_or_buffer\u001b[0m\u001b[1;33m,\u001b[0m \u001b[0mkwds\u001b[0m\u001b[1;33m)\u001b[0m\u001b[1;33m\u001b[0m\u001b[1;33m\u001b[0m\u001b[0m\n\u001b[0m\u001b[0;32m    686\u001b[0m \u001b[1;33m\u001b[0m\u001b[0m\n\u001b[0;32m    687\u001b[0m     \u001b[0mparser_f\u001b[0m\u001b[1;33m.\u001b[0m\u001b[0m__name__\u001b[0m \u001b[1;33m=\u001b[0m \u001b[0mname\u001b[0m\u001b[1;33m\u001b[0m\u001b[1;33m\u001b[0m\u001b[0m\n",
      "\u001b[1;32mC:\\ProgramData\\Anaconda3\\envs\\ntds_2019\\lib\\site-packages\\pandas\\io\\parsers.py\u001b[0m in \u001b[0;36m_read\u001b[1;34m(filepath_or_buffer, kwds)\u001b[0m\n\u001b[0;32m    455\u001b[0m \u001b[1;33m\u001b[0m\u001b[0m\n\u001b[0;32m    456\u001b[0m     \u001b[1;31m# Create the parser.\u001b[0m\u001b[1;33m\u001b[0m\u001b[1;33m\u001b[0m\u001b[1;33m\u001b[0m\u001b[0m\n\u001b[1;32m--> 457\u001b[1;33m     \u001b[0mparser\u001b[0m \u001b[1;33m=\u001b[0m \u001b[0mTextFileReader\u001b[0m\u001b[1;33m(\u001b[0m\u001b[0mfp_or_buf\u001b[0m\u001b[1;33m,\u001b[0m \u001b[1;33m**\u001b[0m\u001b[0mkwds\u001b[0m\u001b[1;33m)\u001b[0m\u001b[1;33m\u001b[0m\u001b[1;33m\u001b[0m\u001b[0m\n\u001b[0m\u001b[0;32m    458\u001b[0m \u001b[1;33m\u001b[0m\u001b[0m\n\u001b[0;32m    459\u001b[0m     \u001b[1;32mif\u001b[0m \u001b[0mchunksize\u001b[0m \u001b[1;32mor\u001b[0m \u001b[0miterator\u001b[0m\u001b[1;33m:\u001b[0m\u001b[1;33m\u001b[0m\u001b[1;33m\u001b[0m\u001b[0m\n",
      "\u001b[1;32mC:\\ProgramData\\Anaconda3\\envs\\ntds_2019\\lib\\site-packages\\pandas\\io\\parsers.py\u001b[0m in \u001b[0;36m__init__\u001b[1;34m(self, f, engine, **kwds)\u001b[0m\n\u001b[0;32m    893\u001b[0m             \u001b[0mself\u001b[0m\u001b[1;33m.\u001b[0m\u001b[0moptions\u001b[0m\u001b[1;33m[\u001b[0m\u001b[1;34m\"has_index_names\"\u001b[0m\u001b[1;33m]\u001b[0m \u001b[1;33m=\u001b[0m \u001b[0mkwds\u001b[0m\u001b[1;33m[\u001b[0m\u001b[1;34m\"has_index_names\"\u001b[0m\u001b[1;33m]\u001b[0m\u001b[1;33m\u001b[0m\u001b[1;33m\u001b[0m\u001b[0m\n\u001b[0;32m    894\u001b[0m \u001b[1;33m\u001b[0m\u001b[0m\n\u001b[1;32m--> 895\u001b[1;33m         \u001b[0mself\u001b[0m\u001b[1;33m.\u001b[0m\u001b[0m_make_engine\u001b[0m\u001b[1;33m(\u001b[0m\u001b[0mself\u001b[0m\u001b[1;33m.\u001b[0m\u001b[0mengine\u001b[0m\u001b[1;33m)\u001b[0m\u001b[1;33m\u001b[0m\u001b[1;33m\u001b[0m\u001b[0m\n\u001b[0m\u001b[0;32m    896\u001b[0m \u001b[1;33m\u001b[0m\u001b[0m\n\u001b[0;32m    897\u001b[0m     \u001b[1;32mdef\u001b[0m \u001b[0mclose\u001b[0m\u001b[1;33m(\u001b[0m\u001b[0mself\u001b[0m\u001b[1;33m)\u001b[0m\u001b[1;33m:\u001b[0m\u001b[1;33m\u001b[0m\u001b[1;33m\u001b[0m\u001b[0m\n",
      "\u001b[1;32mC:\\ProgramData\\Anaconda3\\envs\\ntds_2019\\lib\\site-packages\\pandas\\io\\parsers.py\u001b[0m in \u001b[0;36m_make_engine\u001b[1;34m(self, engine)\u001b[0m\n\u001b[0;32m   1145\u001b[0m                     \u001b[1;34m' \"python-fwf\")'\u001b[0m\u001b[1;33m.\u001b[0m\u001b[0mformat\u001b[0m\u001b[1;33m(\u001b[0m\u001b[0mengine\u001b[0m\u001b[1;33m=\u001b[0m\u001b[0mengine\u001b[0m\u001b[1;33m)\u001b[0m\u001b[1;33m\u001b[0m\u001b[1;33m\u001b[0m\u001b[0m\n\u001b[0;32m   1146\u001b[0m                 )\n\u001b[1;32m-> 1147\u001b[1;33m             \u001b[0mself\u001b[0m\u001b[1;33m.\u001b[0m\u001b[0m_engine\u001b[0m \u001b[1;33m=\u001b[0m \u001b[0mklass\u001b[0m\u001b[1;33m(\u001b[0m\u001b[0mself\u001b[0m\u001b[1;33m.\u001b[0m\u001b[0mf\u001b[0m\u001b[1;33m,\u001b[0m \u001b[1;33m**\u001b[0m\u001b[0mself\u001b[0m\u001b[1;33m.\u001b[0m\u001b[0moptions\u001b[0m\u001b[1;33m)\u001b[0m\u001b[1;33m\u001b[0m\u001b[1;33m\u001b[0m\u001b[0m\n\u001b[0m\u001b[0;32m   1148\u001b[0m \u001b[1;33m\u001b[0m\u001b[0m\n\u001b[0;32m   1149\u001b[0m     \u001b[1;32mdef\u001b[0m \u001b[0m_failover_to_python\u001b[0m\u001b[1;33m(\u001b[0m\u001b[0mself\u001b[0m\u001b[1;33m)\u001b[0m\u001b[1;33m:\u001b[0m\u001b[1;33m\u001b[0m\u001b[1;33m\u001b[0m\u001b[0m\n",
      "\u001b[1;32mC:\\ProgramData\\Anaconda3\\envs\\ntds_2019\\lib\\site-packages\\pandas\\io\\parsers.py\u001b[0m in \u001b[0;36m__init__\u001b[1;34m(self, f, **kwds)\u001b[0m\n\u001b[0;32m   2291\u001b[0m             \u001b[0mencoding\u001b[0m\u001b[1;33m=\u001b[0m\u001b[0mself\u001b[0m\u001b[1;33m.\u001b[0m\u001b[0mencoding\u001b[0m\u001b[1;33m,\u001b[0m\u001b[1;33m\u001b[0m\u001b[1;33m\u001b[0m\u001b[0m\n\u001b[0;32m   2292\u001b[0m             \u001b[0mcompression\u001b[0m\u001b[1;33m=\u001b[0m\u001b[0mself\u001b[0m\u001b[1;33m.\u001b[0m\u001b[0mcompression\u001b[0m\u001b[1;33m,\u001b[0m\u001b[1;33m\u001b[0m\u001b[1;33m\u001b[0m\u001b[0m\n\u001b[1;32m-> 2293\u001b[1;33m             \u001b[0mmemory_map\u001b[0m\u001b[1;33m=\u001b[0m\u001b[0mself\u001b[0m\u001b[1;33m.\u001b[0m\u001b[0mmemory_map\u001b[0m\u001b[1;33m,\u001b[0m\u001b[1;33m\u001b[0m\u001b[1;33m\u001b[0m\u001b[0m\n\u001b[0m\u001b[0;32m   2294\u001b[0m         )\n\u001b[0;32m   2295\u001b[0m         \u001b[0mself\u001b[0m\u001b[1;33m.\u001b[0m\u001b[0mhandles\u001b[0m\u001b[1;33m.\u001b[0m\u001b[0mextend\u001b[0m\u001b[1;33m(\u001b[0m\u001b[0mhandles\u001b[0m\u001b[1;33m)\u001b[0m\u001b[1;33m\u001b[0m\u001b[1;33m\u001b[0m\u001b[0m\n",
      "\u001b[1;32mC:\\ProgramData\\Anaconda3\\envs\\ntds_2019\\lib\\site-packages\\pandas\\io\\common.py\u001b[0m in \u001b[0;36m_get_handle\u001b[1;34m(path_or_buf, mode, encoding, compression, memory_map, is_text)\u001b[0m\n\u001b[0;32m    400\u001b[0m         \u001b[1;32melif\u001b[0m \u001b[0mis_text\u001b[0m\u001b[1;33m:\u001b[0m\u001b[1;33m\u001b[0m\u001b[1;33m\u001b[0m\u001b[0m\n\u001b[0;32m    401\u001b[0m             \u001b[1;31m# No explicit encoding\u001b[0m\u001b[1;33m\u001b[0m\u001b[1;33m\u001b[0m\u001b[1;33m\u001b[0m\u001b[0m\n\u001b[1;32m--> 402\u001b[1;33m             \u001b[0mf\u001b[0m \u001b[1;33m=\u001b[0m \u001b[0mopen\u001b[0m\u001b[1;33m(\u001b[0m\u001b[0mpath_or_buf\u001b[0m\u001b[1;33m,\u001b[0m \u001b[0mmode\u001b[0m\u001b[1;33m,\u001b[0m \u001b[0merrors\u001b[0m\u001b[1;33m=\u001b[0m\u001b[1;34m\"replace\"\u001b[0m\u001b[1;33m,\u001b[0m \u001b[0mnewline\u001b[0m\u001b[1;33m=\u001b[0m\u001b[1;34m\"\"\u001b[0m\u001b[1;33m)\u001b[0m\u001b[1;33m\u001b[0m\u001b[1;33m\u001b[0m\u001b[0m\n\u001b[0m\u001b[0;32m    403\u001b[0m         \u001b[1;32melse\u001b[0m\u001b[1;33m:\u001b[0m\u001b[1;33m\u001b[0m\u001b[1;33m\u001b[0m\u001b[0m\n\u001b[0;32m    404\u001b[0m             \u001b[1;31m# Binary mode\u001b[0m\u001b[1;33m\u001b[0m\u001b[1;33m\u001b[0m\u001b[1;33m\u001b[0m\u001b[0m\n",
      "\u001b[1;31mFileNotFoundError\u001b[0m: [Errno 2] No such file or directory: 'C:\\\\Users\\\\poopy\\\\Desktop\\\\PdM\\\\GurobiPy\\\\data\\\\Parameters.csv'"
     ]
    }
   ],
   "source": [
    "handle_csv('Parameters.csv', True)"
   ]
  },
  {
   "cell_type": "code",
   "execution_count": null,
   "metadata": {},
   "outputs": [],
   "source": [
    "df = pd.read_csv('Parameters.csv', engine = 'python')"
   ]
  },
  {
   "cell_type": "code",
   "execution_count": null,
   "metadata": {},
   "outputs": [],
   "source": [
    "df = pd.read_csv('Parameters.csv', engine = 'python')\n",
    "df.index = df['Name']\n",
    "for c in df.columns:\n",
    "    if c != 'Value':\n",
    "        df.drop(columns = c, inplace = True)\n",
    "df"
   ]
  },
  {
   "cell_type": "code",
   "execution_count": null,
   "metadata": {},
   "outputs": [],
   "source": []
  },
  {
   "cell_type": "code",
   "execution_count": null,
   "metadata": {},
   "outputs": [],
   "source": [
    "df.set_index(list(df['Category']), list(df['Name']), inplace = True)"
   ]
  },
  {
   "cell_type": "code",
   "execution_count": null,
   "metadata": {},
   "outputs": [],
   "source": [
    "list(df['Name'])"
   ]
  },
  {
   "cell_type": "code",
   "execution_count": null,
   "metadata": {},
   "outputs": [],
   "source": [
    "df"
   ]
  },
  {
   "cell_type": "code",
   "execution_count": null,
   "metadata": {},
   "outputs": [],
   "source": []
  }
 ],
 "metadata": {
  "kernelspec": {
   "display_name": "Python 3",
   "language": "python",
   "name": "python3"
  },
  "language_info": {
   "codemirror_mode": {
    "name": "ipython",
    "version": 3
   },
   "file_extension": ".py",
   "mimetype": "text/x-python",
   "name": "python",
   "nbconvert_exporter": "python",
   "pygments_lexer": "ipython3",
   "version": "3.7.3"
  },
  "toc": {
   "base_numbering": 1,
   "nav_menu": {},
   "number_sections": true,
   "sideBar": true,
   "skip_h1_title": false,
   "title_cell": "Table of Contents",
   "title_sidebar": "Contents",
   "toc_cell": false,
   "toc_position": {},
   "toc_section_display": true,
   "toc_window_display": false
  }
 },
 "nbformat": 4,
 "nbformat_minor": 2
}
