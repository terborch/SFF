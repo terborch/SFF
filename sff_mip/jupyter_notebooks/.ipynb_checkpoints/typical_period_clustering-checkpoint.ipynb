{
 "cells": [
  {
   "cell_type": "code",
   "execution_count": 1,
   "metadata": {},
   "outputs": [],
   "source": [
    "import pandas as pd\n",
    "import numpy as np\n",
    "import os\n",
    "from datetime import datetime, timedelta\n",
    "import matplotlib.pyplot as plt\n",
    "\n",
    "import sklearn\n",
    "from sklearn.preprocessing import scale \n",
    "from sklearn import cluster"
   ]
  },
  {
   "cell_type": "code",
   "execution_count": 2,
   "metadata": {},
   "outputs": [],
   "source": [
    "def open_csv(file, folder, separator):\n",
    "    \"\"\" Open a csv file in a inputs subfolder given a file name, a folder and a separator. \"\"\"\n",
    "    if folder != 'inputs':\n",
    "        path = os.path.join(os.pardir, 'inputs', folder, file)\n",
    "    else:\n",
    "        path = os.path.join(os.pardir, 'inputs', file)\n",
    "    return pd.read_csv(path , sep = separator, engine='python')"
   ]
  },
  {
   "cell_type": "code",
   "execution_count": 3,
   "metadata": {},
   "outputs": [],
   "source": [
    "def to_date_time(df, column):\n",
    "    \"\"\" Convert a dataframe column to datetime and set it as index. \"\"\"\n",
    "    df[[column]] = pd.DataFrame(pd.to_datetime(df[column], format='%d.%m.%Y %H:%M'))\n",
    "    df.set_index(column, inplace = True)"
   ]
  },
  {
   "cell_type": "code",
   "execution_count": 4,
   "metadata": {},
   "outputs": [],
   "source": [
    "def time_delta(delta):\n",
    "    \"\"\" Get a timedelta object from a given string with a fomat hrs_min_sec as \"00:00:00\" hours \n",
    "        minutes seconds.\n",
    "    \"\"\"\n",
    "    t = datetime.strptime(delta,\"%H:%M:%S\")\n",
    "    return timedelta(hours=t.hour, minutes=t.minute, seconds=t.second)"
   ]
  },
  {
   "cell_type": "code",
   "execution_count": 5,
   "metadata": {},
   "outputs": [],
   "source": [
    "def weather_data_to_df(file, period_start, period_end, timestep):\n",
    "    \"\"\" Create a dataframe from a csv file of meteorological data for a given period and with a \n",
    "        given timestep\n",
    "    \"\"\"\n",
    "    folder = 'external'\n",
    "    df = open_csv(file, folder, ';')\n",
    "    to_date_time(df, 'Date')\n",
    "    \n",
    "    df = df.truncate(before = period_start, after = period_end)\n",
    "    \n",
    "    # Sum over Irradiance values: units of Irradiance are now kWh/m^2/h = kW/m^2\n",
    "    df = df.resample(time_delta(timestep)).agg({'Irradiance': np.sum, 'Temperature': np.mean})\n",
    "    df['Irradiance'] /= 1000 \n",
    "    return df"
   ]
  },
  {
   "cell_type": "code",
   "execution_count": null,
   "metadata": {},
   "outputs": [],
   "source": [
    "\n"
   ]
  },
  {
   "cell_type": "code",
   "execution_count": 6,
   "metadata": {},
   "outputs": [],
   "source": [
    "def reshape_day_hour(hourly_indexed_list, Days, Hours):\n",
    "    \"\"\" Reshape a list with hourly index to a list of list with daily and hour \n",
    "    in day index \"\"\"\n",
    "    return (np.reshape(hourly_indexed_list, (len(Days), len(Hours))))"
   ]
  },
  {
   "cell_type": "code",
   "execution_count": 7,
   "metadata": {},
   "outputs": [],
   "source": [
    "# Weather parameters for a summer day at Liebensberg\n",
    "file = 'meteo_Liebensberg_10min.csv'\n",
    "start, stop, time_Step, Date_format = '2019-01-01', '2020-01-01', '01:00:00', '%Y-%m-%d'\n",
    "df_weather = weather_data_to_df(file, start, stop, time_Step)\n",
    "df_weather.drop(df_weather.tail(1).index,inplace=True)\n",
    "\n",
    "dt_start = datetime.strptime(start, Date_format)\n",
    "dt_end = datetime.strptime(stop, '%Y-%m-%d')\n",
    "\n",
    "# Day index\n",
    "Days = list(range((dt_end - dt_start).days))\n",
    "\n",
    "# Hour index\n",
    "Hours = list(range(0,24))\n",
    "\n",
    "# External temperature - format Ext_T[Day_index,Hour_index]\n",
    "Ext_T = reshape_day_hour((df_weather['Temperature'].values), Days, Hours)\n",
    "\n",
    "# Global irradiance\n",
    "Irradiance = reshape_day_hour((df_weather['Irradiance'].values), Days, Hours)"
   ]
  },
  {
   "cell_type": "code",
   "execution_count": 8,
   "metadata": {},
   "outputs": [
    {
     "data": {
      "text/plain": [
       "<matplotlib.collections.PathCollection at 0xbfc38c8>"
      ]
     },
     "execution_count": 8,
     "metadata": {},
     "output_type": "execute_result"
    },
    {
     "data": {
      "image/png": "[encoded data removed]",
      "text/plain": [
       "<Figure size 432x288 with 1 Axes>"
      ]
     },
     "metadata": {
      "needs_background": "light"
     },
     "output_type": "display_data"
    }
   ],
   "source": [
    "plt.scatter(Hours, Ext_T[151])\n",
    "plt.scatter(Hours, Ext_T[150])"
   ]
  },
  {
   "cell_type": "markdown",
   "metadata": {},
   "source": [
    "## create an array X of the shape (nbr_datapoints, nrb_features)"
   ]
  },
  {
   "cell_type": "code",
   "execution_count": 46,
   "metadata": {},
   "outputs": [],
   "source": [
    "X = np.zeros((len(Days), 48))\n",
    "for d in Days:\n",
    "    X[d] = np.concatenate((Ext_T[d], Irradiance[d]), axis=0)"
   ]
  },
  {
   "cell_type": "code",
   "execution_count": 47,
   "metadata": {
    "scrolled": true
   },
   "outputs": [
    {
     "data": {
      "text/plain": [
       "<matplotlib.collections.PathCollection at 0xc0561c8>"
      ]
     },
     "execution_count": 47,
     "metadata": {},
     "output_type": "execute_result"
    },
    {
     "data": {
      "image/png": "[encoded data removed]",
      "text/plain": [
       "<Figure size 432x288 with 1 Axes>"
      ]
     },
     "metadata": {
      "needs_background": "light"
     },
     "output_type": "display_data"
    }
   ],
   "source": [
    "plt.scatter(Hours, X[151][0:24])\n",
    "plt.scatter(Hours, X[150][0:24])"
   ]
  },
  {
   "cell_type": "markdown",
   "metadata": {},
   "source": [
    "## Scale the values of the data"
   ]
  },
  {
   "cell_type": "code",
   "execution_count": 11,
   "metadata": {},
   "outputs": [],
   "source": [
    "scalable = X\n",
    "Xs = scale(scalable)"
   ]
  },
  {
   "cell_type": "markdown",
   "metadata": {},
   "source": [
    "## Compute the kmeans clusters"
   ]
  },
  {
   "cell_type": "code",
   "execution_count": 12,
   "metadata": {},
   "outputs": [
    {
     "data": {
      "text/plain": [
       "KMeans(algorithm='auto', copy_x=True, init='k-means++', max_iter=300,\n",
       "       n_clusters=8, n_init=10, n_jobs=None, precompute_distances='auto',\n",
       "       random_state=None, tol=0.0001, verbose=0)"
      ]
     },
     "execution_count": 12,
     "metadata": {},
     "output_type": "execute_result"
    }
   ],
   "source": [
    "compute_kmeans = cluster.KMeans(n_clusters=8)\n",
    "compute_kmeans.fit(Xs)"
   ]
  },
  {
   "cell_type": "code",
   "execution_count": 13,
   "metadata": {},
   "outputs": [],
   "source": [
    "l = compute_kmeans.labels_"
   ]
  },
  {
   "cell_type": "code",
   "execution_count": 14,
   "metadata": {},
   "outputs": [],
   "source": [
    "colors = {1:'red', 2:'blue', 3:'purple', 4:'orange', 0:'black', 5:'green', 6:'brown', 7:'pink'}"
   ]
  },
  {
   "cell_type": "markdown",
   "metadata": {},
   "source": [
    "## Identify the elements closest to the centroids"
   ]
  },
  {
   "cell_type": "code",
   "execution_count": 15,
   "metadata": {},
   "outputs": [
    {
     "data": {
      "text/plain": [
       "array([309, 154,  90, 255,  50, 146, 297,  32], dtype=int64)"
      ]
     },
     "execution_count": 15,
     "metadata": {},
     "output_type": "execute_result"
    }
   ],
   "source": [
    "from sklearn.metrics import pairwise_distances_argmin_min\n",
    "closest, _ = pairwise_distances_argmin_min(compute_kmeans.cluster_centers_, Xs)\n",
    "closest"
   ]
  },
  {
   "cell_type": "code",
   "execution_count": 95,
   "metadata": {},
   "outputs": [],
   "source": [
    "def cluster_by_Kmeans(data, nbr_clusters):\n",
    "    \"\"\" Recieve data in the shape of (nbr_data_points, nbr_features)\n",
    "    and a number of clusters. Use the scale methode form sklearn to\n",
    "    scale the data. Use the KMeans method to cluster the data.\n",
    "    Returns an array of cluster labels for each data point and \n",
    "    an array of the dtata points closest to the centroids. \n",
    "    \"\"\"\n",
    "    data_scaled = scale(data)\n",
    "    compute_kmeans = cluster.KMeans(n_clusters=nbr_clusters)\n",
    "    compute_kmeans.fit(data_scaled)\n",
    "    labels, centers = compute_kmeans.labels_, compute_kmeans.cluster_centers_\n",
    "    \n",
    "    closest, _ = pairwise_distances_argmin_min(centers, data_scaled)\n",
    "\n",
    "    return labels.tolist(), closest.tolist()"
   ]
  },
  {
   "cell_type": "code",
   "execution_count": 96,
   "metadata": {},
   "outputs": [],
   "source": [
    "labels, closest = {}, {}\n",
    "for c in range(2,30):\n",
    "    labels[c], closest[c] = cluster_by_Kmeans(X, c)"
   ]
  },
  {
   "cell_type": "code",
   "execution_count": 97,
   "metadata": {},
   "outputs": [
    {
     "data": {
      "text/plain": [
       "{2: [227, 315],\n",
       " 3: [196, 313, 260],\n",
       " 4: [224, 103, 196, 61],\n",
       " 5: [224, 307, 103, 196, 87],\n",
       " 6: [100, 209, 32, 268, 154, 90],\n",
       " 7: [268, 32, 50, 309, 154, 209, 90],\n",
       " 8: [275, 241, 32, 189, 297, 89, 154, 309],\n",
       " 9: [184, 277, 237, 338, 189, 264, 47, 360, 90],\n",
       " 10: [32, 90, 229, 309, 290, 150, 184, 50, 256, 188],\n",
       " 11: [184, 56, 229, 3, 309, 90, 172, 150, 290, 313, 256],\n",
       " 12: [50, 245, 146, 3, 290, 203, 325, 90, 184, 241, 285, 309],\n",
       " 13: [3, 224, 134, 172, 184, 47, 309, 285, 237, 262, 325, 150, 290],\n",
       " 14: [262, 103, 184, 245, 291, 47, 203, 285, 309, 150, 172, 134, 241, 10],\n",
       " 15: [157, 47, 203, 230, 237, 3, 184, 309, 290, 325, 150, 262, 245, 172, 134],\n",
       " 16: [134,\n",
       "  195,\n",
       "  303,\n",
       "  245,\n",
       "  184,\n",
       "  307,\n",
       "  10,\n",
       "  50,\n",
       "  237,\n",
       "  297,\n",
       "  190,\n",
       "  82,\n",
       "  203,\n",
       "  230,\n",
       "  103,\n",
       "  171],\n",
       " 17: [103,\n",
       "  108,\n",
       "  179,\n",
       "  199,\n",
       "  262,\n",
       "  188,\n",
       "  327,\n",
       "  264,\n",
       "  184,\n",
       "  291,\n",
       "  218,\n",
       "  190,\n",
       "  100,\n",
       "  10,\n",
       "  241,\n",
       "  55,\n",
       "  134],\n",
       " 18: [79,\n",
       "  203,\n",
       "  10,\n",
       "  264,\n",
       "  127,\n",
       "  164,\n",
       "  134,\n",
       "  190,\n",
       "  237,\n",
       "  108,\n",
       "  172,\n",
       "  184,\n",
       "  45,\n",
       "  290,\n",
       "  262,\n",
       "  303,\n",
       "  103,\n",
       "  195],\n",
       " 19: [164,\n",
       "  289,\n",
       "  103,\n",
       "  212,\n",
       "  134,\n",
       "  100,\n",
       "  245,\n",
       "  203,\n",
       "  230,\n",
       "  291,\n",
       "  10,\n",
       "  303,\n",
       "  175,\n",
       "  188,\n",
       "  47,\n",
       "  241,\n",
       "  82,\n",
       "  150,\n",
       "  161],\n",
       " 20: [150,\n",
       "  47,\n",
       "  290,\n",
       "  10,\n",
       "  258,\n",
       "  89,\n",
       "  309,\n",
       "  167,\n",
       "  126,\n",
       "  195,\n",
       "  103,\n",
       "  184,\n",
       "  286,\n",
       "  179,\n",
       "  209,\n",
       "  218,\n",
       "  199,\n",
       "  159,\n",
       "  49,\n",
       "  131],\n",
       " 21: [164,\n",
       "  323,\n",
       "  264,\n",
       "  290,\n",
       "  199,\n",
       "  309,\n",
       "  134,\n",
       "  56,\n",
       "  218,\n",
       "  32,\n",
       "  161,\n",
       "  82,\n",
       "  241,\n",
       "  176,\n",
       "  190,\n",
       "  195,\n",
       "  108,\n",
       "  45,\n",
       "  10,\n",
       "  184,\n",
       "  131],\n",
       " 22: [110,\n",
       "  303,\n",
       "  154,\n",
       "  9,\n",
       "  49,\n",
       "  262,\n",
       "  223,\n",
       "  164,\n",
       "  45,\n",
       "  211,\n",
       "  161,\n",
       "  150,\n",
       "  203,\n",
       "  290,\n",
       "  237,\n",
       "  79,\n",
       "  325,\n",
       "  306,\n",
       "  126,\n",
       "  264,\n",
       "  191,\n",
       "  176],\n",
       " 23: [303,\n",
       "  241,\n",
       "  245,\n",
       "  184,\n",
       "  49,\n",
       "  45,\n",
       "  264,\n",
       "  188,\n",
       "  103,\n",
       "  131,\n",
       "  179,\n",
       "  190,\n",
       "  82,\n",
       "  161,\n",
       "  56,\n",
       "  290,\n",
       "  203,\n",
       "  212,\n",
       "  10,\n",
       "  306,\n",
       "  223,\n",
       "  128,\n",
       "  211],\n",
       " 24: [325,\n",
       "  159,\n",
       "  286,\n",
       "  203,\n",
       "  45,\n",
       "  122,\n",
       "  9,\n",
       "  223,\n",
       "  108,\n",
       "  175,\n",
       "  262,\n",
       "  278,\n",
       "  256,\n",
       "  56,\n",
       "  242,\n",
       "  164,\n",
       "  195,\n",
       "  131,\n",
       "  327,\n",
       "  134,\n",
       "  191,\n",
       "  150,\n",
       "  237,\n",
       "  290],\n",
       " 25: [303,\n",
       "  195,\n",
       "  161,\n",
       "  164,\n",
       "  256,\n",
       "  325,\n",
       "  288,\n",
       "  108,\n",
       "  32,\n",
       "  237,\n",
       "  290,\n",
       "  190,\n",
       "  10,\n",
       "  45,\n",
       "  89,\n",
       "  79,\n",
       "  203,\n",
       "  134,\n",
       "  223,\n",
       "  270,\n",
       "  341,\n",
       "  184,\n",
       "  169,\n",
       "  188,\n",
       "  176],\n",
       " 26: [118,\n",
       "  212,\n",
       "  10,\n",
       "  290,\n",
       "  179,\n",
       "  325,\n",
       "  110,\n",
       "  195,\n",
       "  262,\n",
       "  230,\n",
       "  190,\n",
       "  307,\n",
       "  303,\n",
       "  126,\n",
       "  87,\n",
       "  203,\n",
       "  241,\n",
       "  152,\n",
       "  47,\n",
       "  32,\n",
       "  170,\n",
       "  286,\n",
       "  161,\n",
       "  191,\n",
       "  184,\n",
       "  134],\n",
       " 27: [205,\n",
       "  360,\n",
       "  261,\n",
       "  199,\n",
       "  289,\n",
       "  108,\n",
       "  103,\n",
       "  163,\n",
       "  258,\n",
       "  179,\n",
       "  50,\n",
       "  268,\n",
       "  134,\n",
       "  188,\n",
       "  256,\n",
       "  10,\n",
       "  209,\n",
       "  340,\n",
       "  243,\n",
       "  290,\n",
       "  195,\n",
       "  86,\n",
       "  45,\n",
       "  161,\n",
       "  122,\n",
       "  150,\n",
       "  184],\n",
       " 28: [237,\n",
       "  309,\n",
       "  90,\n",
       "  154,\n",
       "  103,\n",
       "  218,\n",
       "  101,\n",
       "  195,\n",
       "  108,\n",
       "  290,\n",
       "  102,\n",
       "  22,\n",
       "  133,\n",
       "  203,\n",
       "  190,\n",
       "  161,\n",
       "  254,\n",
       "  184,\n",
       "  363,\n",
       "  288,\n",
       "  176,\n",
       "  131,\n",
       "  286,\n",
       "  170,\n",
       "  86,\n",
       "  54,\n",
       "  56,\n",
       "  360],\n",
       " 29: [107,\n",
       "  32,\n",
       "  278,\n",
       "  309,\n",
       "  176,\n",
       "  218,\n",
       "  211,\n",
       "  79,\n",
       "  197,\n",
       "  215,\n",
       "  45,\n",
       "  184,\n",
       "  297,\n",
       "  285,\n",
       "  116,\n",
       "  188,\n",
       "  356,\n",
       "  205,\n",
       "  134,\n",
       "  159,\n",
       "  262,\n",
       "  150,\n",
       "  232,\n",
       "  10,\n",
       "  50,\n",
       "  152,\n",
       "  195,\n",
       "  258,\n",
       "  234]}"
      ]
     },
     "execution_count": 97,
     "metadata": {},
     "output_type": "execute_result"
    }
   ],
   "source": [
    "closest"
   ]
  },
  {
   "cell_type": "code",
   "execution_count": 98,
   "metadata": {},
   "outputs": [],
   "source": [
    "import json\n",
    "json_dict = {'labels': labels, 'closest': closest}\n",
    "with open('clusters.json', 'w') as json_file:\n",
    "  json.dump(json_dict, json_file)\n"
   ]
  },
  {
   "cell_type": "code",
   "execution_count": 73,
   "metadata": {},
   "outputs": [
    {
     "data": {
      "text/plain": [
       "{2: array([227, 315], dtype=int64),\n",
       " 3: array([313, 196, 260], dtype=int64),\n",
       " 4: array([ 61, 103, 196, 224], dtype=int64),\n",
       " 5: array([224, 103, 196,  87, 307], dtype=int64),\n",
       " 6: array([ 32, 227, 154, 100, 290,  87], dtype=int64),\n",
       " 7: array([ 50, 209, 268, 309, 154,  90,  32], dtype=int64),\n",
       " 8: array([ 89, 309,  32, 241, 154, 275, 297, 146], dtype=int64),\n",
       " 9: array([290, 184, 329, 229,  90, 338, 256, 146,  50], dtype=int64),\n",
       " 10: array([ 47, 189, 309, 229,  90, 290,   3, 184, 325, 256], dtype=int64),\n",
       " 11: array([256, 309, 190, 290, 275, 210, 188,   9,  89, 184, 313], dtype=int64),\n",
       " 12: array([184,  47, 268, 338, 216, 262, 134, 150, 354, 307, 254, 172],\n",
       "       dtype=int64),\n",
       " 13: array([237, 103, 262, 184, 290,  10, 107, 256, 203, 309,  47, 150, 172],\n",
       "       dtype=int64),\n",
       " 14: array([237, 309, 254, 288, 184,  47, 103, 172, 290, 203,   9, 230,  90,\n",
       "        150], dtype=int64),\n",
       " 15: array([309, 254, 190,   3, 262, 203, 268,  47, 184, 140, 172, 313, 237,\n",
       "        134, 189], dtype=int64),\n",
       " 16: array([262, 179, 325, 172, 190,   3, 290, 241, 203, 134,  47, 245, 309,\n",
       "        285, 184, 195], dtype=int64),\n",
       " 17: array([179, 309, 230, 134,  10, 290, 195, 245, 251, 184, 190, 237,  50,\n",
       "        103,  87, 203, 172], dtype=int64),\n",
       " 18: array([262, 325, 199, 290, 150, 241, 184, 176, 254,   9,  46, 309, 191,\n",
       "         49, 285, 131, 126, 161], dtype=int64),\n",
       " 19: array([108, 303, 164,   9,  82, 290, 203, 264, 325, 100, 190, 195,  46,\n",
       "        237, 218, 191, 134, 175, 159], dtype=int64),\n",
       " 20: array([108, 303, 244, 203,   9, 262, 237, 176, 184, 150, 325, 256,  45,\n",
       "        127, 134,  56, 172, 196, 291, 211], dtype=int64),\n",
       " 21: array([195,  45, 256,  90, 306, 184,   9, 108, 303, 237, 161, 172, 122,\n",
       "        203, 325, 190, 290, 223, 288,  56, 134], dtype=int64),\n",
       " 22: array([303, 237, 288, 167,  10, 134, 286,  79, 203, 307, 190,  45, 296,\n",
       "        172, 262, 103, 234, 184, 179, 107, 110, 189], dtype=int64),\n",
       " 23: array([297, 190,  45,  32, 256,  49, 176, 262, 203, 218, 184, 306, 325,\n",
       "         79, 303,  10, 237, 191, 161, 108, 126, 195, 122], dtype=int64),\n",
       " 24: array([108, 303, 184, 140, 203,  10, 237,  78, 188, 256, 131, 103,  50,\n",
       "        288, 100, 286, 163, 244, 134, 150,  82, 161, 179, 243], dtype=int64),\n",
       " 25: array([ 10, 110,  61, 179, 303, 286, 237,  46, 164, 223, 313, 131, 258,\n",
       "        262, 127, 161, 191, 150, 290, 203, 126,   5, 195, 168,  79],\n",
       "       dtype=int64),\n",
       " 26: array([102, 212, 270, 152,  61, 127, 325,  10, 146, 184, 108, 172,  79,\n",
       "        190, 203, 290, 134, 327, 242,  32, 195, 230, 262, 176,  45, 256],\n",
       "       dtype=int64),\n",
       " 27: array([ 45, 187, 110, 163, 292, 215, 360, 179, 103, 131, 230, 286,  79,\n",
       "        203, 161,  35, 150, 262, 296, 184, 341, 241, 122, 195, 191, 126,\n",
       "        363], dtype=int64),\n",
       " 28: array([  5, 161,  49, 203, 251, 244, 184, 309, 242,  10, 195, 230, 152,\n",
       "        291, 150, 104,  45, 215,  87,  42, 256, 176, 131, 188, 356, 164,\n",
       "        126, 108], dtype=int64),\n",
       " 29: array([165,  45, 244, 245, 175,  32, 205,  56, 161, 230, 199, 248, 303,\n",
       "        190, 122, 258,  10, 237,  79, 262, 164, 286, 309, 195, 185, 134,\n",
       "        325, 191, 250], dtype=int64)}"
      ]
     },
     "execution_count": 73,
     "metadata": {},
     "output_type": "execute_result"
    }
   ],
   "source": [
    "closest"
   ]
  },
  {
   "cell_type": "code",
   "execution_count": 99,
   "metadata": {},
   "outputs": [],
   "source": [
    "with open('clusters.json', 'r') as json_file:\n",
    "  data = json.load(json_file)"
   ]
  },
  {
   "cell_type": "code",
   "execution_count": 102,
   "metadata": {},
   "outputs": [
    {
     "data": {
      "text/plain": [
       "28"
      ]
     },
     "execution_count": 102,
     "metadata": {},
     "output_type": "execute_result"
    }
   ],
   "source": [
    "len(data['labels'])"
   ]
  },
  {
   "cell_type": "code",
   "execution_count": null,
   "metadata": {},
   "outputs": [],
   "source": []
  }
 ],
 "metadata": {
  "kernelspec": {
   "display_name": "Python 3",
   "language": "python",
   "name": "python3"
  },
  "language_info": {
   "codemirror_mode": {
    "name": "ipython",
    "version": 3
   },
   "file_extension": ".py",
   "mimetype": "text/x-python",
   "name": "python",
   "nbconvert_exporter": "python",
   "pygments_lexer": "ipython3",
   "version": "3.7.6"
  }
 },
 "nbformat": 4,
 "nbformat_minor": 4
}
