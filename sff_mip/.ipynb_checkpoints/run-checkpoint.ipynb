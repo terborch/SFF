{
 "cells": [
  {
   "cell_type": "markdown",
   "metadata": {},
   "source": [
    "# Run module\n",
    "\n",
    "## Main script from where to run all other scripts\n",
    "* TODO: Set file names and path  \n",
    "* Get all imputs\n",
    "* TODO: options to view and save imputs\n",
    "* Build the MIP model\n",
    "* TODO: add option to change scenarios\n",
    "* TODO: add option to change model settings and parameters\n",
    "* TODO: option to view and save the model\n",
    "* Get and display outputs\n",
    "* Option to save outputs\n",
    "* TODO: Save format, save graphs"
   ]
  },
  {
   "cell_type": "code",
   "execution_count": 1,
   "metadata": {
    "scrolled": true
   },
   "outputs": [
    {
     "name": "stdout",
     "output_type": "stream",
     "text": [
      "Using license file c:\\gurobi901\\gurobi.lic\n",
      "Academic license - for non-commercial use only\n",
      "Reset all parameters\n",
      "Discarded solution information\n",
      "Changed value of parameter TimeLimit to 100.0\n",
      "   Prev: inf  Min: 0.0  Max: inf  Default: inf\n",
      "Gurobi Optimizer version 9.0.1 build v9.0.1rc0 (win64)\n",
      "Optimize a model with 433 rows, 356 columns and 1048 nonzeros\n",
      "Model fingerprint: 0x7fd69e8f\n",
      "Variable types: 304 continuous, 52 integer (52 binary)\n",
      "Coefficient statistics:\n",
      "  Matrix range     [1e-04, 1e+04]\n",
      "  Objective range  [1e+00, 1e+00]\n",
      "  Bounds range     [1e+00, 1e+04]\n",
      "  RHS range        [5e-02, 2e+02]\n",
      "Presolve removed 232 rows and 197 columns\n",
      "Presolve time: 0.01s\n",
      "Presolved: 201 rows, 159 columns, 567 nonzeros\n",
      "Variable types: 133 continuous, 26 integer (26 binary)\n",
      "Found heuristic solution: objective 3684.4536986\n",
      "\n",
      "Root relaxation: objective 2.776729e+03, 52 iterations, 0.00 seconds\n",
      "\n",
      "    Nodes    |    Current Node    |     Objective Bounds      |     Work\n",
      " Expl Unexpl |  Obj  Depth IntInf | Incumbent    BestBd   Gap | It/Node Time\n",
      "\n",
      "     0     0 2776.72869    0    1 3684.45370 2776.72869  24.6%     -    0s\n",
      "H    0     0                    2776.7601402 2776.72869  0.00%     -    0s\n",
      "\n",
      "Explored 1 nodes (52 simplex iterations) in 0.04 seconds\n",
      "Thread count was 8 (of 8 available processors)\n",
      "\n",
      "Solution count 2: 2776.76 3684.45 \n",
      "\n",
      "Optimal solution found (tolerance 1.00e-04)\n",
      "Best objective 2.776760140232e+03, best bound 2.776728686213e+03, gap 0.0011%\n",
      "       Variable Name       Result                                      Unit  \\\n",
      "0           size[PV]   100.000000                                      None   \n",
      "1          size[BAT]    40.535798                                      None   \n",
      "2         size[SOFC]    20.046484                                      None   \n",
      "3           size[AD]    35.169271                                      None   \n",
      "4        install[PV]     1.000000                                      None   \n",
      "5       install[BAT]     1.000000                                      None   \n",
      "6      install[SOFC]     1.000000                                      None   \n",
      "7        install[AD]     1.000000                                      None   \n",
      "8          CAPEX[PV]   356.566350                                      None   \n",
      "9         CAPEX[BAT]    53.119833                                      None   \n",
      "10       CAPEX[SOFC]   103.751311                                      None   \n",
      "11         CAPEX[AD]   103.957031                                      None   \n",
      "12  grid_elec_export    16.833793       [kWh, Electricity sold by the farm]   \n",
      "13  grid_elec_import  1607.411390  [kWh, Electricity purchased by the farm]   \n",
      "14             capex   617.394525                       [kCHF, total CAPEX]   \n",
      "15              opex  2737.156054            [kCHF/year, total annual opex]   \n",
      "16             totex  2776.760140    [kCHF/year, total annualized expenses]   \n",
      "\n",
      "    Lower Bound  Upper Bound  \n",
      "0           0.0      10000.0  \n",
      "1           0.0      10000.0  \n",
      "2           0.0      10000.0  \n",
      "3           0.0      10000.0  \n",
      "4           0.0          1.0  \n",
      "5           0.0          1.0  \n",
      "6           0.0          1.0  \n",
      "7           0.0          1.0  \n",
      "8           0.0      10000.0  \n",
      "9           0.0      10000.0  \n",
      "10          0.0      10000.0  \n",
      "11          0.0      10000.0  \n",
      "12          0.0      10000.0  \n",
      "13          0.0      10000.0  \n",
      "14     -10000.0      10000.0  \n",
      "15     -10000.0      10000.0  \n",
      "16     -10000.0      10000.0  \n"
     ]
    },
    {
     "data": {
      "image/png": "[encoded data removed]",
      "text/plain": [
       "<Figure size 432x288 with 1 Axes>"
      ]
     },
     "metadata": {
      "needs_background": "light"
     },
     "output_type": "display_data"
    }
   ],
   "source": [
    "\"\"\" \n",
    " \n",
    "\"\"\"\n",
    "\n",
    "\n",
    "# External modules\n",
    "import os.path\n",
    "from datetime import datetime\n",
    "import pandas as pd\n",
    "import matplotlib.pyplot as plt\n",
    "# Internal modules\n",
    "import results\n",
    "from initialize_model import m\n",
    "from global_param import U_c, Periods, Temperature, Irradiance\n",
    "import model\n",
    "\n",
    "\n",
    "# Build and run the MIP optimization model\n",
    "relax = False\n",
    "model.run(relax)\n",
    "\n",
    "\n",
    "# datetime object containing current date and time\n",
    "now = datetime.now()\n",
    "now = now.strftime(\"%Y-%m-%d\")\n",
    "\n",
    "vars_name, vars_value, vars_unit, vars_lb, vars_ub = [], [], [], [], []\n",
    "    \n",
    "df_results = results.time_indep(m, U_c)\n",
    "\n",
    "vars_name_t = results.time_dep_var_names(m)\n",
    "\n",
    "run_nbr = 1\n",
    "\n",
    "cd = os.path.join('results', 'run_{}_on_{}'.format(run_nbr, now), 'result_summary.pkl')\n",
    "\n",
    "os.makedirs(os.path.dirname(cd), exist_ok=True)\n",
    "\n",
    "df_results.to_pickle(cd)\n",
    "\n",
    "df = pd.read_pickle(cd)\n",
    "\n",
    "print(df_results)\n",
    "\n",
    "time_indep_dic, time_dep_dic = results.get_all_var(m, vars_name_t, Periods)\n",
    "\n",
    "plt.plot(Periods, Temperature)\n",
    "plt.plot(Periods, time_dep_dic['building_temperature'])\n",
    "plt.show()\n",
    "\n",
    "##################################################################################################\n",
    "### END\n",
    "##################################################################################################\n"
   ]
  },
  {
   "cell_type": "markdown",
   "metadata": {},
   "source": [
    "# Experimenting"
   ]
  },
  {
   "cell_type": "code",
   "execution_count": 2,
   "metadata": {},
   "outputs": [],
   "source": [
    "import data"
   ]
  },
  {
   "cell_type": "code",
   "execution_count": 113,
   "metadata": {},
   "outputs": [],
   "source": [
    "file = 'elec_consumption_SFF.csv'\n",
    "folder = 'internal'\n",
    "df_cons = default_data_to_df(file, folder, df_index=None)"
   ]
  },
  {
   "cell_type": "code",
   "execution_count": 72,
   "metadata": {},
   "outputs": [],
   "source": [
    "df = df.transpose()\n",
    "df.rename(columns={0: 'last_day', 1: 'Elec_cons'}, inplace = True)"
   ]
  },
  {
   "cell_type": "code",
   "execution_count": 66,
   "metadata": {},
   "outputs": [],
   "source": [
    "def rename_csv(df):\n",
    "    \"\"\" Remove the wonky characters from the first column's name typical for hand made csv files\n",
    "    \"\"\"\n",
    "    name = df.columns[0].split('¿')[1]\n",
    "    df.rename(columns={df.columns[0] : name}, inplace = True)"
   ]
  },
  {
   "cell_type": "code",
   "execution_count": 67,
   "metadata": {},
   "outputs": [],
   "source": [
    "def open_csv(file, folder, separator):\n",
    "    \"\"\" Open a csv file in a inputs subfolder given a file name, a folder and a separator. \"\"\"\n",
    "    if folder != 'inputs':\n",
    "        path = os.path.join('inputs', folder, file)\n",
    "    else:\n",
    "        path = os.path.join('inputs', file)\n",
    "    return pd.read_csv(path , sep = separator, engine='python')"
   ]
  },
  {
   "cell_type": "code",
   "execution_count": 73,
   "metadata": {},
   "outputs": [],
   "source": [
    "def default_data_to_df(file, folder, df_index=None):\n",
    "    \"\"\" Open a hand made csv file. Rename its first column. Either set a given timestep as index \n",
    "        or a given column. If the file is a consumption file from SFF, transpose the df, rename\n",
    "        each index into the day.month.year format and drop the 'last_day' column\n",
    "    \"\"\"\n",
    "    df = open_csv(file, folder, ',')\n",
    "    \n",
    "    if df.columns[0][0] == 'ï':\n",
    "        rename_csv(df)\n",
    "    \n",
    "    if type(df_index) == pd.core.indexes.range.RangeIndex:\n",
    "        df.set_index(df_index, inplace = True)\n",
    "        \n",
    "    elif type(df_index) == int:\n",
    "        df.set_index(df.columns[df_index], inplace = True)\n",
    "        \n",
    "    elif 'consumption_SFF' in file:\n",
    "        df = df.transpose()\n",
    "        df.rename(columns={0: 'last_day', 1: 'Elec_cons'}, inplace = True)\n",
    "        months = ['Jan', 'Feb', 'Mar', 'Apr', 'May', 'Jun', 'Jul', 'Aug', 'Sep', 'Oct', 'Nov', 'Dec']\n",
    "        for i in range(0, len(l)):\n",
    "            index = months[i] + '-19'\n",
    "            day = int(df['last_day'][index])\n",
    "            month = i + 1\n",
    "            if m <= 9:\n",
    "                df.rename(index={index: '{}.0{}.2019'.format(day, month)}, inplace = True)\n",
    "            else:\n",
    "                df.rename(index={index: '{}.{}.2019'.format(day, month)}, inplace = True)\n",
    "        df.drop(columns='last_day', inplace = True)\n",
    "    \n",
    "    return df"
   ]
  },
  {
   "cell_type": "code",
   "execution_count": 84,
   "metadata": {},
   "outputs": [],
   "source": [
    "l = list(df_cons.index)"
   ]
  },
  {
   "cell_type": "code",
   "execution_count": 92,
   "metadata": {},
   "outputs": [],
   "source": [
    "month = []\n",
    "for i in range(0, len(l)):\n",
    "    month.append(l[i].split('-')[0])"
   ]
  },
  {
   "cell_type": "code",
   "execution_count": null,
   "metadata": {},
   "outputs": [],
   "source": [
    "month = ['Jan', 'Feb', 'Mar', 'Apr', 'May', 'Jun', 'Jul', 'Aug', 'Sep', 'Oct', 'Nov', 'Dec']\n"
   ]
  },
  {
   "cell_type": "code",
   "execution_count": 95,
   "metadata": {},
   "outputs": [
    {
     "data": {
      "text/html": [
       "<div>\n",
       "<style scoped>\n",
       "    .dataframe tbody tr th:only-of-type {\n",
       "        vertical-align: middle;\n",
       "    }\n",
       "\n",
       "    .dataframe tbody tr th {\n",
       "        vertical-align: top;\n",
       "    }\n",
       "\n",
       "    .dataframe thead th {\n",
       "        text-align: right;\n",
       "    }\n",
       "</style>\n",
       "<table border=\"1\" class=\"dataframe\">\n",
       "  <thead>\n",
       "    <tr style=\"text-align: right;\">\n",
       "      <th></th>\n",
       "      <th>last_day</th>\n",
       "      <th>Elec_cons</th>\n",
       "    </tr>\n",
       "  </thead>\n",
       "  <tbody>\n",
       "    <tr>\n",
       "      <th>01.2019</th>\n",
       "      <td>31.0</td>\n",
       "      <td>92447.5</td>\n",
       "    </tr>\n",
       "    <tr>\n",
       "      <th>Feb-19</th>\n",
       "      <td>28.0</td>\n",
       "      <td>75952.5</td>\n",
       "    </tr>\n",
       "    <tr>\n",
       "      <th>Mar-19</th>\n",
       "      <td>31.0</td>\n",
       "      <td>68707.5</td>\n",
       "    </tr>\n",
       "    <tr>\n",
       "      <th>Apr-19</th>\n",
       "      <td>30.0</td>\n",
       "      <td>60577.5</td>\n",
       "    </tr>\n",
       "    <tr>\n",
       "      <th>May-19</th>\n",
       "      <td>31.0</td>\n",
       "      <td>64245.0</td>\n",
       "    </tr>\n",
       "    <tr>\n",
       "      <th>Jun-19</th>\n",
       "      <td>30.0</td>\n",
       "      <td>56955.0</td>\n",
       "    </tr>\n",
       "    <tr>\n",
       "      <th>Jul-19</th>\n",
       "      <td>31.0</td>\n",
       "      <td>49777.5</td>\n",
       "    </tr>\n",
       "    <tr>\n",
       "      <th>Aug-19</th>\n",
       "      <td>31.0</td>\n",
       "      <td>46270.0</td>\n",
       "    </tr>\n",
       "    <tr>\n",
       "      <th>Sep-19</th>\n",
       "      <td>30.0</td>\n",
       "      <td>58860.0</td>\n",
       "    </tr>\n",
       "    <tr>\n",
       "      <th>Oct-19</th>\n",
       "      <td>31.0</td>\n",
       "      <td>65407.5</td>\n",
       "    </tr>\n",
       "    <tr>\n",
       "      <th>Nov-19</th>\n",
       "      <td>30.0</td>\n",
       "      <td>70225.0</td>\n",
       "    </tr>\n",
       "    <tr>\n",
       "      <th>Dec-19</th>\n",
       "      <td>31.0</td>\n",
       "      <td>77457.5</td>\n",
       "    </tr>\n",
       "  </tbody>\n",
       "</table>\n",
       "</div>"
      ],
      "text/plain": [
       "         last_day  Elec_cons\n",
       "01.2019      31.0    92447.5\n",
       "Feb-19       28.0    75952.5\n",
       "Mar-19       31.0    68707.5\n",
       "Apr-19       30.0    60577.5\n",
       "May-19       31.0    64245.0\n",
       "Jun-19       30.0    56955.0\n",
       "Jul-19       31.0    49777.5\n",
       "Aug-19       31.0    46270.0\n",
       "Sep-19       30.0    58860.0\n",
       "Oct-19       31.0    65407.5\n",
       "Nov-19       30.0    70225.0\n",
       "Dec-19       31.0    77457.5"
      ]
     },
     "execution_count": 95,
     "metadata": {},
     "output_type": "execute_result"
    }
   ],
   "source": [
    "df_cons.rename(index={'Jan-19': '01.2019'})"
   ]
  },
  {
   "cell_type": "code",
   "execution_count": 97,
   "metadata": {},
   "outputs": [
    {
     "data": {
      "text/plain": [
       "31.0"
      ]
     },
     "execution_count": 97,
     "metadata": {},
     "output_type": "execute_result"
    }
   ],
   "source": [
    "df_cons['last_day']['Jan-19']"
   ]
  },
  {
   "cell_type": "code",
   "execution_count": 155,
   "metadata": {},
   "outputs": [],
   "source": [
    "file = 'heat_consumption_SFF.csv'\n",
    "folder = 'internal'\n",
    "df = default_data_to_df(file, folder, df_index=None)"
   ]
  },
  {
   "cell_type": "code",
   "execution_count": 157,
   "metadata": {},
   "outputs": [
    {
     "name": "stdout",
     "output_type": "stream",
     "text": [
      "31\n",
      "31\n",
      "31\n",
      "31\n",
      "31\n",
      "31\n",
      "31\n",
      "31\n",
      "31\n"
     ]
    }
   ],
   "source": [
    "file = 'heat_consumption_SFF.csv'\n",
    "folder = 'internal'\n",
    "df = default_data_to_df(file, folder, df_index=None)\n",
    "\n",
    "\n",
    "for i in range(0, len(l)):\n",
    "    index = month[i] + '-19'\n",
    "    day = int(df['last_day'][index])\n",
    "    m = i + 1\n",
    "    if m <= 9:\n",
    "        print(int(df['last_day'][ind]))\n",
    "        df.rename(index={index: '{}.0{}.2019'.format(day, m)}, inplace = True)\n",
    "    else:\n",
    "        df.rename(index={index: '{}.{}.2019'.format(day, m)}, inplace = True)\n",
    "        \n",
    "        \n",
    "df.drop(columns='last_day', inplace = True)"
   ]
  },
  {
   "cell_type": "code",
   "execution_count": 158,
   "metadata": {},
   "outputs": [],
   "source": [
    "path = os.path.join('inputs', folder, file)"
   ]
  },
  {
   "cell_type": "code",
   "execution_count": 159,
   "metadata": {},
   "outputs": [],
   "source": [
    "df.to_csv(path)\n",
    "\n"
   ]
  },
  {
   "cell_type": "code",
   "execution_count": 161,
   "metadata": {},
   "outputs": [],
   "source": [
    "from data import*"
   ]
  },
  {
   "cell_type": "code",
   "execution_count": 253,
   "metadata": {},
   "outputs": [
    {
     "data": {
      "image/png": "[encoded data removed]",
      "text/plain": [
       "<Figure size 432x288 with 2 Axes>"
      ]
     },
     "metadata": {
      "needs_background": "light"
     },
     "output_type": "display_data"
    },
    {
     "data": {
      "image/png": "[encoded data removed]",
      "text/plain": [
       "<Figure size 432x288 with 1 Axes>"
      ]
     },
     "metadata": {
      "needs_background": "light"
     },
     "output_type": "display_data"
    }
   ],
   "source": [
    "\"\"\" This module contains all functions necessary get data out of the 'model_data'\n",
    "    folder and into useable dataframes. The two key functions are:\n",
    "    weather_data_to_df(file, period_start, period_end, timestep)\n",
    "    default_data_to_df(file, df_index=None)\n",
    "    \n",
    "    #   TODO: add a way to calculate typical days\n",
    "\"\"\"\n",
    "\n",
    "import pandas as pd\n",
    "import matplotlib.pyplot as plt\n",
    "from datetime import datetime, timedelta\n",
    "import numpy as np\n",
    "import os.path\n",
    "\n",
    "\n",
    "\n",
    "##################################################################################################\n",
    "### External Parameter (weather profiles)\n",
    "##################################################################################################\n",
    "\n",
    "\n",
    "def open_csv(file, folder, separator):\n",
    "    \"\"\" Open a csv file in a inputs subfolder given a file name, a folder and a separator. \"\"\"\n",
    "    if folder != 'inputs':\n",
    "        path = os.path.join('inputs', folder, file)\n",
    "    else:\n",
    "        path = os.path.join('inputs', file)\n",
    "    return pd.read_csv(path , sep = separator, engine='python')\n",
    " \n",
    "\n",
    "def to_date_time(df, column):\n",
    "    \"\"\" Convert a dataframe column to datetime and set it as index. \"\"\"\n",
    "    df[[column]] = pd.DataFrame(pd.to_datetime(df[column], format='%d.%m.%Y %H:%M'))\n",
    "    df.set_index(column, inplace = True)\n",
    "\n",
    "\n",
    "def time_delta(delta):\n",
    "    \"\"\" Get a timedelta object from a given string with a fomat hrs_min_sec as \"00:00:00\" hours \n",
    "        minutes seconds.\n",
    "    \"\"\"\n",
    "    t = datetime.strptime(delta,\"%H:%M:%S\")\n",
    "    return timedelta(hours=t.hour, minutes=t.minute, seconds=t.second)\n",
    "\n",
    "\n",
    "def weather_data_to_df(file, period_start, period_end, timestep):\n",
    "    \"\"\" Create a dataframe from a csv file of meteorological data for a given period and with a \n",
    "        given timestep\n",
    "    \"\"\"\n",
    "    folder = 'external'\n",
    "    df = open_csv(file, folder, ';')\n",
    "    to_date_time(df, 'Date')\n",
    "    \n",
    "    df = df.truncate(before = period_start, after = period_end)\n",
    "    \n",
    "    # Sum over Irradiance values: units of Irradiance are now kWh/m^2/h = kW/m^2\n",
    "    df = df.resample(time_delta(timestep)).agg({'Irradiance': np.sum, 'Temperature': np.mean})\n",
    "    df['Irradiance'] /= 1000 \n",
    "    return df\n",
    "\n",
    "\n",
    "\n",
    "##################################################################################################\n",
    "### Internal Parameters (consumption profiles)\n",
    "##################################################################################################\n",
    "\n",
    "\n",
    "def rename_csv(df):\n",
    "    \"\"\" Remove the wonky characters from the first column's name typical for hand made csv files\n",
    "    \"\"\"\n",
    "    name = df.columns[0].split('¿')[1]\n",
    "    df.rename(columns={df.columns[0] : name}, inplace = True)\n",
    "\n",
    "\n",
    "def default_data_to_df(file, folder, df_index=None):\n",
    "    \"\"\" Open a hand made csv file. Rename its first column. Either set a given timestep as index \n",
    "        or a given column.\n",
    "    \"\"\"\n",
    "    df = open_csv(file, folder, ',')\n",
    "    \n",
    "    if df.columns[0][0] == 'ï':\n",
    "        rename_csv(df)\n",
    "    \n",
    "    if type(df_index) == pd.core.indexes.range.RangeIndex:\n",
    "        df.set_index(df_index, inplace = True)\n",
    "        \n",
    "    elif type(df_index) == int:\n",
    "        df.set_index(df.columns[df_index], inplace = True)\n",
    "        \n",
    "    return df\n",
    "\n",
    "\n",
    "\n",
    "##################################################################################################\n",
    "### Display input data\n",
    "##################################################################################################\n",
    "    \n",
    "def display_inputs(period_start, period_end):\n",
    "    # Display options for pandas.\n",
    "    pd.set_option(\"display.precision\", 3)\n",
    "    \n",
    "    timestep = \"01:00:00\"\n",
    "    file = 'meteo_Liebensberg_10min.csv'\n",
    "    \n",
    "    df_weather = weather_data_to_df(file, period_start, period_end, timestep)\n",
    "    \n",
    "    time = df_weather.index.to_pydatetime()\n",
    "    irr = df_weather['Irradiance']\n",
    "    temp = df_weather['Temperature']\n",
    "    \n",
    "    fig, ax1 = plt.subplots()\n",
    "    \n",
    "    c = 'red'\n",
    "    ###ax1.set_xlabel('Time')\n",
    "    ax1.set_ylabel('Irradiance in kW')\n",
    "    ax1.plot(time, irr, color=c)\n",
    "    ax1.tick_params(axis='y', labelcolor=c)\n",
    "    \n",
    "    ax2 = ax1.twinx()  # instantiate a second axes that shares the same x-axis\n",
    "    \n",
    "    c = 'blue'\n",
    "    ax2.set_ylabel('Temperature in °C')  # we already handled the x-label with ax1\n",
    "    ax2.plot(time, temp, color=c)\n",
    "    ax2.tick_params(axis='y', labelcolor=c)\n",
    "    \n",
    "    # rotate and align the tick labels so they look better\n",
    "    fig.autofmt_xdate()\n",
    "\n",
    "    # use a more precise date string for the x axis locations in the\n",
    "    # toolbar\n",
    "    #ax1.fmt_xdata = mdates.DateFormatter('%Y-%m-%d %H')\n",
    "    ax1.xaxis.set_major_formatter(mdates.DateFormatter('%m-%d %H:%M'))\n",
    "    \n",
    "    fig.tight_layout()  # otherwise the right y-label is slightly clipped\n",
    "    plt.title('Weather data for Liebensberg on ' + day)\n",
    "    plt.show()\n",
    "    \n",
    "    # get a user made csv file into a dataframe\n",
    "    file = 'Consumption_profile_dummy.csv'\n",
    "    folder = 'internal'\n",
    "    df_cons = default_data_to_df(file, folder, df_weather.index)\n",
    "    \n",
    "    # Plot daily profiles as a function of time\n",
    "    df_cons.plot()\n",
    "    plt.title('Daily consumption and internal gains profiles')\n",
    "    plt.show()\n",
    "\n",
    "    \n",
    "# Uncomment to choose a signle day for simplification\n",
    "# day = '2020-01-01' # Winter\n",
    "day = '2019-07-05' # Summer\n",
    "period_start = day\n",
    "period_end = '2019-07-06' + ' 23:50:00'\n",
    "display_inputs(period_start, period_end)"
   ]
  },
  {
   "cell_type": "code",
   "execution_count": 195,
   "metadata": {},
   "outputs": [],
   "source": [
    "tp = list(df_weather.index)[0]"
   ]
  },
  {
   "cell_type": "code",
   "execution_count": 227,
   "metadata": {},
   "outputs": [
    {
     "data": {
      "text/plain": [
       "[datetime.datetime(2019, 7, 5, 0, 0),\n",
       " datetime.datetime(2019, 7, 5, 1, 0),\n",
       " datetime.datetime(2019, 7, 5, 2, 0),\n",
       " datetime.datetime(2019, 7, 5, 3, 0),\n",
       " datetime.datetime(2019, 7, 5, 4, 0),\n",
       " datetime.datetime(2019, 7, 5, 5, 0),\n",
       " datetime.datetime(2019, 7, 5, 6, 0),\n",
       " datetime.datetime(2019, 7, 5, 7, 0),\n",
       " datetime.datetime(2019, 7, 5, 8, 0),\n",
       " datetime.datetime(2019, 7, 5, 9, 0),\n",
       " datetime.datetime(2019, 7, 5, 10, 0),\n",
       " datetime.datetime(2019, 7, 5, 11, 0),\n",
       " datetime.datetime(2019, 7, 5, 12, 0),\n",
       " datetime.datetime(2019, 7, 5, 13, 0),\n",
       " datetime.datetime(2019, 7, 5, 14, 0),\n",
       " datetime.datetime(2019, 7, 5, 15, 0),\n",
       " datetime.datetime(2019, 7, 5, 16, 0),\n",
       " datetime.datetime(2019, 7, 5, 17, 0),\n",
       " datetime.datetime(2019, 7, 5, 18, 0),\n",
       " datetime.datetime(2019, 7, 5, 19, 0),\n",
       " datetime.datetime(2019, 7, 5, 20, 0),\n",
       " datetime.datetime(2019, 7, 5, 21, 0),\n",
       " datetime.datetime(2019, 7, 5, 22, 0),\n",
       " datetime.datetime(2019, 7, 5, 23, 0),\n",
       " datetime.datetime(2019, 7, 6, 0, 0),\n",
       " datetime.datetime(2019, 7, 6, 1, 0),\n",
       " datetime.datetime(2019, 7, 6, 2, 0),\n",
       " datetime.datetime(2019, 7, 6, 3, 0),\n",
       " datetime.datetime(2019, 7, 6, 4, 0),\n",
       " datetime.datetime(2019, 7, 6, 5, 0),\n",
       " datetime.datetime(2019, 7, 6, 6, 0),\n",
       " datetime.datetime(2019, 7, 6, 7, 0),\n",
       " datetime.datetime(2019, 7, 6, 8, 0),\n",
       " datetime.datetime(2019, 7, 6, 9, 0),\n",
       " datetime.datetime(2019, 7, 6, 10, 0),\n",
       " datetime.datetime(2019, 7, 6, 11, 0),\n",
       " datetime.datetime(2019, 7, 6, 12, 0),\n",
       " datetime.datetime(2019, 7, 6, 13, 0),\n",
       " datetime.datetime(2019, 7, 6, 14, 0),\n",
       " datetime.datetime(2019, 7, 6, 15, 0),\n",
       " datetime.datetime(2019, 7, 6, 16, 0),\n",
       " datetime.datetime(2019, 7, 6, 17, 0),\n",
       " datetime.datetime(2019, 7, 6, 18, 0),\n",
       " datetime.datetime(2019, 7, 6, 19, 0),\n",
       " datetime.datetime(2019, 7, 6, 20, 0),\n",
       " datetime.datetime(2019, 7, 6, 21, 0),\n",
       " datetime.datetime(2019, 7, 6, 22, 0),\n",
       " datetime.datetime(2019, 7, 6, 23, 0)]"
      ]
     },
     "execution_count": 227,
     "metadata": {},
     "output_type": "execute_result"
    }
   ],
   "source": [
    "list(df_weather.index.to_pydatetime())"
   ]
  },
  {
   "cell_type": "code",
   "execution_count": 238,
   "metadata": {},
   "outputs": [],
   "source": [
    "time = df_weather.index.to_pydatetime()\n",
    "time = matplotlib.dates.date2num(time)\n",
    "type(time)\n",
    "\n",
    "import matplotlib.dates as mdates"
   ]
  },
  {
   "cell_type": "code",
   "execution_count": 222,
   "metadata": {},
   "outputs": [
    {
     "data": {
      "text/plain": [
       "[<matplotlib.lines.Line2D at 0x24950665e88>]"
      ]
     },
     "execution_count": 222,
     "metadata": {},
     "output_type": "execute_result"
    },
    {
     "data": {
      "image/png": "[encoded data removed]",
      "text/plain": [
       "<Figure size 432x288 with 1 Axes>"
      ]
     },
     "metadata": {
      "needs_background": "light"
     },
     "output_type": "display_data"
    }
   ],
   "source": [
    "dates = matplotlib.dates.date2num(df_weather.index.to_pydatetime())\n",
    "plt.plot_date(dates, range(0,len(dates)))"
   ]
  },
  {
   "cell_type": "code",
   "execution_count": 231,
   "metadata": {},
   "outputs": [
    {
     "ename": "AttributeError",
     "evalue": "'numpy.float64' object has no attribute 'DateFormatter'",
     "output_type": "error",
     "traceback": [
      "\u001b[1;31m---------------------------------------------------------------------------\u001b[0m",
      "\u001b[1;31mAttributeError\u001b[0m                            Traceback (most recent call last)",
      "\u001b[1;32m<ipython-input-231-c8092bf06e5c>\u001b[0m in \u001b[0;36m<module>\u001b[1;34m\u001b[0m\n\u001b[1;32m----> 1\u001b[1;33m \u001b[0mdates\u001b[0m\u001b[1;33m[\u001b[0m\u001b[1;36m0\u001b[0m\u001b[1;33m]\u001b[0m\u001b[1;33m.\u001b[0m\u001b[0mDateFormatter\u001b[0m\u001b[1;33m(\u001b[0m\u001b[1;34m'%Y-%m-%d %H'\u001b[0m\u001b[1;33m)\u001b[0m\u001b[1;33m\u001b[0m\u001b[1;33m\u001b[0m\u001b[0m\n\u001b[0m",
      "\u001b[1;31mAttributeError\u001b[0m: 'numpy.float64' object has no attribute 'DateFormatter'"
     ]
    }
   ],
   "source": [
    "dates[0].DateFormatter('%Y-%m-%d %H')"
   ]
  },
  {
   "cell_type": "code",
   "execution_count": 182,
   "metadata": {},
   "outputs": [
    {
     "ename": "TypeError",
     "evalue": "strptime() takes exactly 3 positional arguments (2 given)",
     "output_type": "error",
     "traceback": [
      "\u001b[1;31m---------------------------------------------------------------------------\u001b[0m",
      "\u001b[1;31mTypeError\u001b[0m                                 Traceback (most recent call last)",
      "\u001b[1;32m<ipython-input-182-0e5c5d950e0a>\u001b[0m in \u001b[0;36m<module>\u001b[1;34m\u001b[0m\n\u001b[1;32m----> 1\u001b[1;33m \u001b[0mt\u001b[0m\u001b[1;33m.\u001b[0m\u001b[0mstrptime\u001b[0m\u001b[1;33m(\u001b[0m\u001b[1;34m\"%d %H\"\u001b[0m\u001b[1;33m)\u001b[0m\u001b[1;33m\u001b[0m\u001b[1;33m\u001b[0m\u001b[0m\n\u001b[0m",
      "\u001b[1;32mpandas\\_libs\\tslibs\\timestamps.pyx\u001b[0m in \u001b[0;36mpandas._libs.tslibs.timestamps.Timestamp.strptime\u001b[1;34m()\u001b[0m\n",
      "\u001b[1;31mTypeError\u001b[0m: strptime() takes exactly 3 positional arguments (2 given)"
     ]
    }
   ],
   "source": [
    "t.strptime(\"%d %H\")"
   ]
  },
  {
   "cell_type": "code",
   "execution_count": 184,
   "metadata": {},
   "outputs": [
    {
     "data": {
      "text/plain": [
       "'05 00'"
      ]
     },
     "execution_count": 184,
     "metadata": {},
     "output_type": "execute_result"
    }
   ],
   "source": [
    "datetime.strftime(t,'%d %H')"
   ]
  },
  {
   "cell_type": "code",
   "execution_count": 186,
   "metadata": {},
   "outputs": [
    {
     "data": {
      "text/plain": [
       "[0,\n",
       " 1,\n",
       " 2,\n",
       " 3,\n",
       " 4,\n",
       " 5,\n",
       " 6,\n",
       " 7,\n",
       " 8,\n",
       " 9,\n",
       " 10,\n",
       " 11,\n",
       " 12,\n",
       " 13,\n",
       " 14,\n",
       " 15,\n",
       " 16,\n",
       " 17,\n",
       " 18,\n",
       " 19,\n",
       " 20,\n",
       " 21,\n",
       " 22,\n",
       " 23,\n",
       " 24,\n",
       " 25,\n",
       " 26,\n",
       " 27,\n",
       " 28,\n",
       " 29,\n",
       " 30,\n",
       " 31,\n",
       " 32,\n",
       " 33,\n",
       " 34,\n",
       " 35,\n",
       " 36,\n",
       " 37,\n",
       " 38,\n",
       " 39,\n",
       " 40,\n",
       " 41,\n",
       " 42,\n",
       " 43,\n",
       " 44,\n",
       " 45,\n",
       " 46,\n",
       " 47]"
      ]
     },
     "execution_count": 186,
     "metadata": {},
     "output_type": "execute_result"
    }
   ],
   "source": [
    "list(range(0, 48))"
   ]
  },
  {
   "cell_type": "code",
   "execution_count": 1,
   "metadata": {},
   "outputs": [
    {
     "name": "stdout",
     "output_type": "stream",
     "text": [
      "Using license file c:\\gurobi901\\gurobi.lic\n",
      "Academic license - for non-commercial use only\n",
      "Reset all parameters\n",
      "Discarded solution information\n",
      "Changed value of parameter TimeLimit to 100.0\n",
      "   Prev: inf  Min: 0.0  Max: inf  Default: inf\n"
     ]
    },
    {
     "data": {
      "text/plain": [
       "{'Solver_time_limit': 100.0,\n",
       " 'Var_bound': 10000.0,\n",
       " 'Timestep': '01:00:00',\n",
       " 'Period_start': '2019-07-05',\n",
       " 'Period_end': '2019-07-06',\n",
       " 'PV_max': 100.0,\n",
       " 'BAT_max': 100.0,\n",
       " 'AD_max': 100.0,\n",
       " 'SOFC_max': 100.0}"
      ]
     },
     "execution_count": 1,
     "metadata": {},
     "output_type": "execute_result"
    }
   ],
   "source": [
    "from initialize_model import P, P_meta, S\n",
    "S"
   ]
  },
  {
   "cell_type": "code",
   "execution_count": 2,
   "metadata": {},
   "outputs": [
    {
     "data": {
      "text/plain": [
       "'2019-07-05'"
      ]
     },
     "execution_count": 2,
     "metadata": {},
     "output_type": "execute_result"
    }
   ],
   "source": [
    "S['Period_start']"
   ]
  },
  {
   "cell_type": "code",
   "execution_count": 21,
   "metadata": {},
   "outputs": [],
   "source": [
    "Time_fomrat = '%Y-%m-%d %H:%M:%S'"
   ]
  },
  {
   "cell_type": "code",
   "execution_count": 3,
   "metadata": {},
   "outputs": [
    {
     "data": {
      "text/plain": [
       "'2019-07-06'"
      ]
     },
     "execution_count": 3,
     "metadata": {},
     "output_type": "execute_result"
    }
   ],
   "source": [
    "S['Period_end']"
   ]
  },
  {
   "cell_type": "code",
   "execution_count": 53,
   "metadata": {},
   "outputs": [],
   "source": [
    "S['Timestep'] = '01:00:00'"
   ]
  },
  {
   "cell_type": "code",
   "execution_count": 54,
   "metadata": {},
   "outputs": [],
   "source": [
    "dt = datetime.strptime(S['Timestep'],\"%H:%M:%S\")"
   ]
  },
  {
   "cell_type": "code",
   "execution_count": 55,
   "metadata": {},
   "outputs": [
    {
     "data": {
      "text/plain": [
       "True"
      ]
     },
     "execution_count": 55,
     "metadata": {},
     "output_type": "execute_result"
    }
   ],
   "source": [
    "dt >= datetime.strptime('01:00:00',\"%H:%M:%S\")"
   ]
  },
  {
   "cell_type": "code",
   "execution_count": 56,
   "metadata": {},
   "outputs": [],
   "source": [
    "dt = 1"
   ]
  },
  {
   "cell_type": "code",
   "execution_count": 6,
   "metadata": {},
   "outputs": [],
   "source": [
    "Time_start = '00:00:00'\n",
    "Time_end = '23:50:00'"
   ]
  },
  {
   "cell_type": "code",
   "execution_count": 10,
   "metadata": {},
   "outputs": [],
   "source": [
    "start = S['Period_start'] + ' ' + Time_start"
   ]
  },
  {
   "cell_type": "code",
   "execution_count": 11,
   "metadata": {},
   "outputs": [],
   "source": [
    "end = S['Period_end'] + ' ' + Time_end"
   ]
  },
  {
   "cell_type": "code",
   "execution_count": 12,
   "metadata": {},
   "outputs": [
    {
     "data": {
      "text/plain": [
       "('2019-07-05 00:00:00', '2019-07-06 23:50:00')"
      ]
     },
     "execution_count": 12,
     "metadata": {},
     "output_type": "execute_result"
    }
   ],
   "source": [
    "start, end"
   ]
  },
  {
   "cell_type": "code",
   "execution_count": 17,
   "metadata": {},
   "outputs": [
    {
     "data": {
      "text/plain": [
       "datetime.timedelta(seconds=3600)"
      ]
     },
     "execution_count": 17,
     "metadata": {},
     "output_type": "execute_result"
    }
   ],
   "source": [
    "from datetime import datetime, timedelta\n",
    "t = datetime.strptime('01:00:00',\"%H:%M:%S\")\n",
    "timedelta(hours=t.hour, minutes=t.minute, seconds=t.second)"
   ]
  },
  {
   "cell_type": "code",
   "execution_count": 30,
   "metadata": {},
   "outputs": [],
   "source": [
    "dt_start = datetime.strptime(start, Time_fomrat)"
   ]
  },
  {
   "cell_type": "code",
   "execution_count": 31,
   "metadata": {},
   "outputs": [],
   "source": [
    "dt_end = datetime.strptime(end, Time_fomrat)"
   ]
  },
  {
   "cell_type": "code",
   "execution_count": 39,
   "metadata": {},
   "outputs": [],
   "source": [
    "Period_duration = dt_end - dt_start"
   ]
  },
  {
   "cell_type": "code",
   "execution_count": 46,
   "metadata": {},
   "outputs": [
    {
     "data": {
      "text/plain": [
       "(1, 23, 50)"
      ]
     },
     "execution_count": 46,
     "metadata": {},
     "output_type": "execute_result"
    }
   ],
   "source": [
    "Period_duration.days, Period_duration.seconds//3600, (Period_duration.seconds//60)%60"
   ]
  },
  {
   "cell_type": "code",
   "execution_count": null,
   "metadata": {},
   "outputs": [],
   "source": []
  }
 ],
 "metadata": {
  "kernelspec": {
   "display_name": "Python 3",
   "language": "python",
   "name": "python3"
  },
  "language_info": {
   "codemirror_mode": {
    "name": "ipython",
    "version": 3
   },
   "file_extension": ".py",
   "mimetype": "text/x-python",
   "name": "python",
   "nbconvert_exporter": "python",
   "pygments_lexer": "ipython3",
   "version": "3.7.6"
  }
 },
 "nbformat": 4,
 "nbformat_minor": 4
}
