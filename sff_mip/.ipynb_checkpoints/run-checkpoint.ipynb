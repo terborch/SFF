{
 "cells": [
  {
   "cell_type": "markdown",
   "metadata": {},
   "source": [
    "# Run module\n",
    "\n",
    "## Main script from where to run all other scripts\n",
    "* TODO: Set file names and path  \n",
    "* Get all imputs\n",
    "* TODO: options to view and save imputs\n",
    "* Build the MIP model\n",
    "* TODO: add option to change scenarios\n",
    "* TODO: add option to change model settings and parameters\n",
    "* TODO: option to view and save the model\n",
    "* Get and display outputs\n",
    "* Option to save outputs\n",
    "* TODO: Save format, save graphs"
   ]
  },
  {
   "cell_type": "code",
   "execution_count": 1,
   "metadata": {
    "scrolled": true
   },
   "outputs": [
    {
     "name": "stdout",
     "output_type": "stream",
     "text": [
      "Using license file c:\\gurobi901\\gurobi.lic\n",
      "Academic license - for non-commercial use only\n",
      "Reset all parameters\n",
      "Discarded solution information\n",
      "Changed value of parameter TimeLimit to 100.0\n",
      "   Prev: inf  Min: 0.0  Max: inf  Default: inf\n",
      "Gurobi Optimizer version 9.0.1 build v9.0.1rc0 (win64)\n",
      "Optimize a model with 433 rows, 356 columns and 1048 nonzeros\n",
      "Model fingerprint: 0x7fd69e8f\n",
      "Variable types: 304 continuous, 52 integer (52 binary)\n",
      "Coefficient statistics:\n",
      "  Matrix range     [1e-04, 1e+04]\n",
      "  Objective range  [1e+00, 1e+00]\n",
      "  Bounds range     [1e+00, 1e+04]\n",
      "  RHS range        [5e-02, 2e+02]\n",
      "Presolve removed 232 rows and 197 columns\n",
      "Presolve time: 0.01s\n",
      "Presolved: 201 rows, 159 columns, 567 nonzeros\n",
      "Variable types: 133 continuous, 26 integer (26 binary)\n",
      "Found heuristic solution: objective 3684.4536986\n",
      "\n",
      "Root relaxation: objective 2.776729e+03, 52 iterations, 0.00 seconds\n",
      "\n",
      "    Nodes    |    Current Node    |     Objective Bounds      |     Work\n",
      " Expl Unexpl |  Obj  Depth IntInf | Incumbent    BestBd   Gap | It/Node Time\n",
      "\n",
      "     0     0 2776.72869    0    1 3684.45370 2776.72869  24.6%     -    0s\n",
      "H    0     0                    2776.7601402 2776.72869  0.00%     -    0s\n",
      "\n",
      "Explored 1 nodes (52 simplex iterations) in 0.04 seconds\n",
      "Thread count was 8 (of 8 available processors)\n",
      "\n",
      "Solution count 2: 2776.76 3684.45 \n",
      "\n",
      "Optimal solution found (tolerance 1.00e-04)\n",
      "Best objective 2.776760140232e+03, best bound 2.776728686213e+03, gap 0.0011%\n",
      "       Variable Name       Result                                      Unit  \\\n",
      "0           size[PV]   100.000000                                      None   \n",
      "1          size[BAT]    40.535798                                      None   \n",
      "2         size[SOFC]    20.046484                                      None   \n",
      "3           size[AD]    35.169271                                      None   \n",
      "4        install[PV]     1.000000                                      None   \n",
      "5       install[BAT]     1.000000                                      None   \n",
      "6      install[SOFC]     1.000000                                      None   \n",
      "7        install[AD]     1.000000                                      None   \n",
      "8          CAPEX[PV]   356.566350                                      None   \n",
      "9         CAPEX[BAT]    53.119833                                      None   \n",
      "10       CAPEX[SOFC]   103.751311                                      None   \n",
      "11         CAPEX[AD]   103.957031                                      None   \n",
      "12  grid_elec_export    16.833793       [kWh, Electricity sold by the farm]   \n",
      "13  grid_elec_import  1607.411390  [kWh, Electricity purchased by the farm]   \n",
      "14             capex   617.394525                       [kCHF, total CAPEX]   \n",
      "15              opex  2737.156054            [kCHF/year, total annual opex]   \n",
      "16             totex  2776.760140    [kCHF/year, total annualized expenses]   \n",
      "\n",
      "    Lower Bound  Upper Bound  \n",
      "0           0.0      10000.0  \n",
      "1           0.0      10000.0  \n",
      "2           0.0      10000.0  \n",
      "3           0.0      10000.0  \n",
      "4           0.0          1.0  \n",
      "5           0.0          1.0  \n",
      "6           0.0          1.0  \n",
      "7           0.0          1.0  \n",
      "8           0.0      10000.0  \n",
      "9           0.0      10000.0  \n",
      "10          0.0      10000.0  \n",
      "11          0.0      10000.0  \n",
      "12          0.0      10000.0  \n",
      "13          0.0      10000.0  \n",
      "14     -10000.0      10000.0  \n",
      "15     -10000.0      10000.0  \n",
      "16     -10000.0      10000.0  \n"
     ]
    },
    {
     "data": {
      "image/png": "[encoded data removed]",
      "text/plain": [
       "<Figure size 432x288 with 1 Axes>"
      ]
     },
     "metadata": {
      "needs_background": "light"
     },
     "output_type": "display_data"
    }
   ],
   "source": [
    "\"\"\" \n",
    " \n",
    "\"\"\"\n",
    "\n",
    "\n",
    "# External modules\n",
    "import os.path\n",
    "from datetime import datetime\n",
    "import pandas as pd\n",
    "import matplotlib.pyplot as plt\n",
    "# Internal modules\n",
    "import results\n",
    "from initialize_model import m\n",
    "from global_param import U_c, Periods, Temperature, Irradiance\n",
    "import model\n",
    "\n",
    "\n",
    "# Build and run the MIP optimization model\n",
    "relax = False\n",
    "model.run(relax)\n",
    "\n",
    "\n",
    "# datetime object containing current date and time\n",
    "now = datetime.now()\n",
    "now = now.strftime(\"%Y-%m-%d\")\n",
    "\n",
    "vars_name, vars_value, vars_unit, vars_lb, vars_ub = [], [], [], [], []\n",
    "    \n",
    "df_results = results.time_indep(m, U_c)\n",
    "\n",
    "vars_name_t = results.time_dep_var_names(m)\n",
    "\n",
    "run_nbr = 1\n",
    "\n",
    "cd = os.path.join('results', 'run_{}_on_{}'.format(run_nbr, now), 'result_summary.pkl')\n",
    "\n",
    "os.makedirs(os.path.dirname(cd), exist_ok=True)\n",
    "\n",
    "df_results.to_pickle(cd)\n",
    "\n",
    "df = pd.read_pickle(cd)\n",
    "\n",
    "print(df_results)\n",
    "\n",
    "time_indep_dic, time_dep_dic = results.get_all_var(m, vars_name_t, Periods)\n",
    "\n",
    "plt.plot(Periods, Temperature)\n",
    "plt.plot(Periods, time_dep_dic['building_temperature'])\n",
    "plt.show()\n",
    "\n",
    "##################################################################################################\n",
    "### END\n",
    "##################################################################################################\n"
   ]
  },
  {
   "cell_type": "markdown",
   "metadata": {},
   "source": [
    "# Experimenting"
   ]
  },
  {
   "cell_type": "code",
   "execution_count": 2,
   "metadata": {},
   "outputs": [],
   "source": [
    "import data"
   ]
  },
  {
   "cell_type": "code",
   "execution_count": 113,
   "metadata": {},
   "outputs": [],
   "source": [
    "file = 'elec_consumption_SFF.csv'\n",
    "folder = 'internal'\n",
    "df_cons = default_data_to_df(file, folder, df_index=None)"
   ]
  },
  {
   "cell_type": "code",
   "execution_count": 72,
   "metadata": {},
   "outputs": [],
   "source": [
    "df = df.transpose()\n",
    "df.rename(columns={0: 'last_day', 1: 'Elec_cons'}, inplace = True)"
   ]
  },
  {
   "cell_type": "code",
   "execution_count": 66,
   "metadata": {},
   "outputs": [],
   "source": [
    "def rename_csv(df):\n",
    "    \"\"\" Remove the wonky characters from the first column's name typical for hand made csv files\n",
    "    \"\"\"\n",
    "    name = df.columns[0].split('¿')[1]\n",
    "    df.rename(columns={df.columns[0] : name}, inplace = True)"
   ]
  },
  {
   "cell_type": "code",
   "execution_count": 67,
   "metadata": {},
   "outputs": [],
   "source": [
    "def open_csv(file, folder, separator):\n",
    "    \"\"\" Open a csv file in a inputs subfolder given a file name, a folder and a separator. \"\"\"\n",
    "    if folder != 'inputs':\n",
    "        path = os.path.join('inputs', folder, file)\n",
    "    else:\n",
    "        path = os.path.join('inputs', file)\n",
    "    return pd.read_csv(path , sep = separator, engine='python')"
   ]
  },
  {
   "cell_type": "code",
   "execution_count": 73,
   "metadata": {},
   "outputs": [],
   "source": [
    "def default_data_to_df(file, folder, df_index=None):\n",
    "    \"\"\" Open a hand made csv file. Rename its first column. Either set a given timestep as index \n",
    "        or a given column. If the file is a consumption file from SFF, transpose the df, rename\n",
    "        each index into the day.month.year format and drop the 'last_day' column\n",
    "    \"\"\"\n",
    "    df = open_csv(file, folder, ',')\n",
    "    \n",
    "    if df.columns[0][0] == 'ï':\n",
    "        rename_csv(df)\n",
    "    \n",
    "    if type(df_index) == pd.core.indexes.range.RangeIndex:\n",
    "        df.set_index(df_index, inplace = True)\n",
    "        \n",
    "    elif type(df_index) == int:\n",
    "        df.set_index(df.columns[df_index], inplace = True)\n",
    "        \n",
    "    elif 'consumption_SFF' in file:\n",
    "        df = df.transpose()\n",
    "        df.rename(columns={0: 'last_day', 1: 'Elec_cons'}, inplace = True)\n",
    "        months = ['Jan', 'Feb', 'Mar', 'Apr', 'May', 'Jun', 'Jul', 'Aug', 'Sep', 'Oct', 'Nov', 'Dec']\n",
    "        for i in range(0, len(l)):\n",
    "            index = months[i] + '-19'\n",
    "            day = int(df['last_day'][index])\n",
    "            month = i + 1\n",
    "            if m <= 9:\n",
    "                df.rename(index={index: '{}.0{}.2019'.format(day, month)}, inplace = True)\n",
    "            else:\n",
    "                df.rename(index={index: '{}.{}.2019'.format(day, month)}, inplace = True)\n",
    "        df.drop(columns='last_day', inplace = True)\n",
    "        \n",
    "    return df"
   ]
  },
  {
   "cell_type": "code",
   "execution_count": 84,
   "metadata": {},
   "outputs": [],
   "source": [
    "l = list(df_cons.index)"
   ]
  },
  {
   "cell_type": "code",
   "execution_count": 92,
   "metadata": {},
   "outputs": [],
   "source": [
    "month = []\n",
    "for i in range(0, len(l)):\n",
    "    month.append(l[i].split('-')[0])"
   ]
  },
  {
   "cell_type": "code",
   "execution_count": null,
   "metadata": {},
   "outputs": [],
   "source": [
    "month = ['Jan', 'Feb', 'Mar', 'Apr', 'May', 'Jun', 'Jul', 'Aug', 'Sep', 'Oct', 'Nov', 'Dec']\n"
   ]
  },
  {
   "cell_type": "code",
   "execution_count": 95,
   "metadata": {},
   "outputs": [
    {
     "data": {
      "text/html": [
       "<div>\n",
       "<style scoped>\n",
       "    .dataframe tbody tr th:only-of-type {\n",
       "        vertical-align: middle;\n",
       "    }\n",
       "\n",
       "    .dataframe tbody tr th {\n",
       "        vertical-align: top;\n",
       "    }\n",
       "\n",
       "    .dataframe thead th {\n",
       "        text-align: right;\n",
       "    }\n",
       "</style>\n",
       "<table border=\"1\" class=\"dataframe\">\n",
       "  <thead>\n",
       "    <tr style=\"text-align: right;\">\n",
       "      <th></th>\n",
       "      <th>last_day</th>\n",
       "      <th>Elec_cons</th>\n",
       "    </tr>\n",
       "  </thead>\n",
       "  <tbody>\n",
       "    <tr>\n",
       "      <th>01.2019</th>\n",
       "      <td>31.0</td>\n",
       "      <td>92447.5</td>\n",
       "    </tr>\n",
       "    <tr>\n",
       "      <th>Feb-19</th>\n",
       "      <td>28.0</td>\n",
       "      <td>75952.5</td>\n",
       "    </tr>\n",
       "    <tr>\n",
       "      <th>Mar-19</th>\n",
       "      <td>31.0</td>\n",
       "      <td>68707.5</td>\n",
       "    </tr>\n",
       "    <tr>\n",
       "      <th>Apr-19</th>\n",
       "      <td>30.0</td>\n",
       "      <td>60577.5</td>\n",
       "    </tr>\n",
       "    <tr>\n",
       "      <th>May-19</th>\n",
       "      <td>31.0</td>\n",
       "      <td>64245.0</td>\n",
       "    </tr>\n",
       "    <tr>\n",
       "      <th>Jun-19</th>\n",
       "      <td>30.0</td>\n",
       "      <td>56955.0</td>\n",
       "    </tr>\n",
       "    <tr>\n",
       "      <th>Jul-19</th>\n",
       "      <td>31.0</td>\n",
       "      <td>49777.5</td>\n",
       "    </tr>\n",
       "    <tr>\n",
       "      <th>Aug-19</th>\n",
       "      <td>31.0</td>\n",
       "      <td>46270.0</td>\n",
       "    </tr>\n",
       "    <tr>\n",
       "      <th>Sep-19</th>\n",
       "      <td>30.0</td>\n",
       "      <td>58860.0</td>\n",
       "    </tr>\n",
       "    <tr>\n",
       "      <th>Oct-19</th>\n",
       "      <td>31.0</td>\n",
       "      <td>65407.5</td>\n",
       "    </tr>\n",
       "    <tr>\n",
       "      <th>Nov-19</th>\n",
       "      <td>30.0</td>\n",
       "      <td>70225.0</td>\n",
       "    </tr>\n",
       "    <tr>\n",
       "      <th>Dec-19</th>\n",
       "      <td>31.0</td>\n",
       "      <td>77457.5</td>\n",
       "    </tr>\n",
       "  </tbody>\n",
       "</table>\n",
       "</div>"
      ],
      "text/plain": [
       "         last_day  Elec_cons\n",
       "01.2019      31.0    92447.5\n",
       "Feb-19       28.0    75952.5\n",
       "Mar-19       31.0    68707.5\n",
       "Apr-19       30.0    60577.5\n",
       "May-19       31.0    64245.0\n",
       "Jun-19       30.0    56955.0\n",
       "Jul-19       31.0    49777.5\n",
       "Aug-19       31.0    46270.0\n",
       "Sep-19       30.0    58860.0\n",
       "Oct-19       31.0    65407.5\n",
       "Nov-19       30.0    70225.0\n",
       "Dec-19       31.0    77457.5"
      ]
     },
     "execution_count": 95,
     "metadata": {},
     "output_type": "execute_result"
    }
   ],
   "source": [
    "df_cons.rename(index={'Jan-19': '01.2019'})"
   ]
  },
  {
   "cell_type": "code",
   "execution_count": 97,
   "metadata": {},
   "outputs": [
    {
     "data": {
      "text/plain": [
       "31.0"
      ]
     },
     "execution_count": 97,
     "metadata": {},
     "output_type": "execute_result"
    }
   ],
   "source": [
    "df_cons['last_day']['Jan-19']"
   ]
  },
  {
   "cell_type": "code",
   "execution_count": 134,
   "metadata": {},
   "outputs": [],
   "source": [
    "file = 'elec_consumption_SFF.csv'\n",
    "folder = 'internal'\n",
    "df = default_data_to_df(file, folder, df_index=None)"
   ]
  },
  {
   "cell_type": "code",
   "execution_count": 143,
   "metadata": {},
   "outputs": [
    {
     "name": "stdout",
     "output_type": "stream",
     "text": [
      "31\n",
      "31\n",
      "31\n",
      "31\n",
      "31\n",
      "31\n",
      "31\n",
      "31\n",
      "31\n"
     ]
    }
   ],
   "source": [
    "file = 'elec_consumption_SFF.csv'\n",
    "folder = 'internal'\n",
    "df = default_data_to_df(file, folder, df_index=None)\n",
    "\n",
    "\n",
    "for i in range(0, len(l)):\n",
    "    index = month[i] + '-19'\n",
    "    day = int(df['last_day'][index])\n",
    "    m = i + 1\n",
    "    if m <= 9:\n",
    "        print(int(df['last_day'][ind]))\n",
    "        df.rename(index={index: '{}.0{}.2019'.format(day, m)}, inplace = True)\n",
    "    else:\n",
    "        df.rename(index={index: '{}.{}.2019'.format(day, m)}, inplace = True)\n",
    "        \n",
    "        \n",
    "df.drop(columns='last_day', inplace = True)"
   ]
  },
  {
   "cell_type": "code",
   "execution_count": 144,
   "metadata": {},
   "outputs": [
    {
     "data": {
      "text/html": [
       "<div>\n",
       "<style scoped>\n",
       "    .dataframe tbody tr th:only-of-type {\n",
       "        vertical-align: middle;\n",
       "    }\n",
       "\n",
       "    .dataframe tbody tr th {\n",
       "        vertical-align: top;\n",
       "    }\n",
       "\n",
       "    .dataframe thead th {\n",
       "        text-align: right;\n",
       "    }\n",
       "</style>\n",
       "<table border=\"1\" class=\"dataframe\">\n",
       "  <thead>\n",
       "    <tr style=\"text-align: right;\">\n",
       "      <th></th>\n",
       "      <th>Elec_cons</th>\n",
       "    </tr>\n",
       "  </thead>\n",
       "  <tbody>\n",
       "    <tr>\n",
       "      <th>31.01.2019</th>\n",
       "      <td>92447.5</td>\n",
       "    </tr>\n",
       "    <tr>\n",
       "      <th>28.02.2019</th>\n",
       "      <td>75952.5</td>\n",
       "    </tr>\n",
       "    <tr>\n",
       "      <th>31.03.2019</th>\n",
       "      <td>68707.5</td>\n",
       "    </tr>\n",
       "    <tr>\n",
       "      <th>30.04.2019</th>\n",
       "      <td>60577.5</td>\n",
       "    </tr>\n",
       "    <tr>\n",
       "      <th>31.05.2019</th>\n",
       "      <td>64245.0</td>\n",
       "    </tr>\n",
       "    <tr>\n",
       "      <th>30.06.2019</th>\n",
       "      <td>56955.0</td>\n",
       "    </tr>\n",
       "    <tr>\n",
       "      <th>31.07.2019</th>\n",
       "      <td>49777.5</td>\n",
       "    </tr>\n",
       "    <tr>\n",
       "      <th>31.08.2019</th>\n",
       "      <td>46270.0</td>\n",
       "    </tr>\n",
       "    <tr>\n",
       "      <th>30.09.2019</th>\n",
       "      <td>58860.0</td>\n",
       "    </tr>\n",
       "    <tr>\n",
       "      <th>31.10.2019</th>\n",
       "      <td>65407.5</td>\n",
       "    </tr>\n",
       "    <tr>\n",
       "      <th>30.11.2019</th>\n",
       "      <td>70225.0</td>\n",
       "    </tr>\n",
       "    <tr>\n",
       "      <th>31.12.2019</th>\n",
       "      <td>77457.5</td>\n",
       "    </tr>\n",
       "  </tbody>\n",
       "</table>\n",
       "</div>"
      ],
      "text/plain": [
       "            Elec_cons\n",
       "31.01.2019    92447.5\n",
       "28.02.2019    75952.5\n",
       "31.03.2019    68707.5\n",
       "30.04.2019    60577.5\n",
       "31.05.2019    64245.0\n",
       "30.06.2019    56955.0\n",
       "31.07.2019    49777.5\n",
       "31.08.2019    46270.0\n",
       "30.09.2019    58860.0\n",
       "31.10.2019    65407.5\n",
       "30.11.2019    70225.0\n",
       "31.12.2019    77457.5"
      ]
     },
     "execution_count": 144,
     "metadata": {},
     "output_type": "execute_result"
    }
   ],
   "source": [
    "df"
   ]
  },
  {
   "cell_type": "code",
   "execution_count": null,
   "metadata": {},
   "outputs": [],
   "source": []
  }
 ],
 "metadata": {
  "kernelspec": {
   "display_name": "Python 3",
   "language": "python",
   "name": "python3"
  },
  "language_info": {
   "codemirror_mode": {
    "name": "ipython",
    "version": 3
   },
   "file_extension": ".py",
   "mimetype": "text/x-python",
   "name": "python",
   "nbconvert_exporter": "python",
   "pygments_lexer": "ipython3",
   "version": "3.7.6"
  }
 },
 "nbformat": 4,
 "nbformat_minor": 4
}
