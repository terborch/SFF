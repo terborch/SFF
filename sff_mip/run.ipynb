{
 "cells": [
  {
   "cell_type": "code",
   "execution_count": 161,
   "metadata": {},
   "outputs": [],
   "source": [
    "# External modules\n",
    "import os.path\n",
    "from datetime import datetime\n",
    "import pandas as pd\n",
    "import matplotlib.pyplot as plt\n",
    "import time\n",
    "import numpy as np\n",
    "\n",
    "start = time.time()\n",
    "\n",
    "\n",
    "# Internal modules\n",
    "import results\n",
    "from initialize_model import m, S, V_meta\n",
    "from global_param import Costs_u, Periods, Ext_T, Irradiance\n",
    "import model\n",
    "import data"
   ]
  },
  {
   "cell_type": "code",
   "execution_count": 162,
   "metadata": {},
   "outputs": [],
   "source": [
    "def var_names(m):\n",
    "    var_name_time_indep, var_name_time_dep = [], []\n",
    "    number = np.arange(0, 10).tolist()\n",
    "    number = [str(n) for n in number]\n",
    "    \n",
    "    # get all variable names, store the time dependent ones and cut the period index\n",
    "    for v in m.getVars():\n",
    "        if all(n not in v.varName for n in number):\n",
    "            if ',0' in v.varName:\n",
    "                var_name_time_dep.append(v.varName.split(',0')[0])\n",
    "            elif '[0' in v.varName:\n",
    "                var_name_time_dep.append(v.varName.split('[0')[0])\n",
    "            else:\n",
    "                var_name_time_indep.append(v.varName)\n",
    "                   \n",
    "    return var_name_time_indep, var_name_time_dep\n",
    "\n",
    "\n",
    "def var_results(m, Periods):\n",
    "    var_result_time_indep, var_result_time_dep = {}, {}\n",
    "\n",
    "    number = np.arange(0, 10).tolist()\n",
    "    number = [str(n) for n in number]\n",
    "    \n",
    "    for v in m.getVars():\n",
    "        results = []\n",
    "        if ',0' in v.varName:\n",
    "            name = v.varName.split(',0')[0]\n",
    "            for p in Periods:\n",
    "                results.append(m.getVarByName(name + ',{}]'.format(p)).x)\n",
    "            var_result_time_dep[name + ']'] = results\n",
    "        elif '[0' in v.varName:\n",
    "            name = v.varName.split('[0')[0]\n",
    "            for p in Periods:\n",
    "                results.append(m.getVarByName(name + '[{}]'.format(p)).x)\n",
    "            var_result_time_dep[name] = results\n",
    "        elif all(n not in v.varName for n in number):\n",
    "            var_result_time_indep[v.varName] = v.x\n",
    "            \n",
    "    return var_result_time_indep, var_result_time_dep"
   ]
  },
  {
   "cell_type": "code",
   "execution_count": 163,
   "metadata": {},
   "outputs": [
    {
     "name": "stdout",
     "output_type": "stream",
     "text": [
      "Gurobi Optimizer version 9.0.1 build v9.0.1rc0 (win64)\n",
      "Optimize a model with 848 rows, 772 columns and 2134 nonzeros\n",
      "Model fingerprint: 0x8408e901\n",
      "Model has 26 general constraints\n",
      "Variable types: 719 continuous, 53 integer (53 binary)\n",
      "Coefficient statistics:\n",
      "  Matrix range     [3e-05, 1e+04]\n",
      "  Objective range  [1e+00, 1e+00]\n",
      "  Bounds range     [1e+00, 1e+04]\n",
      "  RHS range        [4e-03, 1e+03]\n",
      "\n",
      "MIP start from previous solve produced solution with objective 0.0507531 (0.01s)\n",
      "Loaded MIP start from previous solve with objective 0.0507531\n",
      "\n",
      "Presolve removed 501 rows and 394 columns\n",
      "Presolve time: 0.00s\n",
      "Presolved: 347 rows, 378 columns, 1214 nonzeros\n",
      "Variable types: 357 continuous, 21 integer (21 binary)\n",
      "\n",
      "Root relaxation: objective 5.068717e-02, 268 iterations, 0.00 seconds\n",
      "\n",
      "    Nodes    |    Current Node    |     Objective Bounds      |     Work\n",
      " Expl Unexpl |  Obj  Depth IntInf | Incumbent    BestBd   Gap | It/Node Time\n",
      "\n",
      "*    0     0               0       0.0506872    0.05069  0.00%     -    0s\n",
      "\n",
      "Explored 0 nodes (268 simplex iterations) in 0.04 seconds\n",
      "Thread count was 8 (of 8 available processors)\n",
      "\n",
      "Solution count 1: 0.0506872 \n",
      "\n",
      "Optimal solution found (tolerance 1.00e-04)\n",
      "Best objective 5.068716644465e-02, best bound 5.068716644465e-02, gap 0.0000%\n",
      "solve time model:  0.6646013259887695 s\n"
     ]
    }
   ],
   "source": [
    "# Build and run the MIP optimization model\n",
    "relax = False\n",
    "model.run(relax)\n",
    "\n",
    "end = time.time()\n",
    "print('solve time model: ', end - start, 's')\n",
    "\n",
    "var_result_time_indep, var_result_time_dep = var_results(m, Periods)\n",
    "var_name_time_indep, var_name_time_dep = var_result_time_indep.keys(), var_result_time_dep.keys()"
   ]
  },
  {
   "cell_type": "code",
   "execution_count": 164,
   "metadata": {},
   "outputs": [
    {
     "data": {
      "text/plain": [
       "{'size[BOI]': 476.5733082655599,\n",
       " 'size[PV]': 60.0,\n",
       " 'size[BAT]': 20.0,\n",
       " 'size[SOFC]': 20.0,\n",
       " 'size[AD]': 116.99999999999919,\n",
       " 'install[BOI]': 1.0,\n",
       " 'install[PV]': 1.0,\n",
       " 'install[BAT]': 1.0,\n",
       " 'install[SOFC]': 1.0,\n",
       " 'install[AD]': 1.0,\n",
       " 'capex[BOI]': 96.91235526219083,\n",
       " 'capex[PV]': 215.26715000000004,\n",
       " 'capex[BAT]': 26.6266,\n",
       " 'capex[SOFC]': 103.57560000000001,\n",
       " 'capex[AD]': 324.8999999999978,\n",
       " 'min_T_AD': 30.0,\n",
       " 'max_T_AD': 40.0,\n",
       " 'penalty': 3.620508613031688e-05,\n",
       " 'grid_elec_export': 0.04999438814603528,\n",
       " 'grid_elec_import': 1.7473035925573985,\n",
       " 'grid_gas_import': 12.708621553748264,\n",
       " 'grid_gas_export': 0.0,\n",
       " 'capex': 0.7672817052621888,\n",
       " 'opex': 0.0014320430354619542,\n",
       " 'totex': 0.05065096135852281}"
      ]
     },
     "execution_count": 164,
     "metadata": {},
     "output_type": "execute_result"
    }
   ],
   "source": [
    "var_result_time_indep"
   ]
  },
  {
   "cell_type": "code",
   "execution_count": 165,
   "metadata": {},
   "outputs": [],
   "source": [
    "def get_unit_name(var):\n",
    "    return var.split('[')[1].split(']')[0]\n",
    "\n",
    "Units_storage = ['BAT']\n",
    "Color_code = {'BOI': 'firebrick', 'PV': 'aqua', 'BAT': 'navy', \n",
    "              'SOFC': 'red', 'AD': 'darkgreen'}\n",
    "Units = ['BOI', 'PV', 'BAT', 'SOFC', 'AD']\n",
    "\n",
    "def plot_unit_results(var_result_time_indep, Units, Units_storage, Color_code):\n",
    "    \"\"\" Given a dictionnary of time independent results plot a bar chart of the size of units\n",
    "        in kW of production capacity for non-storage units and in kWh for storage units.\n",
    "    \"\"\"\n",
    "\n",
    "    fig, ax1 = plt.subplots()\n",
    "    plt.title('Installed capacity for each unit')\n",
    "    ax2 = ax1.twinx()\n",
    "    ax1.set_ylabel('Installed production capacity in kW')\n",
    "    ax2.set_ylabel('Installed storage capacity in kWh')\n",
    "    \n",
    "    names = {}\n",
    "    i, j = 0, len(Units) - len(Units_storage)\n",
    "    for var in var_result_time_indep:\n",
    "        if 'size' in var:\n",
    "            name = get_unit_name(var)\n",
    "            value = var_result_time_indep[var]\n",
    "            if name not in Units_storage:\n",
    "                ax1.bar(i, value)\n",
    "                names[i] = name\n",
    "                i += 1\n",
    "            else:\n",
    "                ax2.bar(j, value, color = Color_code[name])\n",
    "                names[j] = name\n",
    "                j += 1\n",
    "                \n",
    "    plt.xticks(range(len(Units)), [names[i] for i in range(len(Units))])"
   ]
  },
  {
   "cell_type": "code",
   "execution_count": 166,
   "metadata": {},
   "outputs": [
    {
     "data": {
      "image/png": "[encoded data removed]",
      "text/plain": [
       "<Figure size 432x288 with 2 Axes>"
      ]
     },
     "metadata": {
      "needs_background": "light"
     },
     "output_type": "display_data"
    }
   ],
   "source": [
    "plot_unit_results(var_result_time_indep, Units, Units_storage, Color_code)\n",
    "plt.show()"
   ]
  },
  {
   "cell_type": "code",
   "execution_count": 167,
   "metadata": {
    "scrolled": true
   },
   "outputs": [
    {
     "ename": "SyntaxError",
     "evalue": "unexpected EOF while parsing (<ipython-input-167-530220dfbe39>, line 2)",
     "output_type": "error",
     "traceback": [
      "\u001b[1;36m  File \u001b[1;32m\"<ipython-input-167-530220dfbe39>\"\u001b[1;36m, line \u001b[1;32m2\u001b[0m\n\u001b[1;33m    \u001b[0m\n\u001b[1;37m    ^\u001b[0m\n\u001b[1;31mSyntaxError\u001b[0m\u001b[1;31m:\u001b[0m unexpected EOF while parsing\n"
     ]
    }
   ],
   "source": [
    "\n",
    "    "
   ]
  },
  {
   "cell_type": "code",
   "execution_count": 178,
   "metadata": {},
   "outputs": [],
   "source": [
    "V_meta['Header'] = ['Name', 'Value', 'Lower Bound', 'Upper Bound', 'Units', 'Description']"
   ]
  },
  {
   "cell_type": "code",
   "execution_count": 179,
   "metadata": {},
   "outputs": [],
   "source": [
    "def var_time_indep_summary(m, var_result_time_indep, V_meta):\n",
    "    dic = {}\n",
    "    for v in var_result_time_indep:\n",
    "        dic[v] = [m.getVarByName(v).x]\n",
    "        dic[v] += [m.getVarByName(v).lb, m.getVarByName(v).ub]\n",
    "        if v in V_meta:\n",
    "            dic[v] += V_meta[v]\n",
    "            \n",
    "    df = pd.DataFrame.from_dict(dic, orient='index')\n",
    "    col = dict(zip([c for c in df.columns], V_meta['Header'][1:]))\n",
    "    df.rename(columns = col, inplace = True)\n",
    "    \n",
    "    return df"
   ]
  },
  {
   "cell_type": "code",
   "execution_count": 210,
   "metadata": {},
   "outputs": [
    {
     "data": {
      "text/plain": [
       "dict_keys(['prod[BOI][Heat]', 'cons[BOI][Gas]', 'prod[PV][Elec]', 'prod[BAT][Elec]', 'cons[BAT][Elec]', 'prod[SOFC][Elec]', 'prod[SOFC][Heat]', 'cons[SOFC][Gas]', 'cons[SOFC][Biogas]', 'prod[AD][Biogas]', 'cons[AD][Biomass]', 'cons[AD][Elec]', 'cons[AD][Heat]', 'unit_T[AD]', 'build_cons[Heat]', 'v[BOI][build]', 'v[BOI][AD]', 'v[SOFC][build]', 'v[SOFC][AD]', 'bat_SOC', 'bat_charge', 'bat_discharge', 'loss_biomass', 'build_T', 'penalty_t', 'comfort_delta_T', 'comfort_delta_T_abs', 'grid_elec_export_t', 'grid_elec_import_t', 'grid_gas_import_t', 'grid_gas_export_t'])"
      ]
     },
     "execution_count": 210,
     "metadata": {},
     "output_type": "execute_result"
    }
   ],
   "source": [
    "var_name_time_dep"
   ]
  },
  {
   "cell_type": "code",
   "execution_count": null,
   "metadata": {},
   "outputs": [],
   "source": [
    "def plot_stream_results():\n",
    "    "
   ]
  },
  {
   "cell_type": "code",
   "execution_count": null,
   "metadata": {},
   "outputs": [],
   "source": []
  },
  {
   "cell_type": "code",
   "execution_count": null,
   "metadata": {},
   "outputs": [],
   "source": []
  },
  {
   "cell_type": "code",
   "execution_count": null,
   "metadata": {},
   "outputs": [],
   "source": []
  },
  {
   "cell_type": "code",
   "execution_count": null,
   "metadata": {},
   "outputs": [],
   "source": []
  },
  {
   "cell_type": "code",
   "execution_count": null,
   "metadata": {},
   "outputs": [],
   "source": []
  },
  {
   "cell_type": "code",
   "execution_count": null,
   "metadata": {},
   "outputs": [],
   "source": []
  },
  {
   "cell_type": "code",
   "execution_count": null,
   "metadata": {},
   "outputs": [],
   "source": []
  },
  {
   "cell_type": "code",
   "execution_count": null,
   "metadata": {},
   "outputs": [],
   "source": []
  },
  {
   "cell_type": "code",
   "execution_count": null,
   "metadata": {},
   "outputs": [],
   "source": []
  },
  {
   "cell_type": "code",
   "execution_count": null,
   "metadata": {},
   "outputs": [],
   "source": []
  },
  {
   "cell_type": "code",
   "execution_count": null,
   "metadata": {},
   "outputs": [],
   "source": []
  }
 ],
 "metadata": {
  "kernelspec": {
   "display_name": "Python 3",
   "language": "python",
   "name": "python3"
  },
  "language_info": {
   "codemirror_mode": {
    "name": "ipython",
    "version": 3
   },
   "file_extension": ".py",
   "mimetype": "text/x-python",
   "name": "python",
   "nbconvert_exporter": "python",
   "pygments_lexer": "ipython3",
   "version": "3.7.6"
  }
 },
 "nbformat": 4,
 "nbformat_minor": 4
}
