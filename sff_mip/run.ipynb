{
 "cells": [
  {
   "cell_type": "code",
   "execution_count": 1,
   "metadata": {},
   "outputs": [
    {
     "name": "stdout",
     "output_type": "stream",
     "text": [
      "Using license file c:\\gurobi901\\gurobi.lic\n",
      "Academic license - for non-commercial use only\n",
      "Reset all parameters\n",
      "Discarded solution information\n",
      "Changed value of parameter TimeLimit to 2000.0\n",
      "   Prev: inf  Min: 0.0  Max: inf  Default: inf\n"
     ]
    }
   ],
   "source": [
    "# External modules\n",
    "import os.path\n",
    "from datetime import datetime\n",
    "import pandas as pd\n",
    "import matplotlib.pyplot as plt\n",
    "import time\n",
    "import numpy as np\n",
    "\n",
    "start = time.time()\n",
    "\n",
    "\n",
    "# Internal modules\n",
    "import results\n",
    "from initialize_model import m, S, V_meta\n",
    "from global_param import Costs_u, Periods, Ext_T, Irradiance\n",
    "import model\n",
    "import data"
   ]
  },
  {
   "cell_type": "code",
   "execution_count": 2,
   "metadata": {},
   "outputs": [],
   "source": [
    "def var_names(m):\n",
    "    var_name_time_indep, var_name_time_dep = [], []\n",
    "    number = np.arange(0, 10).tolist()\n",
    "    number = [str(n) for n in number]\n",
    "    \n",
    "    # get all variable names, store the time dependent ones and cut the period index\n",
    "    for v in m.getVars():\n",
    "        if all(n not in v.varName for n in number):\n",
    "            if ',0' in v.varName:\n",
    "                var_name_time_dep.append(v.varName.split(',0')[0])\n",
    "            elif '[0' in v.varName:\n",
    "                var_name_time_dep.append(v.varName.split('[0')[0])\n",
    "            else:\n",
    "                var_name_time_indep.append(v.varName)\n",
    "                   \n",
    "    return var_name_time_indep, var_name_time_dep\n",
    "\n",
    "\n",
    "def var_results(m, Periods):\n",
    "    var_result_time_indep, var_result_time_dep = {}, {}\n",
    "\n",
    "    number = np.arange(0, 10).tolist()\n",
    "    number = [str(n) for n in number]\n",
    "    \n",
    "    for v in m.getVars():\n",
    "        results = []\n",
    "        if ',0' in v.varName:\n",
    "            name = v.varName.split(',0')[0]\n",
    "            for p in Periods:\n",
    "                results.append(m.getVarByName(name + ',{}]'.format(p)).x)\n",
    "            var_result_time_dep[name + ']'] = results\n",
    "        elif '[0' in v.varName:\n",
    "            name = v.varName.split('[0')[0]\n",
    "            for p in Periods:\n",
    "                results.append(m.getVarByName(name + '[{}]'.format(p)).x)\n",
    "            var_result_time_dep[name] = results\n",
    "        elif all(n not in v.varName for n in number):\n",
    "            var_result_time_indep[v.varName] = v.x\n",
    "            \n",
    "    return var_result_time_indep, var_result_time_dep"
   ]
  },
  {
   "cell_type": "code",
   "execution_count": 3,
   "metadata": {},
   "outputs": [
    {
     "ename": "TypeError",
     "evalue": "can only concatenate str (not \"bool\") to str",
     "output_type": "error",
     "traceback": [
      "\u001b[1;31m---------------------------------------------------------------------------\u001b[0m",
      "\u001b[1;31mTypeError\u001b[0m                                 Traceback (most recent call last)",
      "\u001b[1;32m<ipython-input-3-9b9fd32d4557>\u001b[0m in \u001b[0;36m<module>\u001b[1;34m\u001b[0m\n\u001b[0;32m      1\u001b[0m \u001b[1;31m# Build and run the MIP optimization model\u001b[0m\u001b[1;33m\u001b[0m\u001b[1;33m\u001b[0m\u001b[1;33m\u001b[0m\u001b[0m\n\u001b[0;32m      2\u001b[0m \u001b[0mrelax\u001b[0m \u001b[1;33m=\u001b[0m \u001b[1;32mFalse\u001b[0m\u001b[1;33m\u001b[0m\u001b[1;33m\u001b[0m\u001b[0m\n\u001b[1;32m----> 3\u001b[1;33m \u001b[0mmodel\u001b[0m\u001b[1;33m.\u001b[0m\u001b[0mrun\u001b[0m\u001b[1;33m(\u001b[0m\u001b[0mrelax\u001b[0m\u001b[1;33m)\u001b[0m\u001b[1;33m\u001b[0m\u001b[1;33m\u001b[0m\u001b[0m\n\u001b[0m\u001b[0;32m      4\u001b[0m \u001b[1;33m\u001b[0m\u001b[0m\n\u001b[0;32m      5\u001b[0m \u001b[0mend\u001b[0m \u001b[1;33m=\u001b[0m \u001b[0mtime\u001b[0m\u001b[1;33m.\u001b[0m\u001b[0mtime\u001b[0m\u001b[1;33m(\u001b[0m\u001b[1;33m)\u001b[0m\u001b[1;33m\u001b[0m\u001b[1;33m\u001b[0m\u001b[0m\n",
      "\u001b[1;32m~\\Desktop\\PdM\\GurobiPy\\repo\\sff_mip\\model.py\u001b[0m in \u001b[0;36mrun\u001b[1;34m(objective, Limit, relax)\u001b[0m\n\u001b[0;32m    380\u001b[0m \u001b[1;33m\u001b[0m\u001b[0m\n\u001b[0;32m    381\u001b[0m \u001b[1;32mdef\u001b[0m \u001b[0mrun\u001b[0m\u001b[1;33m(\u001b[0m\u001b[0mobjective\u001b[0m\u001b[1;33m,\u001b[0m \u001b[0mLimit\u001b[0m\u001b[1;33m=\u001b[0m\u001b[1;32mNone\u001b[0m\u001b[1;33m,\u001b[0m \u001b[0mrelax\u001b[0m\u001b[1;33m=\u001b[0m\u001b[1;32mFalse\u001b[0m\u001b[1;33m)\u001b[0m\u001b[1;33m:\u001b[0m\u001b[1;33m\u001b[0m\u001b[1;33m\u001b[0m\u001b[0m\n\u001b[1;32m--> 382\u001b[1;33m     \u001b[0mprint_highlight\u001b[0m\u001b[1;33m(\u001b[0m\u001b[1;34m'Objective: '\u001b[0m \u001b[1;33m+\u001b[0m \u001b[0mobjective\u001b[0m\u001b[1;33m)\u001b[0m\u001b[1;33m\u001b[0m\u001b[1;33m\u001b[0m\u001b[0m\n\u001b[0m\u001b[0;32m    383\u001b[0m     \u001b[0mset_objective\u001b[0m \u001b[1;33m=\u001b[0m \u001b[0mswitcher\u001b[0m\u001b[1;33m.\u001b[0m\u001b[0mget\u001b[0m\u001b[1;33m(\u001b[0m\u001b[0mobjective\u001b[0m\u001b[1;33m)\u001b[0m\u001b[1;33m\u001b[0m\u001b[1;33m\u001b[0m\u001b[0m\n\u001b[0;32m    384\u001b[0m     \u001b[1;32mif\u001b[0m \u001b[1;34m'pareto'\u001b[0m \u001b[1;32min\u001b[0m \u001b[0mobjective\u001b[0m\u001b[1;33m:\u001b[0m\u001b[1;33m\u001b[0m\u001b[1;33m\u001b[0m\u001b[0m\n",
      "\u001b[1;31mTypeError\u001b[0m: can only concatenate str (not \"bool\") to str"
     ]
    }
   ],
   "source": [
    "# Build and run the MIP optimization model\n",
    "relax = False\n",
    "model.run(relax)\n",
    "\n",
    "end = time.time()\n",
    "print('solve time model: ', end - start, 's')\n",
    "\n",
    "var_result_time_indep, var_result_time_dep = var_results(m, Periods)\n",
    "var_name_time_indep, var_name_time_dep = var_result_time_indep.keys(), var_result_time_dep.keys()"
   ]
  },
  {
   "cell_type": "code",
   "execution_count": 4,
   "metadata": {},
   "outputs": [
    {
     "data": {
      "text/plain": [
       "{'unit_size[BOI]': 510.29416427992516,\n",
       " 'unit_size[PV]': 60.0,\n",
       " 'unit_size[BAT]': 20.0,\n",
       " 'unit_size[SOFC]': 20.0,\n",
       " 'unit_size[AD]': 116.99999999999919,\n",
       " 'unit_install[BOI]': 1.0,\n",
       " 'unit_install[PV]': 1.0,\n",
       " 'unit_install[BAT]': 1.0,\n",
       " 'unit_install[SOFC]': 1.0,\n",
       " 'unit_install[AD]': 1.0,\n",
       " 'unit_capex[BOI]': 103.28559704890586,\n",
       " 'unit_capex[PV]': 215.26715000000004,\n",
       " 'unit_capex[BAT]': 26.6266,\n",
       " 'unit_capex[SOFC]': 103.57560000000001,\n",
       " 'unit_capex[AD]': 324.8999999999978,\n",
       " 'min_T_AD': 30.0,\n",
       " 'max_T_AD': 40.0,\n",
       " 'penalty': 0.00013749392241885168,\n",
       " 'grid_export_a[Elec]': 0.10027437629207056,\n",
       " 'grid_export_a[Gas]': 0.0,\n",
       " 'grid_import_a[Elec]': 3.493036385114797,\n",
       " 'grid_import_a[Gas]': 27.215688761596002,\n",
       " 'capex': 0.7736549470489037,\n",
       " 'opex': 0.0030075618832518655,\n",
       " 'totex': 0.052635305367661055}"
      ]
     },
     "execution_count": 4,
     "metadata": {},
     "output_type": "execute_result"
    }
   ],
   "source": [
    "var_result_time_indep"
   ]
  },
  {
   "cell_type": "code",
   "execution_count": 24,
   "metadata": {},
   "outputs": [],
   "source": [
    "def get_unit_name(var):\n",
    "    return var.split('[')[1].split(']')[0]\n",
    "\n",
    "Units_storage = ['BAT']\n",
    "Color_code = {'BOI': 'firebrick', 'PV': 'aqua', 'BAT': 'navy', \n",
    "              'SOFC': 'red', 'AD': 'darkgreen'}\n",
    "Units = ['BOI', 'PV', 'BAT', 'SOFC', 'AD']\n",
    "\n",
    "def plot_unit_results(var_result_time_indep, Units, Units_storage, Color_code):\n",
    "    \"\"\" Given a dictionnary of time independent results plot a bar chart of the size of units\n",
    "        in kW of production capacity for non-storage units and in kWh for storage units.\n",
    "    \"\"\"\n",
    "\n",
    "    fig, ax1 = plt.subplots()\n",
    "    fig.set_size_inches(11.7, 5.8)\n",
    "    plt.title('Installed capacity for each unit')\n",
    "    ax2 = ax1.twinx()\n",
    "    ax1.set_ylabel('Installed production capacity in kW')\n",
    "    ax2.set_ylabel('Installed storage capacity in kWh')\n",
    "    \n",
    "    names = {}\n",
    "    i, j = 0, len(Units) - len(Units_storage)\n",
    "    for var in var_result_time_indep:\n",
    "        if 'size' in var:\n",
    "            name = get_unit_name(var)\n",
    "            value = var_result_time_indep[var]\n",
    "            if name not in Units_storage:\n",
    "                ax1.bar(i, value)\n",
    "                names[i] = name\n",
    "                i += 1\n",
    "            else:\n",
    "                ax2.bar(j, value, color = Color_code[name])\n",
    "                names[j] = name\n",
    "                j += 1\n",
    "                \n",
    "    plt.xticks(range(len(Units)), [names[i] for i in range(len(Units))])"
   ]
  },
  {
   "cell_type": "code",
   "execution_count": 25,
   "metadata": {},
   "outputs": [
    {
     "data": {
      "image/png": "[encoded data removed]",
      "text/plain": [
       "<Figure size 842.4x417.6 with 2 Axes>"
      ]
     },
     "metadata": {
      "needs_background": "light"
     },
     "output_type": "display_data"
    }
   ],
   "source": [
    "plot_unit_results(var_result_time_indep, Units, Units_storage, Color_code)\n",
    "plt.show()"
   ]
  },
  {
   "cell_type": "code",
   "execution_count": null,
   "metadata": {
    "scrolled": true
   },
   "outputs": [],
   "source": [
    "\n",
    "    "
   ]
  },
  {
   "cell_type": "code",
   "execution_count": 7,
   "metadata": {},
   "outputs": [],
   "source": [
    "V_meta['Header'] = ['Name', 'Value', 'Lower Bound', 'Upper Bound', 'Units', 'Description']"
   ]
  },
  {
   "cell_type": "code",
   "execution_count": 8,
   "metadata": {},
   "outputs": [],
   "source": [
    "def var_time_indep_summary(m, var_result_time_indep, V_meta):\n",
    "    dic = {}\n",
    "    for v in var_result_time_indep:\n",
    "        dic[v] = [m.getVarByName(v).x]\n",
    "        dic[v] += [m.getVarByName(v).lb, m.getVarByName(v).ub]\n",
    "        if v in V_meta:\n",
    "            dic[v] += V_meta[v]\n",
    "            \n",
    "    df = pd.DataFrame.from_dict(dic, orient='index')\n",
    "    col = dict(zip([c for c in df.columns], V_meta['Header'][1:]))\n",
    "    df.rename(columns = col, inplace = True)\n",
    "    \n",
    "    return df"
   ]
  },
  {
   "cell_type": "code",
   "execution_count": 9,
   "metadata": {},
   "outputs": [
    {
     "data": {
      "text/html": [
       "<div>\n",
       "<style scoped>\n",
       "    .dataframe tbody tr th:only-of-type {\n",
       "        vertical-align: middle;\n",
       "    }\n",
       "\n",
       "    .dataframe tbody tr th {\n",
       "        vertical-align: top;\n",
       "    }\n",
       "\n",
       "    .dataframe thead th {\n",
       "        text-align: right;\n",
       "    }\n",
       "</style>\n",
       "<table border=\"1\" class=\"dataframe\">\n",
       "  <thead>\n",
       "    <tr style=\"text-align: right;\">\n",
       "      <th></th>\n",
       "      <th>0</th>\n",
       "    </tr>\n",
       "  </thead>\n",
       "  <tbody>\n",
       "    <tr>\n",
       "      <th>0</th>\n",
       "      <td>unit_prod[BOI][Heat]</td>\n",
       "    </tr>\n",
       "    <tr>\n",
       "      <th>1</th>\n",
       "      <td>unit_cons[BOI][Gas]</td>\n",
       "    </tr>\n",
       "    <tr>\n",
       "      <th>2</th>\n",
       "      <td>unit_prod[PV][Elec]</td>\n",
       "    </tr>\n",
       "    <tr>\n",
       "      <th>3</th>\n",
       "      <td>unit_prod[BAT][Elec]</td>\n",
       "    </tr>\n",
       "    <tr>\n",
       "      <th>4</th>\n",
       "      <td>unit_cons[BAT][Elec]</td>\n",
       "    </tr>\n",
       "    <tr>\n",
       "      <th>5</th>\n",
       "      <td>unit_prod[SOFC][Elec]</td>\n",
       "    </tr>\n",
       "    <tr>\n",
       "      <th>6</th>\n",
       "      <td>unit_prod[SOFC][Heat]</td>\n",
       "    </tr>\n",
       "    <tr>\n",
       "      <th>7</th>\n",
       "      <td>unit_cons[SOFC][Gas]</td>\n",
       "    </tr>\n",
       "    <tr>\n",
       "      <th>8</th>\n",
       "      <td>unit_cons[SOFC][Biogas]</td>\n",
       "    </tr>\n",
       "    <tr>\n",
       "      <th>9</th>\n",
       "      <td>unit_prod[AD][Biogas]</td>\n",
       "    </tr>\n",
       "    <tr>\n",
       "      <th>10</th>\n",
       "      <td>unit_cons[AD][Biomass]</td>\n",
       "    </tr>\n",
       "    <tr>\n",
       "      <th>11</th>\n",
       "      <td>unit_cons[AD][Elec]</td>\n",
       "    </tr>\n",
       "    <tr>\n",
       "      <th>12</th>\n",
       "      <td>unit_cons[AD][Heat]</td>\n",
       "    </tr>\n",
       "    <tr>\n",
       "      <th>13</th>\n",
       "      <td>unit_T[AD]</td>\n",
       "    </tr>\n",
       "    <tr>\n",
       "      <th>14</th>\n",
       "      <td>build_cons_Heat</td>\n",
       "    </tr>\n",
       "    <tr>\n",
       "      <th>15</th>\n",
       "      <td>v[BOI][build]</td>\n",
       "    </tr>\n",
       "    <tr>\n",
       "      <th>16</th>\n",
       "      <td>v[BOI][AD]</td>\n",
       "    </tr>\n",
       "    <tr>\n",
       "      <th>17</th>\n",
       "      <td>v[SOFC][build]</td>\n",
       "    </tr>\n",
       "    <tr>\n",
       "      <th>18</th>\n",
       "      <td>v[SOFC][AD]</td>\n",
       "    </tr>\n",
       "    <tr>\n",
       "      <th>19</th>\n",
       "      <td>bat_SOC</td>\n",
       "    </tr>\n",
       "    <tr>\n",
       "      <th>20</th>\n",
       "      <td>bat_charge</td>\n",
       "    </tr>\n",
       "    <tr>\n",
       "      <th>21</th>\n",
       "      <td>bat_discharge</td>\n",
       "    </tr>\n",
       "    <tr>\n",
       "      <th>22</th>\n",
       "      <td>heat_loss_biomass</td>\n",
       "    </tr>\n",
       "    <tr>\n",
       "      <th>23</th>\n",
       "      <td>build_T</td>\n",
       "    </tr>\n",
       "    <tr>\n",
       "      <th>24</th>\n",
       "      <td>penalty_t</td>\n",
       "    </tr>\n",
       "    <tr>\n",
       "      <th>25</th>\n",
       "      <td>comfort_delta_T</td>\n",
       "    </tr>\n",
       "    <tr>\n",
       "      <th>26</th>\n",
       "      <td>comfort_delta_T_abs</td>\n",
       "    </tr>\n",
       "    <tr>\n",
       "      <th>27</th>\n",
       "      <td>grid_export[Elec]</td>\n",
       "    </tr>\n",
       "    <tr>\n",
       "      <th>28</th>\n",
       "      <td>grid_export[Gas]</td>\n",
       "    </tr>\n",
       "    <tr>\n",
       "      <th>29</th>\n",
       "      <td>grid_import[Elec]</td>\n",
       "    </tr>\n",
       "    <tr>\n",
       "      <th>30</th>\n",
       "      <td>grid_import[Gas]</td>\n",
       "    </tr>\n",
       "  </tbody>\n",
       "</table>\n",
       "</div>"
      ],
      "text/plain": [
       "                          0\n",
       "0      unit_prod[BOI][Heat]\n",
       "1       unit_cons[BOI][Gas]\n",
       "2       unit_prod[PV][Elec]\n",
       "3      unit_prod[BAT][Elec]\n",
       "4      unit_cons[BAT][Elec]\n",
       "5     unit_prod[SOFC][Elec]\n",
       "6     unit_prod[SOFC][Heat]\n",
       "7      unit_cons[SOFC][Gas]\n",
       "8   unit_cons[SOFC][Biogas]\n",
       "9     unit_prod[AD][Biogas]\n",
       "10   unit_cons[AD][Biomass]\n",
       "11      unit_cons[AD][Elec]\n",
       "12      unit_cons[AD][Heat]\n",
       "13               unit_T[AD]\n",
       "14          build_cons_Heat\n",
       "15            v[BOI][build]\n",
       "16               v[BOI][AD]\n",
       "17           v[SOFC][build]\n",
       "18              v[SOFC][AD]\n",
       "19                  bat_SOC\n",
       "20               bat_charge\n",
       "21            bat_discharge\n",
       "22        heat_loss_biomass\n",
       "23                  build_T\n",
       "24                penalty_t\n",
       "25          comfort_delta_T\n",
       "26      comfort_delta_T_abs\n",
       "27        grid_export[Elec]\n",
       "28         grid_export[Gas]\n",
       "29        grid_import[Elec]\n",
       "30         grid_import[Gas]"
      ]
     },
     "execution_count": 9,
     "metadata": {},
     "output_type": "execute_result"
    }
   ],
   "source": [
    "pd.DataFrame(var_name_time_dep)"
   ]
  },
  {
   "cell_type": "code",
   "execution_count": 10,
   "metadata": {},
   "outputs": [
    {
     "ename": "SyntaxError",
     "evalue": "unexpected EOF while parsing (<ipython-input-10-ad5dbc1dbae6>, line 2)",
     "output_type": "error",
     "traceback": [
      "\u001b[1;36m  File \u001b[1;32m\"<ipython-input-10-ad5dbc1dbae6>\"\u001b[1;36m, line \u001b[1;32m2\u001b[0m\n\u001b[1;33m    \u001b[0m\n\u001b[1;37m    ^\u001b[0m\n\u001b[1;31mSyntaxError\u001b[0m\u001b[1;31m:\u001b[0m unexpected EOF while parsing\n"
     ]
    }
   ],
   "source": [
    "def plot_stream_results(resource, var_result_time_dep):\n",
    "    "
   ]
  },
  {
   "cell_type": "code",
   "execution_count": null,
   "metadata": {},
   "outputs": [],
   "source": [
    "resource = 'Elec'\n",
    "elec = []\n",
    "for name in var_name_time_dep:\n",
    "    if resource in name:\n",
    "        print(var_result_time_dep[name])"
   ]
  },
  {
   "cell_type": "code",
   "execution_count": null,
   "metadata": {},
   "outputs": [],
   "source": [
    "from run import date\n",
    "from global_param import Build_cons_elec"
   ]
  },
  {
   "cell_type": "code",
   "execution_count": null,
   "metadata": {},
   "outputs": [],
   "source": [
    "resource = 'Elec'\n",
    "\n",
    "def plot_resource(resource, var_result, var_name):\n",
    "    fig, ax1 = plt.subplots()\n",
    "    ax1.set_xlabel('Date')\n",
    "    ax1.set_ylabel('Electricity exchanged with units in kW')\n",
    "    ax2 = ax1.twinx()\n",
    "    ax2.set_ylabel('Electricity exchanged with the grids and buildings in kW')\n",
    "\n",
    "    for name in var_name:\n",
    "        if resource in name:\n",
    "            if 'grid' not in name:\n",
    "                if 'prod' in name:\n",
    "                    ax1.plot(date[:-1], var_result[name], label = name)\n",
    "                else:\n",
    "                    ax1.plot(date[:-1], [var_result[name][p]*(-1) for p in Periods], label = name)\n",
    "            else:\n",
    "                if 'import' in name:\n",
    "                    ax2.plot(date[:-1], var_result[name], label = name, linestyle='--')\n",
    "                else:\n",
    "                    ax2.plot(date[:-1], [var_result[name][p]*(-1) for p in Periods], label = name, linestyle='--')\n",
    "    \n",
    "    if resource == 'Elec':\n",
    "        ax2.plot(date[:-1], Build_cons_elec, label = 'Building consumption', linestyle='--')\n",
    "        \n",
    "\n",
    "    ax1.legend(loc='center left') \n",
    "    ax2.legend(loc='center right')\n",
    "    \n",
    "plot_resource('Elec', var_result_time_dep, var_name_time_dep)\n",
    "plt.show()"
   ]
  },
  {
   "cell_type": "code",
   "execution_count": null,
   "metadata": {},
   "outputs": [],
   "source": [
    "resource = 'Elec'\n",
    "\n",
    "Color_code_u = {'BOI': 'firebrick', 'PV': 'aqua', 'BAT': 'navy', 'build_T': 'black', 'Ext_T': 'blue',\n",
    "              'SOFC': 'orange', 'AD': 'darkgreen', 'Irradiance': 'red', 'bat_SOC': 'purple'}\n",
    "\n",
    "def col(name):\n",
    "    if '[' in name:\n",
    "        name = get_unit_name(name)\n",
    "    return Color_code[name]\n",
    "\n",
    "def col(name):\n",
    "    if '[' in name:\n",
    "        name = get_unit_name(name)\n",
    "    return Color_code[name]\n",
    "\n",
    "def plot_units_resource(resource, var_result, var_name):\n",
    "    plt.xlabel('Date and time')\n",
    "    plt.ylabel(resource + 'exchanged with units in kW')\n",
    "\n",
    "    for name in var_name:\n",
    "        if resource in name:\n",
    "            if 'prod' in name:\n",
    "                plt.plot(date[:-1], var_result[name], label=name, c=col(name))\n",
    "            elif 'cons' in name:\n",
    "                plt.plot(date[:-1], [var_result[name][p]*(-1) for p in Periods], label=name, ls='--', c=col(name))\n",
    "\n",
    "\n",
    "    plt.legend(loc='center left')"
   ]
  },
  {
   "cell_type": "code",
   "execution_count": null,
   "metadata": {},
   "outputs": [],
   "source": [
    "col('Irradiance')"
   ]
  },
  {
   "cell_type": "code",
   "execution_count": null,
   "metadata": {},
   "outputs": [],
   "source": [
    "plot_units_resource('Elec', var_result_time_dep, var_name_time_dep)\n",
    "plt.show()"
   ]
  },
  {
   "cell_type": "code",
   "execution_count": null,
   "metadata": {},
   "outputs": [],
   "source": [
    "plot_resource('Gas', var_result_time_dep, var_name_time_dep)\n",
    "plt.show()"
   ]
  },
  {
   "cell_type": "code",
   "execution_count": null,
   "metadata": {},
   "outputs": [],
   "source": [
    "plot_units_resource('Gas', var_result_time_dep, var_name_time_dep)\n",
    "plt.show()"
   ]
  },
  {
   "cell_type": "code",
   "execution_count": null,
   "metadata": {},
   "outputs": [],
   "source": []
  },
  {
   "cell_type": "code",
   "execution_count": null,
   "metadata": {},
   "outputs": [],
   "source": [
    "def plot_PV_results(var_result, Irradiance):\n",
    "    fig, ax1 = plt.subplots()\n",
    "    plt.title('PV')\n",
    "    ax1.set_xlabel('Date')\n",
    "    ax1.set_ylabel('Electricity produced in kW')\n",
    "    ax2 = ax1.twinx()\n",
    "    ax2.set_ylabel('Global Irradiance in kW/m^2')\n",
    "    \n",
    "    name = 'prod[PV][Elec]'\n",
    "    ax1.plot(date[:-1], var_result[name], label = name, color=col(name))\n",
    "    name = 'Irradiance'\n",
    "    ax2.plot(date[:-1], Irradiance, label=name, color=col(name), linestyle='--')\n",
    "\n",
    "    ax1.legend(loc='center left') \n",
    "    ax2.legend(loc='center right')\n",
    "    \n",
    "plot_PV_results(var_result_time_dep, Irradiance)\n",
    "plt.show()"
   ]
  },
  {
   "cell_type": "code",
   "execution_count": null,
   "metadata": {},
   "outputs": [],
   "source": [
    "def plot_BAT_results(var_result):\n",
    "    fig, ax1 = plt.subplots()\n",
    "    plt.title('Battery')\n",
    "    ax1.set_xlabel('Date')\n",
    "    ax1.set_ylabel('Electricity exchanged by the battery in kW')\n",
    "    ax2 = ax1.twinx()\n",
    "    ax2.set_ylabel('Battery state of charge')\n",
    "    \n",
    "    name = 'prod[BAT][Elec]'\n",
    "    ax1.plot(date[:-1], var_result[name], label = name, color=col(name))\n",
    "    name = 'cons[BAT][Elec]'\n",
    "    ax1.plot(date[:-1], var_result[name], label = name, color=col(name), linestyle='--')\n",
    "    \n",
    "    name = 'bat_SOC'\n",
    "    ax2.plot(date[:-1], var_result[name], label=name, color=col(name))\n",
    "\n",
    "    ax1.legend(loc='upper left') \n",
    "    ax2.legend(loc='upper right')\n",
    "    \n",
    "plot_BAT_results(var_result_time_dep)\n",
    "plt.show()"
   ]
  },
  {
   "cell_type": "code",
   "execution_count": null,
   "metadata": {
    "scrolled": true
   },
   "outputs": [],
   "source": [
    "def plot_SOFC_results(var_result):\n",
    "    fig, ax1 = plt.subplots()\n",
    "    plt.title('SOFC')\n",
    "    ax1.set_xlabel('Date')\n",
    "    ax1.set_ylabel('Resources consumed and produced by the SOFC in kW')\n",
    "    ax2 = ax1.twinx()\n",
    "    ax2.set_ylabel('Heat produced by the SOFC in kW')\n",
    "    \n",
    "    name = 'prod[SOFC][Elec]'\n",
    "    ax1.plot(date[:-1], var_result[name], label = name, color=col(name))\n",
    "    name = 'cons[SOFC][Gas]'\n",
    "    ax1.plot(date[:-1], var_result[name], label = name, color=col(name), linestyle='--')\n",
    "    name = 'cons[SOFC][Biogas]'\n",
    "    ax1.plot(date[:-1], var_result[name], label = name, color=col(name), linestyle='--')\n",
    "    \n",
    "    name = 'prod[SOFC][Heat]'\n",
    "    ax2.plot(date[:-1], var_result[name], label=name, color=col(name), linestyle='-.')\n",
    "\n",
    "    ax1.legend(loc='upper left') \n",
    "    ax2.legend(loc='upper right')\n",
    "    \n",
    "plot_SOFC_results(var_result_time_dep)\n",
    "plt.show()"
   ]
  },
  {
   "cell_type": "code",
   "execution_count": null,
   "metadata": {},
   "outputs": [],
   "source": [
    "def normalize(l):\n",
    "    return [l[i]/max(l) for i in range(len(l))]"
   ]
  },
  {
   "cell_type": "code",
   "execution_count": null,
   "metadata": {
    "scrolled": true
   },
   "outputs": [],
   "source": [
    "def plot_all_results(var_result, var_name):\n",
    "    fig, ax1 = plt.subplots()\n",
    "    plt.xlabel('Date')\n",
    "    plt.ylabel('Variation')\n",
    "    \n",
    "    for v in var_name:\n",
    "        if 'prod' in v  or 'cons' in v:\n",
    "            variation = normalize(var_result[v])\n",
    "            plt.title(v)\n",
    "            plt.plot(date[:-1], variation, label = v)\n",
    "    \n",
    "    \n",
    "plot_all_results(var_result_time_dep, var_name_time_dep)\n",
    "plt.legend()\n",
    "plt.show()"
   ]
  },
  {
   "cell_type": "code",
   "execution_count": null,
   "metadata": {},
   "outputs": [],
   "source": [
    "marker_code = {'PV':'^', 'BAT':'d', 'BOI':'.', 'SOFC':'*', 'AD':'h', 'build': 's'}\n",
    "color_code = {'Elec':'royalblue', 'Biogas':'limegreen', 'Gas': 'gray', \n",
    "              'Heat': 'firebrick', 'Ext_t': 'navy', 'Irradiance': 'red', 'Diesel': 'black'}\n",
    "def col(name):\n",
    "    if '[' in name:\n",
    "        name = get_unit_name(name)\n",
    "    return Color_code[name]"
   ]
  },
  {
   "cell_type": "code",
   "execution_count": null,
   "metadata": {},
   "outputs": [],
   "source": [
    "v = list(var_name_time_dep)[0]"
   ]
  },
  {
   "cell_type": "code",
   "execution_count": null,
   "metadata": {},
   "outputs": [],
   "source": [
    "min(var_result_time_dep[v])*1.05"
   ]
  },
  {
   "cell_type": "code",
   "execution_count": null,
   "metadata": {},
   "outputs": [],
   "source": [
    "def plot_temperature_results(var_result):\n",
    "    fig, ax1 = plt.subplots()\n",
    "    plt.title('Weather and building temperatures')\n",
    "    ax1.set_xlabel('Date')\n",
    "    ax1.set_ylabel('Temperature in °C')\n",
    "    ax2 = ax1.twinx()\n",
    "    ax2.set_ylabel('Global Irradiance in kW/m^2')\n",
    "    \n",
    "    name = 'build_T'\n",
    "    ax1.plot(date[:-1], var_result[name], label = name, color=col(name))\n",
    "    name = 'unit_T[AD]'\n",
    "    ax1.plot(date[:-1], var_result[name], label = name, color=col(name))\n",
    "    name = 'Ext_T'\n",
    "    ax1.plot(date[:-1], Ext_T, label = name, color=col(name))\n",
    "    \n",
    "    name = 'Irradiance'\n",
    "    ax2.plot(date[:-1], Irradiance, label=name, color=col(name))\n",
    "\n",
    "    ax1.legend(loc='center left') \n",
    "    ax2.legend(loc='center right')\n",
    "    \n",
    "plot_temperature_results(var_result_time_dep)\n",
    "plt.show()"
   ]
  },
  {
   "cell_type": "code",
   "execution_count": null,
   "metadata": {},
   "outputs": [],
   "source": [
    "\n",
    "plt.rcParams['figure.figsize'] = [15, 5]\n",
    "period_start = S['Period_start'] + ' ' + S['Period_start_time']\n",
    "period_end = S['Period_end'] + ' ' + S['Period_start_time']\n",
    "timestep = S['Time_step']\n",
    "file = 'meteo_Liebensberg_10min.csv'\n",
    "\n",
    "df_weather = data.weather_data_to_df(file, period_start, period_end, timestep)\n",
    "\n",
    "date = df_weather.index\n",
    "irr = df_weather['Irradiance']\n",
    "temp = df_weather['Temperature']\n",
    "\n",
    "fig, ax1 = plt.subplots()\n",
    "\n",
    "c = 'red'\n",
    "ax1.set_xlabel('Date')\n",
    "ax1.set_ylabel('Irradiance in kW')\n",
    "ax1.plot(date, irr, color=c, label='Irradiance')\n",
    "ax1.tick_params(axis='y', labelcolor=c)\n",
    "fig.autofmt_xdate()\n",
    "\n",
    "ax2 = ax1.twinx()  # instantiate a second axes that shares the same x-axis\n",
    "\n",
    "c = 'blue'\n",
    "ax2.set_ylabel('Temperature in °C')  # we already handled the x-label with ax1\n",
    "ax2.plot(date, temp, color=c, label='Exterior Temperature')\n",
    "ax2.tick_params(axis='y', labelcolor=c)\n",
    "\n",
    "fig.tight_layout()  # otherwise the right y-label is slightly clipped\n",
    "plt.title('Weather data for Liebensberg from ' + S['Period_start']  + ' to ' + S['Period_end'] + \n",
    "          'and building temperatures')\n",
    "    \n",
    "ax2.plot(date[:-1], var_result_time_dep['build_T'], c='black', label='Building Temperature', ls='--')\n",
    "ax2.plot(date[:-1], var_result_time_dep['unit_T[AD]'], c='green', label='AD Temperature')\n",
    "plt.legend()"
   ]
  },
  {
   "cell_type": "code",
   "execution_count": null,
   "metadata": {},
   "outputs": [],
   "source": [
    "a = np.random.randint(10, size=10)\n",
    "a"
   ]
  },
  {
   "cell_type": "code",
   "execution_count": null,
   "metadata": {},
   "outputs": [],
   "source": [
    "[a[i]/max(a) for i in a]"
   ]
  },
  {
   "cell_type": "code",
   "execution_count": null,
   "metadata": {},
   "outputs": [],
   "source": [
    "os.path.join('results')"
   ]
  },
  {
   "cell_type": "code",
   "execution_count": null,
   "metadata": {},
   "outputs": [],
   "source": [
    "import os\n",
    "files=[]\n",
    "\n",
    "files = [f for f in sorted(os.listdir('results\\\\run_on_2020-04-16\\\\'))]"
   ]
  },
  {
   "cell_type": "code",
   "execution_count": null,
   "metadata": {},
   "outputs": [],
   "source": [
    "files"
   ]
  },
  {
   "cell_type": "code",
   "execution_count": null,
   "metadata": {},
   "outputs": [],
   "source": [
    "[int(i) for i in files]"
   ]
  },
  {
   "cell_type": "code",
   "execution_count": null,
   "metadata": {},
   "outputs": [],
   "source": [
    "max([int(i) for i in files])"
   ]
  },
  {
   "cell_type": "code",
   "execution_count": null,
   "metadata": {},
   "outputs": [],
   "source": [
    "run_nbr = max([int(i) for i in files]) + 1"
   ]
  },
  {
   "cell_type": "code",
   "execution_count": null,
   "metadata": {},
   "outputs": [],
   "source": [
    "now = datetime.now()\n",
    "today = now.strftime(\"%Y-%m-%d\")\n",
    "cd = os.path.join('results', 'run_on_{}'.format(today), '{}'.format(run_nbr), '')\n",
    "cd"
   ]
  },
  {
   "cell_type": "code",
   "execution_count": null,
   "metadata": {},
   "outputs": [],
   "source": [
    "os.makedirs(os.path.dirname(cd), exist_ok=True)"
   ]
  },
  {
   "cell_type": "code",
   "execution_count": null,
   "metadata": {},
   "outputs": [],
   "source": [
    "cd "
   ]
  },
  {
   "cell_type": "code",
   "execution_count": null,
   "metadata": {},
   "outputs": [],
   "source": [
    "s = 'cons[BAT][Elec]'"
   ]
  },
  {
   "cell_type": "code",
   "execution_count": null,
   "metadata": {},
   "outputs": [],
   "source": [
    "Units += ['build']"
   ]
  },
  {
   "cell_type": "code",
   "execution_count": null,
   "metadata": {},
   "outputs": [],
   "source": [
    "Units"
   ]
  },
  {
   "cell_type": "code",
   "execution_count": null,
   "metadata": {},
   "outputs": [],
   "source": [
    "for u in Units + ['build']:\n",
    "    if u in 'var_name_[]_buildLLL':\n",
    "        name = u\n",
    "name"
   ]
  },
  {
   "cell_type": "code",
   "execution_count": null,
   "metadata": {},
   "outputs": [],
   "source": [
    "fig, axs = plt.subplots(3, 1, sharex=True)\n",
    "# Remove horizontal space between axes\n",
    "fig.subplots_adjust(hspace=0)\n",
    "\n",
    "# Plot each graph, and manually set the y tick values\n",
    "axs[0].plot(t, s1)\n",
    "axs[0].set_yticks(np.arange(-0.9, 1.0, 0.4))\n",
    "axs[0].set_ylim(-1, 1)\n",
    "\n",
    "axs[1].plot(t, s2)\n",
    "axs[1].set_yticks(np.arange(0.1, 1.0, 0.2))\n",
    "axs[1].set_ylim(0, 1)\n",
    "\n",
    "axs[2].plot(t, s3)\n",
    "axs[2].set_yticks(np.arange(-0.9, 1.0, 0.4))\n",
    "axs[2].set_ylim(-1, 1)\n",
    "\n",
    "plt.show()"
   ]
  },
  {
   "cell_type": "code",
   "execution_count": null,
   "metadata": {},
   "outputs": [],
   "source": [
    "from global_param import Date, Ext_T, Irradiance, Build_cons_elec\n",
    "from global_set import Units, Units_storage, Resources, Color_code, Marker_code\n",
    "from run import var_result_time_dep, var_name_time_dep\n",
    "\n",
    "def get_resource_name(var_name):\n",
    "    \"\"\" Get the abbreviated name of a resoucre from a variable name string \"\"\"\n",
    "    name = []\n",
    "    for r in Resources:\n",
    "        if r in var_name:\n",
    "            name.append(r)\n",
    "    if not name:\n",
    "        name.append('default')\n",
    "    return(name[0])\n",
    "        \n",
    "def get_unit_name(var_name):\n",
    "    \"\"\" Get the abbreviated name of a unit from a variable name string \"\"\"\n",
    "    name = []\n",
    "    for u in Units + ['build', 'grid']:\n",
    "        if u in var_name:\n",
    "            name.append(u)\n",
    "    if not name:\n",
    "        name.append('default')\n",
    "    return(name[0])\n",
    "\n",
    "def col(var_name):\n",
    "    \"\"\" Return the color code of a corresponding unit \"\"\"\n",
    "    r = get_resource_name(var_name)\n",
    "    return Color_code[r]\n",
    "\n",
    "def mark(var_name):\n",
    "    \"\"\" Return the marker code of a corresponding resource \"\"\"\n",
    "    u = get_unit_name(var_name)\n",
    "    print(u, var_name)\n",
    "    return Marker_code[u]"
   ]
  },
  {
   "cell_type": "code",
   "execution_count": null,
   "metadata": {},
   "outputs": [],
   "source": [
    "def resource(resource, var_result, var_name):\n",
    "    fig, ax1 = plt.subplots()\n",
    "    ax1.set_xlabel('Date')\n",
    "    ax1.set_ylabel('Electricity exchanged with units in kW')\n",
    "    ax2 = ax1.twinx()\n",
    "    ax2.set_ylabel('Electricity exchanged with the grids and buildings in kW')\n",
    "\n",
    "    for n in var_name:\n",
    "        if resource in n:\n",
    "            if 'grid' not in n:\n",
    "                if 'prod' in n:\n",
    "                    ax1.scatter(Date, var_result[n], label=n, c=col(n), marker=mark(n))\n",
    "                else:\n",
    "                    ax1.scatter(Date, [var_result[n][p]*(-1) for p in Periods], \n",
    "                             label=n, c=col(n), marker=mark(n))\n",
    "            else:\n",
    "                if 'import' in n:\n",
    "                    ax2.scatter(Date, var_result[n], label=n, c=col(n), marker=mark(n))\n",
    "                else:\n",
    "                    ax2.scatter(Date, [var_result[n][p]*(-1) for p in Periods], \n",
    "                             label=n, c=col(n), marker=mark(n))\n",
    "    \n",
    "    if resource == 'Elec':\n",
    "        ax2.scatter(Date, Build_cons_elec, label = 'Building consumption', c=col('Elec'), marker=mark(n))\n",
    "        \n",
    "\n",
    "    ax1.legend(loc='center left') \n",
    "    ax2.legend(loc='center right')"
   ]
  },
  {
   "cell_type": "code",
   "execution_count": null,
   "metadata": {},
   "outputs": [],
   "source": []
  },
  {
   "cell_type": "code",
   "execution_count": null,
   "metadata": {},
   "outputs": [],
   "source": [
    "Resources"
   ]
  },
  {
   "cell_type": "code",
   "execution_count": null,
   "metadata": {},
   "outputs": [],
   "source": [
    "var_name"
   ]
  },
  {
   "cell_type": "code",
   "execution_count": null,
   "metadata": {},
   "outputs": [],
   "source": [
    "for v in var_name:\n",
    "    print(v)\n",
    "    name = []\n",
    "    for r in Resources:\n",
    "        if r in v:\n",
    "            name.append(r)\n",
    "    if not name:\n",
    "        name.append('Default')\n",
    "    print(name[0])"
   ]
  },
  {
   "cell_type": "code",
   "execution_count": null,
   "metadata": {},
   "outputs": [],
   "source": [
    "for n in var_name:\n",
    "    print(n)\n",
    "    print('max', max(var_result[n]))\n",
    "    print('min', min(var_result[n]))\n",
    "    if max(var_result[n]) <= 1.25*min(var_result[n]):\n",
    "        var_name.remove(n)\n",
    "var_name"
   ]
  },
  {
   "cell_type": "code",
   "execution_count": null,
   "metadata": {},
   "outputs": [],
   "source": [
    "\n",
    "fig, axs = plt.subplots(len(var_name), 1, sharex=True)\n",
    "fig.set_size_inches(20, 50)\n",
    "plt.xlabel('Date')\n",
    "fig.subplots_adjust(hspace=0)\n",
    "i = 0\n",
    "for n in var_name:\n",
    "    axs[i].plot(Date, var_result[n], label=n, c=col(n))\n",
    "    axs[i].legend()\n",
    "    axs[i].set_ylabel(get_resource_name(n))\n",
    "    i += 1"
   ]
  },
  {
   "cell_type": "code",
   "execution_count": null,
   "metadata": {},
   "outputs": [],
   "source": [
    "P={'AD':{'eff': 2}}"
   ]
  },
  {
   "cell_type": "code",
   "execution_count": null,
   "metadata": {},
   "outputs": [],
   "source": [
    "P['AD']['eff']"
   ]
  },
  {
   "cell_type": "code",
   "execution_count": null,
   "metadata": {},
   "outputs": [],
   "source": []
  },
  {
   "cell_type": "code",
   "execution_count": null,
   "metadata": {},
   "outputs": [],
   "source": []
  },
  {
   "cell_type": "code",
   "execution_count": null,
   "metadata": {},
   "outputs": [],
   "source": []
  }
 ],
 "metadata": {
  "kernelspec": {
   "display_name": "Python 3",
   "language": "python",
   "name": "python3"
  },
  "language_info": {
   "codemirror_mode": {
    "name": "ipython",
    "version": 3
   },
   "file_extension": ".py",
   "mimetype": "text/x-python",
   "name": "python",
   "nbconvert_exporter": "python",
   "pygments_lexer": "ipython3",
   "version": "3.7.7"
  }
 },
 "nbformat": 4,
 "nbformat_minor": 4
}
